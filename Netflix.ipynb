{
 "cells": [
  {
   "cell_type": "code",
   "execution_count": 1,
   "id": "82b25f16-6107-45a4-b906-45c0c0df729b",
   "metadata": {},
   "outputs": [],
   "source": [
    "import pandas as pd\n",
    "import numpy as np\n",
    "import seaborn as sns\n",
    "from matplotlib import pyplot as plt \n",
    "from sklearn.impute import SimpleImputer \n",
    "from sklearn.preprocessing import OneHotEncoder , OrdinalEncoder , LabelEncoder , StandardScaler , MinMaxScaler \n",
    "from sklearn.compose import ColumnTransformer \n",
    "from sklearn.model_selection import train_test_split\n",
    "from sklearn.feature_selection import SelectKBest , chi2\n",
    "from sklearn.tree import DecisionTreeClassifier\n",
    "from sklearn.pipeline import Pipeline , make_pipeline\n",
    "from sklearn.metrics import accuracy_score\n",
    "import warnings \n",
    "warnings.filterwarnings('ignore')"
   ]
  },
  {
   "cell_type": "code",
   "execution_count": 2,
   "id": "4280518b-8a31-4f5b-bf92-db47adf514cb",
   "metadata": {},
   "outputs": [],
   "source": [
    "# data = pd.read_csv('C:\\\\DATA SCIENCE\\\\Assignment\\\\Data\\\\Netflix\\\\credits.csv')"
   ]
  },
  {
   "cell_type": "code",
   "execution_count": 3,
   "id": "59285214-1dfb-4033-9b99-cb84b7d4f4de",
   "metadata": {},
   "outputs": [],
   "source": [
    "data2 = pd.read_csv('C:\\\\DATA SCIENCE\\\\Assignment\\\\Data\\\\Netflix\\\\titles.csv')"
   ]
  },
  {
   "cell_type": "code",
   "execution_count": 4,
   "id": "5906a724-a26a-462b-b8b3-39fad339b086",
   "metadata": {},
   "outputs": [],
   "source": [
    "# data.head(3)"
   ]
  },
  {
   "cell_type": "code",
   "execution_count": 5,
   "id": "89eb0f3f-3ef4-4cfe-84ba-e63c34b35083",
   "metadata": {},
   "outputs": [
    {
     "data": {
      "text/html": [
       "<div>\n",
       "<style scoped>\n",
       "    .dataframe tbody tr th:only-of-type {\n",
       "        vertical-align: middle;\n",
       "    }\n",
       "\n",
       "    .dataframe tbody tr th {\n",
       "        vertical-align: top;\n",
       "    }\n",
       "\n",
       "    .dataframe thead th {\n",
       "        text-align: right;\n",
       "    }\n",
       "</style>\n",
       "<table border=\"1\" class=\"dataframe\">\n",
       "  <thead>\n",
       "    <tr style=\"text-align: right;\">\n",
       "      <th></th>\n",
       "      <th>id</th>\n",
       "      <th>title</th>\n",
       "      <th>type</th>\n",
       "      <th>description</th>\n",
       "      <th>release_year</th>\n",
       "      <th>age_certification</th>\n",
       "      <th>runtime</th>\n",
       "      <th>genres</th>\n",
       "      <th>production_countries</th>\n",
       "      <th>seasons</th>\n",
       "      <th>imdb_id</th>\n",
       "      <th>imdb_score</th>\n",
       "      <th>imdb_votes</th>\n",
       "      <th>tmdb_popularity</th>\n",
       "      <th>tmdb_score</th>\n",
       "    </tr>\n",
       "  </thead>\n",
       "  <tbody>\n",
       "    <tr>\n",
       "      <th>0</th>\n",
       "      <td>ts300399</td>\n",
       "      <td>Five Came Back: The Reference Films</td>\n",
       "      <td>SHOW</td>\n",
       "      <td>This collection includes 12 World War II-era p...</td>\n",
       "      <td>1945</td>\n",
       "      <td>TV-MA</td>\n",
       "      <td>51</td>\n",
       "      <td>['documentation']</td>\n",
       "      <td>['US']</td>\n",
       "      <td>1.0</td>\n",
       "      <td>NaN</td>\n",
       "      <td>NaN</td>\n",
       "      <td>NaN</td>\n",
       "      <td>0.600</td>\n",
       "      <td>NaN</td>\n",
       "    </tr>\n",
       "    <tr>\n",
       "      <th>1</th>\n",
       "      <td>tm84618</td>\n",
       "      <td>Taxi Driver</td>\n",
       "      <td>MOVIE</td>\n",
       "      <td>A mentally unstable Vietnam War veteran works ...</td>\n",
       "      <td>1976</td>\n",
       "      <td>R</td>\n",
       "      <td>114</td>\n",
       "      <td>['drama', 'crime']</td>\n",
       "      <td>['US']</td>\n",
       "      <td>NaN</td>\n",
       "      <td>tt0075314</td>\n",
       "      <td>8.2</td>\n",
       "      <td>808582.0</td>\n",
       "      <td>40.965</td>\n",
       "      <td>8.179</td>\n",
       "    </tr>\n",
       "    <tr>\n",
       "      <th>2</th>\n",
       "      <td>tm154986</td>\n",
       "      <td>Deliverance</td>\n",
       "      <td>MOVIE</td>\n",
       "      <td>Intent on seeing the Cahulawassee River before...</td>\n",
       "      <td>1972</td>\n",
       "      <td>R</td>\n",
       "      <td>109</td>\n",
       "      <td>['drama', 'action', 'thriller', 'european']</td>\n",
       "      <td>['US']</td>\n",
       "      <td>NaN</td>\n",
       "      <td>tt0068473</td>\n",
       "      <td>7.7</td>\n",
       "      <td>107673.0</td>\n",
       "      <td>10.010</td>\n",
       "      <td>7.300</td>\n",
       "    </tr>\n",
       "  </tbody>\n",
       "</table>\n",
       "</div>"
      ],
      "text/plain": [
       "         id                                title   type  \\\n",
       "0  ts300399  Five Came Back: The Reference Films   SHOW   \n",
       "1   tm84618                          Taxi Driver  MOVIE   \n",
       "2  tm154986                          Deliverance  MOVIE   \n",
       "\n",
       "                                         description  release_year  \\\n",
       "0  This collection includes 12 World War II-era p...          1945   \n",
       "1  A mentally unstable Vietnam War veteran works ...          1976   \n",
       "2  Intent on seeing the Cahulawassee River before...          1972   \n",
       "\n",
       "  age_certification  runtime                                       genres  \\\n",
       "0             TV-MA       51                            ['documentation']   \n",
       "1                 R      114                           ['drama', 'crime']   \n",
       "2                 R      109  ['drama', 'action', 'thriller', 'european']   \n",
       "\n",
       "  production_countries  seasons    imdb_id  imdb_score  imdb_votes  \\\n",
       "0               ['US']      1.0        NaN         NaN         NaN   \n",
       "1               ['US']      NaN  tt0075314         8.2    808582.0   \n",
       "2               ['US']      NaN  tt0068473         7.7    107673.0   \n",
       "\n",
       "   tmdb_popularity  tmdb_score  \n",
       "0            0.600         NaN  \n",
       "1           40.965       8.179  \n",
       "2           10.010       7.300  "
      ]
     },
     "execution_count": 5,
     "metadata": {},
     "output_type": "execute_result"
    }
   ],
   "source": [
    "data2.head(3)"
   ]
  },
  {
   "cell_type": "code",
   "execution_count": 6,
   "id": "d0ce09b4-2ae9-40e5-a199-09db7bdc41e3",
   "metadata": {},
   "outputs": [
    {
     "data": {
      "text/html": [
       "<div>\n",
       "<style scoped>\n",
       "    .dataframe tbody tr th:only-of-type {\n",
       "        vertical-align: middle;\n",
       "    }\n",
       "\n",
       "    .dataframe tbody tr th {\n",
       "        vertical-align: top;\n",
       "    }\n",
       "\n",
       "    .dataframe thead th {\n",
       "        text-align: right;\n",
       "    }\n",
       "</style>\n",
       "<table border=\"1\" class=\"dataframe\">\n",
       "  <thead>\n",
       "    <tr style=\"text-align: right;\">\n",
       "      <th></th>\n",
       "      <th>id</th>\n",
       "      <th>title</th>\n",
       "      <th>type</th>\n",
       "      <th>description</th>\n",
       "      <th>release_year</th>\n",
       "      <th>age_certification</th>\n",
       "      <th>runtime</th>\n",
       "      <th>genres</th>\n",
       "      <th>production_countries</th>\n",
       "      <th>seasons</th>\n",
       "      <th>imdb_id</th>\n",
       "      <th>imdb_score</th>\n",
       "      <th>imdb_votes</th>\n",
       "      <th>tmdb_popularity</th>\n",
       "      <th>tmdb_score</th>\n",
       "    </tr>\n",
       "  </thead>\n",
       "  <tbody>\n",
       "    <tr>\n",
       "      <th>5847</th>\n",
       "      <td>tm1059008</td>\n",
       "      <td>Lokillo</td>\n",
       "      <td>MOVIE</td>\n",
       "      <td>A controversial TV host and comedian who has b...</td>\n",
       "      <td>2021</td>\n",
       "      <td>NaN</td>\n",
       "      <td>90</td>\n",
       "      <td>['comedy']</td>\n",
       "      <td>['CO']</td>\n",
       "      <td>NaN</td>\n",
       "      <td>tt14585902</td>\n",
       "      <td>3.8</td>\n",
       "      <td>68.0</td>\n",
       "      <td>26.005</td>\n",
       "      <td>6.3</td>\n",
       "    </tr>\n",
       "    <tr>\n",
       "      <th>5848</th>\n",
       "      <td>tm1035612</td>\n",
       "      <td>Dad Stop Embarrassing Me - The Afterparty</td>\n",
       "      <td>MOVIE</td>\n",
       "      <td>Jamie Foxx, David Alan Grier and more from the...</td>\n",
       "      <td>2021</td>\n",
       "      <td>PG-13</td>\n",
       "      <td>37</td>\n",
       "      <td>[]</td>\n",
       "      <td>['US']</td>\n",
       "      <td>NaN</td>\n",
       "      <td>NaN</td>\n",
       "      <td>NaN</td>\n",
       "      <td>NaN</td>\n",
       "      <td>1.296</td>\n",
       "      <td>10.0</td>\n",
       "    </tr>\n",
       "    <tr>\n",
       "      <th>5849</th>\n",
       "      <td>ts271048</td>\n",
       "      <td>Mighty Little Bheem: Kite Festival</td>\n",
       "      <td>SHOW</td>\n",
       "      <td>With winter behind them, Bheem and his townspe...</td>\n",
       "      <td>2021</td>\n",
       "      <td>NaN</td>\n",
       "      <td>7</td>\n",
       "      <td>['family', 'animation', 'comedy']</td>\n",
       "      <td>[]</td>\n",
       "      <td>1.0</td>\n",
       "      <td>tt13711094</td>\n",
       "      <td>7.8</td>\n",
       "      <td>18.0</td>\n",
       "      <td>2.289</td>\n",
       "      <td>10.0</td>\n",
       "    </tr>\n",
       "  </tbody>\n",
       "</table>\n",
       "</div>"
      ],
      "text/plain": [
       "             id                                      title   type  \\\n",
       "5847  tm1059008                                    Lokillo  MOVIE   \n",
       "5848  tm1035612  Dad Stop Embarrassing Me - The Afterparty  MOVIE   \n",
       "5849   ts271048         Mighty Little Bheem: Kite Festival   SHOW   \n",
       "\n",
       "                                            description  release_year  \\\n",
       "5847  A controversial TV host and comedian who has b...          2021   \n",
       "5848  Jamie Foxx, David Alan Grier and more from the...          2021   \n",
       "5849  With winter behind them, Bheem and his townspe...          2021   \n",
       "\n",
       "     age_certification  runtime                             genres  \\\n",
       "5847               NaN       90                         ['comedy']   \n",
       "5848             PG-13       37                                 []   \n",
       "5849               NaN        7  ['family', 'animation', 'comedy']   \n",
       "\n",
       "     production_countries  seasons     imdb_id  imdb_score  imdb_votes  \\\n",
       "5847               ['CO']      NaN  tt14585902         3.8        68.0   \n",
       "5848               ['US']      NaN         NaN         NaN         NaN   \n",
       "5849                   []      1.0  tt13711094         7.8        18.0   \n",
       "\n",
       "      tmdb_popularity  tmdb_score  \n",
       "5847           26.005         6.3  \n",
       "5848            1.296        10.0  \n",
       "5849            2.289        10.0  "
      ]
     },
     "execution_count": 6,
     "metadata": {},
     "output_type": "execute_result"
    }
   ],
   "source": [
    "data2.tail(3)"
   ]
  },
  {
   "cell_type": "code",
   "execution_count": 7,
   "id": "7d16a0aa-3398-4743-815f-96486d266ba1",
   "metadata": {},
   "outputs": [
    {
     "data": {
      "text/plain": [
       "(5850, 15)"
      ]
     },
     "execution_count": 7,
     "metadata": {},
     "output_type": "execute_result"
    }
   ],
   "source": [
    "data2.shape"
   ]
  },
  {
   "cell_type": "code",
   "execution_count": 8,
   "id": "b1f41a05-e26a-4bd8-8491-a6cb73c6b7a5",
   "metadata": {},
   "outputs": [
    {
     "data": {
      "text/html": [
       "<div>\n",
       "<style scoped>\n",
       "    .dataframe tbody tr th:only-of-type {\n",
       "        vertical-align: middle;\n",
       "    }\n",
       "\n",
       "    .dataframe tbody tr th {\n",
       "        vertical-align: top;\n",
       "    }\n",
       "\n",
       "    .dataframe thead th {\n",
       "        text-align: right;\n",
       "    }\n",
       "</style>\n",
       "<table border=\"1\" class=\"dataframe\">\n",
       "  <thead>\n",
       "    <tr style=\"text-align: right;\">\n",
       "      <th></th>\n",
       "      <th>id</th>\n",
       "      <th>title</th>\n",
       "      <th>type</th>\n",
       "      <th>description</th>\n",
       "      <th>release_year</th>\n",
       "      <th>age_certification</th>\n",
       "      <th>runtime</th>\n",
       "      <th>genres</th>\n",
       "      <th>production_countries</th>\n",
       "      <th>seasons</th>\n",
       "      <th>imdb_id</th>\n",
       "      <th>imdb_score</th>\n",
       "      <th>imdb_votes</th>\n",
       "      <th>tmdb_popularity</th>\n",
       "      <th>tmdb_score</th>\n",
       "    </tr>\n",
       "  </thead>\n",
       "  <tbody>\n",
       "    <tr>\n",
       "      <th>337</th>\n",
       "      <td>tm86189</td>\n",
       "      <td>Good Luck Chuck</td>\n",
       "      <td>MOVIE</td>\n",
       "      <td>Cursed since childhood, dentist Charlie Logan ...</td>\n",
       "      <td>2007</td>\n",
       "      <td>NaN</td>\n",
       "      <td>101</td>\n",
       "      <td>['comedy', 'romance']</td>\n",
       "      <td>['US', 'CA']</td>\n",
       "      <td>NaN</td>\n",
       "      <td>tt0452625</td>\n",
       "      <td>5.6</td>\n",
       "      <td>90212.0</td>\n",
       "      <td>30.423</td>\n",
       "      <td>5.9</td>\n",
       "    </tr>\n",
       "  </tbody>\n",
       "</table>\n",
       "</div>"
      ],
      "text/plain": [
       "          id            title   type  \\\n",
       "337  tm86189  Good Luck Chuck  MOVIE   \n",
       "\n",
       "                                           description  release_year  \\\n",
       "337  Cursed since childhood, dentist Charlie Logan ...          2007   \n",
       "\n",
       "    age_certification  runtime                 genres production_countries  \\\n",
       "337               NaN      101  ['comedy', 'romance']         ['US', 'CA']   \n",
       "\n",
       "     seasons    imdb_id  imdb_score  imdb_votes  tmdb_popularity  tmdb_score  \n",
       "337      NaN  tt0452625         5.6     90212.0           30.423         5.9  "
      ]
     },
     "execution_count": 8,
     "metadata": {},
     "output_type": "execute_result"
    }
   ],
   "source": [
    "data2.sample()"
   ]
  },
  {
   "cell_type": "code",
   "execution_count": 9,
   "id": "7b835968-3282-41e7-85f0-804cc61f5c94",
   "metadata": {},
   "outputs": [
    {
     "name": "stdout",
     "output_type": "stream",
     "text": [
      "<class 'pandas.core.frame.DataFrame'>\n",
      "RangeIndex: 5850 entries, 0 to 5849\n",
      "Data columns (total 15 columns):\n",
      " #   Column                Non-Null Count  Dtype  \n",
      "---  ------                --------------  -----  \n",
      " 0   id                    5850 non-null   object \n",
      " 1   title                 5849 non-null   object \n",
      " 2   type                  5850 non-null   object \n",
      " 3   description           5832 non-null   object \n",
      " 4   release_year          5850 non-null   int64  \n",
      " 5   age_certification     3231 non-null   object \n",
      " 6   runtime               5850 non-null   int64  \n",
      " 7   genres                5850 non-null   object \n",
      " 8   production_countries  5850 non-null   object \n",
      " 9   seasons               2106 non-null   float64\n",
      " 10  imdb_id               5447 non-null   object \n",
      " 11  imdb_score            5368 non-null   float64\n",
      " 12  imdb_votes            5352 non-null   float64\n",
      " 13  tmdb_popularity       5759 non-null   float64\n",
      " 14  tmdb_score            5539 non-null   float64\n",
      "dtypes: float64(5), int64(2), object(8)\n",
      "memory usage: 685.7+ KB\n"
     ]
    }
   ],
   "source": [
    "data2.info()"
   ]
  },
  {
   "cell_type": "code",
   "execution_count": 10,
   "id": "f22cdcd3-a5f2-4571-ad56-8a30cb02d099",
   "metadata": {},
   "outputs": [
    {
     "data": {
      "text/plain": [
       "id                         0\n",
       "title                      1\n",
       "type                       0\n",
       "description               18\n",
       "release_year               0\n",
       "age_certification       2619\n",
       "runtime                    0\n",
       "genres                     0\n",
       "production_countries       0\n",
       "seasons                 3744\n",
       "imdb_id                  403\n",
       "imdb_score               482\n",
       "imdb_votes               498\n",
       "tmdb_popularity           91\n",
       "tmdb_score               311\n",
       "dtype: int64"
      ]
     },
     "execution_count": 10,
     "metadata": {},
     "output_type": "execute_result"
    }
   ],
   "source": [
    "data2.isnull().sum()"
   ]
  },
  {
   "cell_type": "code",
   "execution_count": 11,
   "id": "13250434-5731-40e3-ba55-4f46d94e6059",
   "metadata": {},
   "outputs": [
    {
     "data": {
      "text/plain": [
       "id                       0.000000\n",
       "title                    0.017094\n",
       "type                     0.000000\n",
       "description              0.307692\n",
       "release_year             0.000000\n",
       "age_certification       44.769231\n",
       "runtime                  0.000000\n",
       "genres                   0.000000\n",
       "production_countries     0.000000\n",
       "seasons                 64.000000\n",
       "imdb_id                  6.888889\n",
       "imdb_score               8.239316\n",
       "imdb_votes               8.512821\n",
       "tmdb_popularity          1.555556\n",
       "tmdb_score               5.316239\n",
       "dtype: float64"
      ]
     },
     "execution_count": 11,
     "metadata": {},
     "output_type": "execute_result"
    }
   ],
   "source": [
    "data2.isnull().sum()*100/len(data2)"
   ]
  },
  {
   "cell_type": "code",
   "execution_count": 12,
   "id": "44269c80-c9c2-438b-a30e-55d362e62c7c",
   "metadata": {},
   "outputs": [
    {
     "data": {
      "text/plain": [
       "array([ 1., nan,  4.,  9., 24.,  5., 39., 10., 13., 42., 25., 21., 37.,\n",
       "        8., 29.,  7., 11., 14., 12.,  6., 32., 15., 19.,  2., 20.,  3.,\n",
       "       16.])"
      ]
     },
     "execution_count": 12,
     "metadata": {},
     "output_type": "execute_result"
    }
   ],
   "source": [
    "data2['seasons'].unique()"
   ]
  },
  {
   "cell_type": "code",
   "execution_count": 13,
   "id": "fc152b52-2d24-4ba9-b474-0f4685316af5",
   "metadata": {},
   "outputs": [
    {
     "data": {
      "text/html": [
       "<div>\n",
       "<style scoped>\n",
       "    .dataframe tbody tr th:only-of-type {\n",
       "        vertical-align: middle;\n",
       "    }\n",
       "\n",
       "    .dataframe tbody tr th {\n",
       "        vertical-align: top;\n",
       "    }\n",
       "\n",
       "    .dataframe thead th {\n",
       "        text-align: right;\n",
       "    }\n",
       "</style>\n",
       "<table border=\"1\" class=\"dataframe\">\n",
       "  <thead>\n",
       "    <tr style=\"text-align: right;\">\n",
       "      <th></th>\n",
       "      <th>release_year</th>\n",
       "      <th>runtime</th>\n",
       "      <th>seasons</th>\n",
       "      <th>imdb_score</th>\n",
       "      <th>imdb_votes</th>\n",
       "      <th>tmdb_popularity</th>\n",
       "      <th>tmdb_score</th>\n",
       "    </tr>\n",
       "  </thead>\n",
       "  <tbody>\n",
       "    <tr>\n",
       "      <th>count</th>\n",
       "      <td>5850.000000</td>\n",
       "      <td>5850.000000</td>\n",
       "      <td>2106.000000</td>\n",
       "      <td>5368.000000</td>\n",
       "      <td>5.352000e+03</td>\n",
       "      <td>5759.000000</td>\n",
       "      <td>5539.000000</td>\n",
       "    </tr>\n",
       "    <tr>\n",
       "      <th>mean</th>\n",
       "      <td>2016.417094</td>\n",
       "      <td>76.888889</td>\n",
       "      <td>2.162868</td>\n",
       "      <td>6.510861</td>\n",
       "      <td>2.343938e+04</td>\n",
       "      <td>22.637925</td>\n",
       "      <td>6.829175</td>\n",
       "    </tr>\n",
       "    <tr>\n",
       "      <th>std</th>\n",
       "      <td>6.937726</td>\n",
       "      <td>39.002509</td>\n",
       "      <td>2.689041</td>\n",
       "      <td>1.163826</td>\n",
       "      <td>9.582047e+04</td>\n",
       "      <td>81.680263</td>\n",
       "      <td>1.170391</td>\n",
       "    </tr>\n",
       "    <tr>\n",
       "      <th>min</th>\n",
       "      <td>1945.000000</td>\n",
       "      <td>0.000000</td>\n",
       "      <td>1.000000</td>\n",
       "      <td>1.500000</td>\n",
       "      <td>5.000000e+00</td>\n",
       "      <td>0.009442</td>\n",
       "      <td>0.500000</td>\n",
       "    </tr>\n",
       "    <tr>\n",
       "      <th>25%</th>\n",
       "      <td>2016.000000</td>\n",
       "      <td>44.000000</td>\n",
       "      <td>1.000000</td>\n",
       "      <td>5.800000</td>\n",
       "      <td>5.167500e+02</td>\n",
       "      <td>2.728500</td>\n",
       "      <td>6.100000</td>\n",
       "    </tr>\n",
       "    <tr>\n",
       "      <th>50%</th>\n",
       "      <td>2018.000000</td>\n",
       "      <td>83.000000</td>\n",
       "      <td>1.000000</td>\n",
       "      <td>6.600000</td>\n",
       "      <td>2.233500e+03</td>\n",
       "      <td>6.821000</td>\n",
       "      <td>6.900000</td>\n",
       "    </tr>\n",
       "    <tr>\n",
       "      <th>75%</th>\n",
       "      <td>2020.000000</td>\n",
       "      <td>104.000000</td>\n",
       "      <td>2.000000</td>\n",
       "      <td>7.300000</td>\n",
       "      <td>9.494000e+03</td>\n",
       "      <td>16.590000</td>\n",
       "      <td>7.537500</td>\n",
       "    </tr>\n",
       "    <tr>\n",
       "      <th>max</th>\n",
       "      <td>2022.000000</td>\n",
       "      <td>240.000000</td>\n",
       "      <td>42.000000</td>\n",
       "      <td>9.600000</td>\n",
       "      <td>2.294231e+06</td>\n",
       "      <td>2274.044000</td>\n",
       "      <td>10.000000</td>\n",
       "    </tr>\n",
       "  </tbody>\n",
       "</table>\n",
       "</div>"
      ],
      "text/plain": [
       "       release_year      runtime      seasons   imdb_score    imdb_votes  \\\n",
       "count   5850.000000  5850.000000  2106.000000  5368.000000  5.352000e+03   \n",
       "mean    2016.417094    76.888889     2.162868     6.510861  2.343938e+04   \n",
       "std        6.937726    39.002509     2.689041     1.163826  9.582047e+04   \n",
       "min     1945.000000     0.000000     1.000000     1.500000  5.000000e+00   \n",
       "25%     2016.000000    44.000000     1.000000     5.800000  5.167500e+02   \n",
       "50%     2018.000000    83.000000     1.000000     6.600000  2.233500e+03   \n",
       "75%     2020.000000   104.000000     2.000000     7.300000  9.494000e+03   \n",
       "max     2022.000000   240.000000    42.000000     9.600000  2.294231e+06   \n",
       "\n",
       "       tmdb_popularity   tmdb_score  \n",
       "count      5759.000000  5539.000000  \n",
       "mean         22.637925     6.829175  \n",
       "std          81.680263     1.170391  \n",
       "min           0.009442     0.500000  \n",
       "25%           2.728500     6.100000  \n",
       "50%           6.821000     6.900000  \n",
       "75%          16.590000     7.537500  \n",
       "max        2274.044000    10.000000  "
      ]
     },
     "execution_count": 13,
     "metadata": {},
     "output_type": "execute_result"
    }
   ],
   "source": [
    "data2.describe()"
   ]
  },
  {
   "cell_type": "code",
   "execution_count": 14,
   "id": "b4e88749-7c65-4c41-955d-a73771d7bf1d",
   "metadata": {},
   "outputs": [
    {
     "data": {
      "text/plain": [
       "np.float64(1.0)"
      ]
     },
     "execution_count": 14,
     "metadata": {},
     "output_type": "execute_result"
    }
   ],
   "source": [
    "data2['seasons'].median()"
   ]
  },
  {
   "cell_type": "code",
   "execution_count": 15,
   "id": "3474c467-5e36-416f-8d89-3d17e4574708",
   "metadata": {},
   "outputs": [
    {
     "data": {
      "text/plain": [
       "<Axes: xlabel='seasons'>"
      ]
     },
     "execution_count": 15,
     "metadata": {},
     "output_type": "execute_result"
    },
    {
     "data": {
      "image/png": "[encoded data removed]",
      "text/plain": [
       "<Figure size 640x480 with 1 Axes>"
      ]
     },
     "metadata": {},
     "output_type": "display_data"
    }
   ],
   "source": [
    "sns.boxplot(x = data2['seasons'])"
   ]
  },
  {
   "cell_type": "code",
   "execution_count": 16,
   "id": "238aeaae-97ab-4121-81e1-576f8988e303",
   "metadata": {},
   "outputs": [],
   "source": [
    "# Q1 = data2['seasons'].quantile(0.25)\n",
    "# Q3 = data2['seasons'].quantile(0.75)\n",
    "# IQR = Q3 - Q1\n",
    "# lower_bound = Q1 - 1.5 * IQR\n",
    "# upper_bound = Q3 + 1.5 * IQR\n",
    "\n",
    "# data2= data2[(data2['seasons'] >= lower_bound) & (data2['seasons'] <= upper_bound)]"
   ]
  },
  {
   "cell_type": "code",
   "execution_count": 17,
   "id": "47064355-311f-479a-bffe-1ed3b76850c2",
   "metadata": {},
   "outputs": [],
   "source": [
    "Q1 = data2['seasons'].quantile(0.25)\n",
    "Q3 = data2['seasons'].quantile(0.75)\n",
    "IQR = Q3 - Q1\n",
    "lower_bound = Q1 - 1.5 * IQR\n",
    "upper_bound = Q3 + 1.5 * IQR\n",
    "\n",
    "\n",
    "\n",
    "\n",
    "data2['seasons'] = data2['seasons'].where(\n",
    "    (data2['seasons'] >= lower_bound) & (data2['seasons'] <= upper_bound), \n",
    "    other=np.nan\n",
    ")"
   ]
  },
  {
   "cell_type": "code",
   "execution_count": 18,
   "id": "43d89ff9-785d-43d2-a15f-990976f09d15",
   "metadata": {},
   "outputs": [],
   "source": [
    "data2['seasons'] = data2['seasons'].fillna(data2['seasons'].median())\n"
   ]
  },
  {
   "cell_type": "code",
   "execution_count": null,
   "id": "98dba4bc-e764-4efb-8b15-71eab8e79531",
   "metadata": {},
   "outputs": [],
   "source": []
  },
  {
   "cell_type": "code",
   "execution_count": null,
   "id": "f9913052-bf29-49e7-a5bf-b7f3894afbfd",
   "metadata": {},
   "outputs": [],
   "source": []
  },
  {
   "cell_type": "code",
   "execution_count": null,
   "id": "db2a44eb-5b89-4958-a4ba-6f76129ee673",
   "metadata": {},
   "outputs": [],
   "source": []
  },
  {
   "cell_type": "code",
   "execution_count": null,
   "id": "666033fd-3a79-4bea-8a05-4019e9c4acbd",
   "metadata": {},
   "outputs": [],
   "source": []
  },
  {
   "cell_type": "code",
   "execution_count": null,
   "id": "8e981feb-2d75-4ca4-9d48-e48c9853981b",
   "metadata": {},
   "outputs": [],
   "source": []
  },
  {
   "cell_type": "code",
   "execution_count": 19,
   "id": "60d27611-29b4-4785-a76c-44f8c526cbee",
   "metadata": {},
   "outputs": [
    {
     "data": {
      "text/plain": [
       "<Axes: xlabel='seasons'>"
      ]
     },
     "execution_count": 19,
     "metadata": {},
     "output_type": "execute_result"
    },
    {
     "data": {
      "image/png": "[encoded data removed]",
      "text/plain": [
       "<Figure size 640x480 with 1 Axes>"
      ]
     },
     "metadata": {},
     "output_type": "display_data"
    }
   ],
   "source": [
    "sns.boxplot(x = data2['seasons'])"
   ]
  },
  {
   "cell_type": "code",
   "execution_count": 20,
   "id": "d7a89512-5a63-48ad-9e85-50bdb94f0e57",
   "metadata": {},
   "outputs": [
    {
     "data": {
      "text/html": [
       "<div>\n",
       "<style scoped>\n",
       "    .dataframe tbody tr th:only-of-type {\n",
       "        vertical-align: middle;\n",
       "    }\n",
       "\n",
       "    .dataframe tbody tr th {\n",
       "        vertical-align: top;\n",
       "    }\n",
       "\n",
       "    .dataframe thead th {\n",
       "        text-align: right;\n",
       "    }\n",
       "</style>\n",
       "<table border=\"1\" class=\"dataframe\">\n",
       "  <thead>\n",
       "    <tr style=\"text-align: right;\">\n",
       "      <th></th>\n",
       "      <th>release_year</th>\n",
       "      <th>runtime</th>\n",
       "      <th>seasons</th>\n",
       "      <th>imdb_score</th>\n",
       "      <th>imdb_votes</th>\n",
       "      <th>tmdb_popularity</th>\n",
       "      <th>tmdb_score</th>\n",
       "    </tr>\n",
       "  </thead>\n",
       "  <tbody>\n",
       "    <tr>\n",
       "      <th>count</th>\n",
       "      <td>5850.000000</td>\n",
       "      <td>5850.000000</td>\n",
       "      <td>5850.000000</td>\n",
       "      <td>5368.000000</td>\n",
       "      <td>5.352000e+03</td>\n",
       "      <td>5759.000000</td>\n",
       "      <td>5539.000000</td>\n",
       "    </tr>\n",
       "    <tr>\n",
       "      <th>mean</th>\n",
       "      <td>2016.417094</td>\n",
       "      <td>76.888889</td>\n",
       "      <td>1.130427</td>\n",
       "      <td>6.510861</td>\n",
       "      <td>2.343938e+04</td>\n",
       "      <td>22.637925</td>\n",
       "      <td>6.829175</td>\n",
       "    </tr>\n",
       "    <tr>\n",
       "      <th>std</th>\n",
       "      <td>6.937726</td>\n",
       "      <td>39.002509</td>\n",
       "      <td>0.421163</td>\n",
       "      <td>1.163826</td>\n",
       "      <td>9.582047e+04</td>\n",
       "      <td>81.680263</td>\n",
       "      <td>1.170391</td>\n",
       "    </tr>\n",
       "    <tr>\n",
       "      <th>min</th>\n",
       "      <td>1945.000000</td>\n",
       "      <td>0.000000</td>\n",
       "      <td>1.000000</td>\n",
       "      <td>1.500000</td>\n",
       "      <td>5.000000e+00</td>\n",
       "      <td>0.009442</td>\n",
       "      <td>0.500000</td>\n",
       "    </tr>\n",
       "    <tr>\n",
       "      <th>25%</th>\n",
       "      <td>2016.000000</td>\n",
       "      <td>44.000000</td>\n",
       "      <td>1.000000</td>\n",
       "      <td>5.800000</td>\n",
       "      <td>5.167500e+02</td>\n",
       "      <td>2.728500</td>\n",
       "      <td>6.100000</td>\n",
       "    </tr>\n",
       "    <tr>\n",
       "      <th>50%</th>\n",
       "      <td>2018.000000</td>\n",
       "      <td>83.000000</td>\n",
       "      <td>1.000000</td>\n",
       "      <td>6.600000</td>\n",
       "      <td>2.233500e+03</td>\n",
       "      <td>6.821000</td>\n",
       "      <td>6.900000</td>\n",
       "    </tr>\n",
       "    <tr>\n",
       "      <th>75%</th>\n",
       "      <td>2020.000000</td>\n",
       "      <td>104.000000</td>\n",
       "      <td>1.000000</td>\n",
       "      <td>7.300000</td>\n",
       "      <td>9.494000e+03</td>\n",
       "      <td>16.590000</td>\n",
       "      <td>7.537500</td>\n",
       "    </tr>\n",
       "    <tr>\n",
       "      <th>max</th>\n",
       "      <td>2022.000000</td>\n",
       "      <td>240.000000</td>\n",
       "      <td>3.000000</td>\n",
       "      <td>9.600000</td>\n",
       "      <td>2.294231e+06</td>\n",
       "      <td>2274.044000</td>\n",
       "      <td>10.000000</td>\n",
       "    </tr>\n",
       "  </tbody>\n",
       "</table>\n",
       "</div>"
      ],
      "text/plain": [
       "       release_year      runtime      seasons   imdb_score    imdb_votes  \\\n",
       "count   5850.000000  5850.000000  5850.000000  5368.000000  5.352000e+03   \n",
       "mean    2016.417094    76.888889     1.130427     6.510861  2.343938e+04   \n",
       "std        6.937726    39.002509     0.421163     1.163826  9.582047e+04   \n",
       "min     1945.000000     0.000000     1.000000     1.500000  5.000000e+00   \n",
       "25%     2016.000000    44.000000     1.000000     5.800000  5.167500e+02   \n",
       "50%     2018.000000    83.000000     1.000000     6.600000  2.233500e+03   \n",
       "75%     2020.000000   104.000000     1.000000     7.300000  9.494000e+03   \n",
       "max     2022.000000   240.000000     3.000000     9.600000  2.294231e+06   \n",
       "\n",
       "       tmdb_popularity   tmdb_score  \n",
       "count      5759.000000  5539.000000  \n",
       "mean         22.637925     6.829175  \n",
       "std          81.680263     1.170391  \n",
       "min           0.009442     0.500000  \n",
       "25%           2.728500     6.100000  \n",
       "50%           6.821000     6.900000  \n",
       "75%          16.590000     7.537500  \n",
       "max        2274.044000    10.000000  "
      ]
     },
     "execution_count": 20,
     "metadata": {},
     "output_type": "execute_result"
    }
   ],
   "source": [
    "data2.describe()"
   ]
  },
  {
   "cell_type": "code",
   "execution_count": 21,
   "id": "1276d2aa-d3c9-4501-b31c-0f1320303cd8",
   "metadata": {},
   "outputs": [
    {
     "data": {
      "text/plain": [
       "np.float64(1.0)"
      ]
     },
     "execution_count": 21,
     "metadata": {},
     "output_type": "execute_result"
    }
   ],
   "source": [
    "data2['seasons'].median()"
   ]
  },
  {
   "cell_type": "code",
   "execution_count": null,
   "id": "6f3b73c8-4145-4e35-b90d-2185d301c022",
   "metadata": {},
   "outputs": [],
   "source": []
  },
  {
   "cell_type": "code",
   "execution_count": 22,
   "id": "14ce6a98-8d1d-42c6-8202-229f633c05db",
   "metadata": {},
   "outputs": [],
   "source": [
    "# data2['seasons'] = data2['seasons'].fillna(data2['seasons'].median())"
   ]
  },
  {
   "cell_type": "code",
   "execution_count": 23,
   "id": "a62285c1-4456-4ce8-b411-7bb855cf24af",
   "metadata": {},
   "outputs": [],
   "source": [
    "data2['seasons'] = data2['seasons'].astype('int64')"
   ]
  },
  {
   "cell_type": "code",
   "execution_count": 24,
   "id": "bf2a9ade-0566-48de-8505-c418dbaa41c2",
   "metadata": {},
   "outputs": [
    {
     "data": {
      "text/plain": [
       "imdb_votes\n",
       "25.0       11\n",
       "6.0        11\n",
       "78.0        9\n",
       "14.0        9\n",
       "195.0       8\n",
       "           ..\n",
       "9643.0      1\n",
       "12251.0     1\n",
       "1882.0      1\n",
       "1484.0      1\n",
       "3402.0      1\n",
       "Name: count, Length: 3880, dtype: int64"
      ]
     },
     "execution_count": 24,
     "metadata": {},
     "output_type": "execute_result"
    }
   ],
   "source": [
    "data2['imdb_votes'].value_counts()"
   ]
  },
  {
   "cell_type": "code",
   "execution_count": 25,
   "id": "79980f71-99d6-4ca4-ba6d-50f43ba30ec8",
   "metadata": {},
   "outputs": [
    {
     "data": {
      "text/plain": [
       "np.float64(2233.5)"
      ]
     },
     "execution_count": 25,
     "metadata": {},
     "output_type": "execute_result"
    }
   ],
   "source": [
    "data2['imdb_votes'].median()"
   ]
  },
  {
   "cell_type": "code",
   "execution_count": 26,
   "id": "d8021507-e453-4e09-bc8c-443d67cb9bbc",
   "metadata": {},
   "outputs": [
    {
     "data": {
      "text/plain": [
       "np.float64(23439.382473841553)"
      ]
     },
     "execution_count": 26,
     "metadata": {},
     "output_type": "execute_result"
    }
   ],
   "source": [
    "data2['imdb_votes'].mean()"
   ]
  },
  {
   "cell_type": "code",
   "execution_count": 27,
   "id": "33140e9a-2996-4ae2-9921-569249ea0023",
   "metadata": {},
   "outputs": [
    {
     "data": {
      "text/plain": [
       "np.float64(5.0)"
      ]
     },
     "execution_count": 27,
     "metadata": {},
     "output_type": "execute_result"
    }
   ],
   "source": [
    "data2['imdb_votes'].min()"
   ]
  },
  {
   "cell_type": "code",
   "execution_count": 28,
   "id": "5428ea61-6494-403f-9a28-0c9d7e3a9040",
   "metadata": {},
   "outputs": [
    {
     "data": {
      "text/plain": [
       "np.float64(2294231.0)"
      ]
     },
     "execution_count": 28,
     "metadata": {},
     "output_type": "execute_result"
    }
   ],
   "source": [
    "data2['imdb_votes'].max()"
   ]
  },
  {
   "cell_type": "code",
   "execution_count": 29,
   "id": "5609bcfd-9b86-4ef7-9623-07cae7d91abf",
   "metadata": {},
   "outputs": [
    {
     "data": {
      "text/plain": [
       "<Axes: xlabel='imdb_votes'>"
      ]
     },
     "execution_count": 29,
     "metadata": {},
     "output_type": "execute_result"
    },
    {
     "data": {
      "image/png": "[encoded data removed]",
      "text/plain": [
       "<Figure size 640x480 with 1 Axes>"
      ]
     },
     "metadata": {},
     "output_type": "display_data"
    }
   ],
   "source": [
    "sns.boxplot(x = data2['imdb_votes'])"
   ]
  },
  {
   "cell_type": "code",
   "execution_count": 30,
   "id": "3947fc60-755b-430f-a0cf-a363e4804a7d",
   "metadata": {},
   "outputs": [],
   "source": [
    "# Q1 = data2['imdb_votes'].quantile(0.25)\n",
    "# Q3 = data2['imdb_votes'].quantile(0.75)\n",
    "# IQR = Q3 - Q1\n",
    "# lower_bound = Q1 - 1.5 * IQR\n",
    "# upper_bound = Q3 + 1.5 * IQR\n",
    "\n",
    "# data2= data2[(data2['imdb_votes'] >= lower_bound) & (data2['imdb_votes'] <= upper_bound)]\n"
   ]
  },
  {
   "cell_type": "code",
   "execution_count": 31,
   "id": "59d8eb75-fff7-4a7b-995f-b6c223cc22dc",
   "metadata": {},
   "outputs": [],
   "source": [
    "Q1 = data2['imdb_votes'].quantile(0.25)\n",
    "Q3 = data2['imdb_votes'].quantile(0.75)\n",
    "IQR = Q3 - Q1\n",
    "lower_bound = Q1 - 1.5 * IQR\n",
    "upper_bound = Q3 + 1.5 * IQR\n",
    "\n",
    "\n",
    "\n",
    "data2['imdb_votes'] = data2['imdb_votes'].where(\n",
    "    (data2['imdb_votes'] >= lower_bound) & (data2['imdb_votes'] <= upper_bound), \n",
    "    other=np.nan\n",
    ")"
   ]
  },
  {
   "cell_type": "code",
   "execution_count": 32,
   "id": "04c48103-7d23-42c2-b430-515497c7cd31",
   "metadata": {},
   "outputs": [],
   "source": [
    "data2['imdb_votes'] = data2['imdb_votes'].fillna(data2['imdb_votes'].median())"
   ]
  },
  {
   "cell_type": "code",
   "execution_count": null,
   "id": "c63bc6ea-c8f9-4aa6-86a5-fbc54837f6d5",
   "metadata": {},
   "outputs": [],
   "source": []
  },
  {
   "cell_type": "code",
   "execution_count": null,
   "id": "f39f1f31-a650-43c8-95d9-1ea7e53b4949",
   "metadata": {},
   "outputs": [],
   "source": []
  },
  {
   "cell_type": "code",
   "execution_count": 33,
   "id": "b6d7feb6-ff24-482d-a467-a73938ec0fab",
   "metadata": {},
   "outputs": [
    {
     "data": {
      "text/plain": [
       "<Axes: xlabel='imdb_votes'>"
      ]
     },
     "execution_count": 33,
     "metadata": {},
     "output_type": "execute_result"
    },
    {
     "data": {
      "image/png": "[encoded data removed]",
      "text/plain": [
       "<Figure size 640x480 with 1 Axes>"
      ]
     },
     "metadata": {},
     "output_type": "display_data"
    }
   ],
   "source": [
    "sns.boxplot(x = data2['imdb_votes'])"
   ]
  },
  {
   "cell_type": "code",
   "execution_count": 34,
   "id": "95dd0e14-f917-4838-8187-ada3e498e745",
   "metadata": {},
   "outputs": [
    {
     "data": {
      "text/plain": [
       "np.float64(1481.5)"
      ]
     },
     "execution_count": 34,
     "metadata": {},
     "output_type": "execute_result"
    }
   ],
   "source": [
    "data2['imdb_votes'].median()"
   ]
  },
  {
   "cell_type": "code",
   "execution_count": 35,
   "id": "7101500a-a773-43bf-8c59-f6cc6a191e99",
   "metadata": {},
   "outputs": [
    {
     "data": {
      "text/plain": [
       "np.float64(3086.74358974359)"
      ]
     },
     "execution_count": 35,
     "metadata": {},
     "output_type": "execute_result"
    }
   ],
   "source": [
    "data2['imdb_votes'].mean()"
   ]
  },
  {
   "cell_type": "code",
   "execution_count": 36,
   "id": "271e1614-ba66-49b2-a5fe-0aaabb1281ba",
   "metadata": {},
   "outputs": [
    {
     "data": {
      "text/html": [
       "<div>\n",
       "<style scoped>\n",
       "    .dataframe tbody tr th:only-of-type {\n",
       "        vertical-align: middle;\n",
       "    }\n",
       "\n",
       "    .dataframe tbody tr th {\n",
       "        vertical-align: top;\n",
       "    }\n",
       "\n",
       "    .dataframe thead th {\n",
       "        text-align: right;\n",
       "    }\n",
       "</style>\n",
       "<table border=\"1\" class=\"dataframe\">\n",
       "  <thead>\n",
       "    <tr style=\"text-align: right;\">\n",
       "      <th></th>\n",
       "      <th>release_year</th>\n",
       "      <th>runtime</th>\n",
       "      <th>seasons</th>\n",
       "      <th>imdb_score</th>\n",
       "      <th>imdb_votes</th>\n",
       "      <th>tmdb_popularity</th>\n",
       "      <th>tmdb_score</th>\n",
       "    </tr>\n",
       "  </thead>\n",
       "  <tbody>\n",
       "    <tr>\n",
       "      <th>count</th>\n",
       "      <td>5850.000000</td>\n",
       "      <td>5850.000000</td>\n",
       "      <td>5850.000000</td>\n",
       "      <td>5368.000000</td>\n",
       "      <td>5850.000000</td>\n",
       "      <td>5759.000000</td>\n",
       "      <td>5539.000000</td>\n",
       "    </tr>\n",
       "    <tr>\n",
       "      <th>mean</th>\n",
       "      <td>2016.417094</td>\n",
       "      <td>76.888889</td>\n",
       "      <td>1.130427</td>\n",
       "      <td>6.510861</td>\n",
       "      <td>3086.743590</td>\n",
       "      <td>22.637925</td>\n",
       "      <td>6.829175</td>\n",
       "    </tr>\n",
       "    <tr>\n",
       "      <th>std</th>\n",
       "      <td>6.937726</td>\n",
       "      <td>39.002509</td>\n",
       "      <td>0.421163</td>\n",
       "      <td>1.163826</td>\n",
       "      <td>4385.264176</td>\n",
       "      <td>81.680263</td>\n",
       "      <td>1.170391</td>\n",
       "    </tr>\n",
       "    <tr>\n",
       "      <th>min</th>\n",
       "      <td>1945.000000</td>\n",
       "      <td>0.000000</td>\n",
       "      <td>1.000000</td>\n",
       "      <td>1.500000</td>\n",
       "      <td>5.000000</td>\n",
       "      <td>0.009442</td>\n",
       "      <td>0.500000</td>\n",
       "    </tr>\n",
       "    <tr>\n",
       "      <th>25%</th>\n",
       "      <td>2016.000000</td>\n",
       "      <td>44.000000</td>\n",
       "      <td>1.000000</td>\n",
       "      <td>5.800000</td>\n",
       "      <td>604.250000</td>\n",
       "      <td>2.728500</td>\n",
       "      <td>6.100000</td>\n",
       "    </tr>\n",
       "    <tr>\n",
       "      <th>50%</th>\n",
       "      <td>2018.000000</td>\n",
       "      <td>83.000000</td>\n",
       "      <td>1.000000</td>\n",
       "      <td>6.600000</td>\n",
       "      <td>1481.500000</td>\n",
       "      <td>6.821000</td>\n",
       "      <td>6.900000</td>\n",
       "    </tr>\n",
       "    <tr>\n",
       "      <th>75%</th>\n",
       "      <td>2020.000000</td>\n",
       "      <td>104.000000</td>\n",
       "      <td>1.000000</td>\n",
       "      <td>7.300000</td>\n",
       "      <td>3256.750000</td>\n",
       "      <td>16.590000</td>\n",
       "      <td>7.537500</td>\n",
       "    </tr>\n",
       "    <tr>\n",
       "      <th>max</th>\n",
       "      <td>2022.000000</td>\n",
       "      <td>240.000000</td>\n",
       "      <td>3.000000</td>\n",
       "      <td>9.600000</td>\n",
       "      <td>22894.000000</td>\n",
       "      <td>2274.044000</td>\n",
       "      <td>10.000000</td>\n",
       "    </tr>\n",
       "  </tbody>\n",
       "</table>\n",
       "</div>"
      ],
      "text/plain": [
       "       release_year      runtime      seasons   imdb_score    imdb_votes  \\\n",
       "count   5850.000000  5850.000000  5850.000000  5368.000000   5850.000000   \n",
       "mean    2016.417094    76.888889     1.130427     6.510861   3086.743590   \n",
       "std        6.937726    39.002509     0.421163     1.163826   4385.264176   \n",
       "min     1945.000000     0.000000     1.000000     1.500000      5.000000   \n",
       "25%     2016.000000    44.000000     1.000000     5.800000    604.250000   \n",
       "50%     2018.000000    83.000000     1.000000     6.600000   1481.500000   \n",
       "75%     2020.000000   104.000000     1.000000     7.300000   3256.750000   \n",
       "max     2022.000000   240.000000     3.000000     9.600000  22894.000000   \n",
       "\n",
       "       tmdb_popularity   tmdb_score  \n",
       "count      5759.000000  5539.000000  \n",
       "mean         22.637925     6.829175  \n",
       "std          81.680263     1.170391  \n",
       "min           0.009442     0.500000  \n",
       "25%           2.728500     6.100000  \n",
       "50%           6.821000     6.900000  \n",
       "75%          16.590000     7.537500  \n",
       "max        2274.044000    10.000000  "
      ]
     },
     "execution_count": 36,
     "metadata": {},
     "output_type": "execute_result"
    }
   ],
   "source": [
    "data2.describe()"
   ]
  },
  {
   "cell_type": "code",
   "execution_count": 37,
   "id": "62ade566-ddbf-4fa0-9071-5299770333d0",
   "metadata": {},
   "outputs": [],
   "source": [
    "# data2['imdb_votes'] = data2['imdb_votes'].fillna(data2['imdb_votes'].median())"
   ]
  },
  {
   "cell_type": "code",
   "execution_count": 38,
   "id": "7449fd93-b3c4-49a9-9f3f-cff99ea53a00",
   "metadata": {},
   "outputs": [],
   "source": [
    "data2['imdb_votes'] = data2['imdb_votes'].astype('int64')"
   ]
  },
  {
   "cell_type": "code",
   "execution_count": 39,
   "id": "804043ff-9ea8-4add-8b44-c775f2da0213",
   "metadata": {},
   "outputs": [
    {
     "name": "stdout",
     "output_type": "stream",
     "text": [
      "<class 'pandas.core.frame.DataFrame'>\n",
      "RangeIndex: 5850 entries, 0 to 5849\n",
      "Data columns (total 15 columns):\n",
      " #   Column                Non-Null Count  Dtype  \n",
      "---  ------                --------------  -----  \n",
      " 0   id                    5850 non-null   object \n",
      " 1   title                 5849 non-null   object \n",
      " 2   type                  5850 non-null   object \n",
      " 3   description           5832 non-null   object \n",
      " 4   release_year          5850 non-null   int64  \n",
      " 5   age_certification     3231 non-null   object \n",
      " 6   runtime               5850 non-null   int64  \n",
      " 7   genres                5850 non-null   object \n",
      " 8   production_countries  5850 non-null   object \n",
      " 9   seasons               5850 non-null   int64  \n",
      " 10  imdb_id               5447 non-null   object \n",
      " 11  imdb_score            5368 non-null   float64\n",
      " 12  imdb_votes            5850 non-null   int64  \n",
      " 13  tmdb_popularity       5759 non-null   float64\n",
      " 14  tmdb_score            5539 non-null   float64\n",
      "dtypes: float64(3), int64(4), object(8)\n",
      "memory usage: 685.7+ KB\n"
     ]
    }
   ],
   "source": [
    "data2.info()"
   ]
  },
  {
   "cell_type": "code",
   "execution_count": 40,
   "id": "c57cc6bf-2372-4c86-9a83-dc59cc21776b",
   "metadata": {},
   "outputs": [
    {
     "data": {
      "text/plain": [
       "id                         0\n",
       "title                      1\n",
       "type                       0\n",
       "description               18\n",
       "release_year               0\n",
       "age_certification       2619\n",
       "runtime                    0\n",
       "genres                     0\n",
       "production_countries       0\n",
       "seasons                    0\n",
       "imdb_id                  403\n",
       "imdb_score               482\n",
       "imdb_votes                 0\n",
       "tmdb_popularity           91\n",
       "tmdb_score               311\n",
       "dtype: int64"
      ]
     },
     "execution_count": 40,
     "metadata": {},
     "output_type": "execute_result"
    }
   ],
   "source": [
    "data2.isnull().sum()"
   ]
  },
  {
   "cell_type": "code",
   "execution_count": 41,
   "id": "23c5f95c-f019-4250-aa64-ac0fab980847",
   "metadata": {},
   "outputs": [
    {
     "data": {
      "text/plain": [
       "array(['TV-MA', 'R', 'PG', nan, 'TV-14', 'PG-13', 'TV-PG', 'TV-Y', 'TV-G',\n",
       "       'TV-Y7', 'G', 'NC-17'], dtype=object)"
      ]
     },
     "execution_count": 41,
     "metadata": {},
     "output_type": "execute_result"
    }
   ],
   "source": [
    "data2['age_certification'].unique()"
   ]
  },
  {
   "cell_type": "code",
   "execution_count": 42,
   "id": "f2812e7d-32c6-4f4c-894e-c9f58494589d",
   "metadata": {},
   "outputs": [
    {
     "data": {
      "text/plain": [
       "<Axes: xlabel='age_certification'>"
      ]
     },
     "execution_count": 42,
     "metadata": {},
     "output_type": "execute_result"
    },
    {
     "data": {
      "image/png": "[encoded data removed]",
      "text/plain": [
       "<Figure size 640x480 with 1 Axes>"
      ]
     },
     "metadata": {},
     "output_type": "display_data"
    }
   ],
   "source": [
    "sns.boxplot( x = data2['age_certification'])"
   ]
  },
  {
   "cell_type": "code",
   "execution_count": 43,
   "id": "b6af3c46-4e8b-4600-ba89-3df2dbad3f7d",
   "metadata": {},
   "outputs": [],
   "source": [
    "data2['age_certification'] = data2['age_certification'].fillna(data2['age_certification'].mode()[0])"
   ]
  },
  {
   "cell_type": "code",
   "execution_count": 44,
   "id": "97922ff5-2c78-4631-8316-853cf64c3185",
   "metadata": {},
   "outputs": [
    {
     "data": {
      "text/plain": [
       "id                        0\n",
       "title                     1\n",
       "type                      0\n",
       "description              18\n",
       "release_year              0\n",
       "age_certification         0\n",
       "runtime                   0\n",
       "genres                    0\n",
       "production_countries      0\n",
       "seasons                   0\n",
       "imdb_id                 403\n",
       "imdb_score              482\n",
       "imdb_votes                0\n",
       "tmdb_popularity          91\n",
       "tmdb_score              311\n",
       "dtype: int64"
      ]
     },
     "execution_count": 44,
     "metadata": {},
     "output_type": "execute_result"
    }
   ],
   "source": [
    "data2.isnull().sum()"
   ]
  },
  {
   "cell_type": "code",
   "execution_count": 45,
   "id": "50276a8b-ebf0-4926-b494-eab416691356",
   "metadata": {},
   "outputs": [
    {
     "data": {
      "text/plain": [
       "array(['Five Came Back: The Reference Films', 'Taxi Driver',\n",
       "       'Deliverance', ..., 'Lokillo',\n",
       "       'Dad Stop Embarrassing Me - The Afterparty',\n",
       "       'Mighty Little Bheem: Kite Festival'], dtype=object)"
      ]
     },
     "execution_count": 45,
     "metadata": {},
     "output_type": "execute_result"
    }
   ],
   "source": [
    "data2['title'].unique()"
   ]
  },
  {
   "cell_type": "code",
   "execution_count": 46,
   "id": "f0955b02-6068-4615-aa33-107b26350551",
   "metadata": {},
   "outputs": [],
   "source": [
    "data2['title']= data2['title'].fillna(data2['title'].mode()[0])"
   ]
  },
  {
   "cell_type": "code",
   "execution_count": null,
   "id": "a4af28c2-aa91-4732-9b2a-982aa47de663",
   "metadata": {},
   "outputs": [],
   "source": []
  },
  {
   "cell_type": "code",
   "execution_count": 47,
   "id": "f923edc8-e596-464c-a794-1909b94f9951",
   "metadata": {},
   "outputs": [
    {
     "data": {
      "text/html": [
       "<div>\n",
       "<style scoped>\n",
       "    .dataframe tbody tr th:only-of-type {\n",
       "        vertical-align: middle;\n",
       "    }\n",
       "\n",
       "    .dataframe tbody tr th {\n",
       "        vertical-align: top;\n",
       "    }\n",
       "\n",
       "    .dataframe thead th {\n",
       "        text-align: right;\n",
       "    }\n",
       "</style>\n",
       "<table border=\"1\" class=\"dataframe\">\n",
       "  <thead>\n",
       "    <tr style=\"text-align: right;\">\n",
       "      <th></th>\n",
       "      <th>id</th>\n",
       "      <th>title</th>\n",
       "      <th>type</th>\n",
       "      <th>description</th>\n",
       "      <th>release_year</th>\n",
       "      <th>age_certification</th>\n",
       "      <th>runtime</th>\n",
       "      <th>genres</th>\n",
       "      <th>production_countries</th>\n",
       "      <th>seasons</th>\n",
       "      <th>imdb_id</th>\n",
       "      <th>imdb_score</th>\n",
       "      <th>imdb_votes</th>\n",
       "      <th>tmdb_popularity</th>\n",
       "      <th>tmdb_score</th>\n",
       "    </tr>\n",
       "  </thead>\n",
       "  <tbody>\n",
       "    <tr>\n",
       "      <th>4288</th>\n",
       "      <td>tm851499</td>\n",
       "      <td>Vir Das: For India</td>\n",
       "      <td>MOVIE</td>\n",
       "      <td>From the Vedas to Vasco de Gama to vacuous Bol...</td>\n",
       "      <td>2020</td>\n",
       "      <td>TV-MA</td>\n",
       "      <td>75</td>\n",
       "      <td>['comedy']</td>\n",
       "      <td>['IN']</td>\n",
       "      <td>1</td>\n",
       "      <td>tt11611314</td>\n",
       "      <td>7.7</td>\n",
       "      <td>1260</td>\n",
       "      <td>2.277</td>\n",
       "      <td>8.3</td>\n",
       "    </tr>\n",
       "  </tbody>\n",
       "</table>\n",
       "</div>"
      ],
      "text/plain": [
       "            id               title   type  \\\n",
       "4288  tm851499  Vir Das: For India  MOVIE   \n",
       "\n",
       "                                            description  release_year  \\\n",
       "4288  From the Vedas to Vasco de Gama to vacuous Bol...          2020   \n",
       "\n",
       "     age_certification  runtime      genres production_countries  seasons  \\\n",
       "4288             TV-MA       75  ['comedy']               ['IN']        1   \n",
       "\n",
       "         imdb_id  imdb_score  imdb_votes  tmdb_popularity  tmdb_score  \n",
       "4288  tt11611314         7.7        1260            2.277         8.3  "
      ]
     },
     "execution_count": 47,
     "metadata": {},
     "output_type": "execute_result"
    }
   ],
   "source": [
    "data2.sample()"
   ]
  },
  {
   "cell_type": "code",
   "execution_count": 48,
   "id": "048c6a6c-b0b7-432e-a507-d4be676c7a81",
   "metadata": {},
   "outputs": [],
   "source": [
    "data2 = data2.drop(columns=['id', 'description', 'imdb_id'])\n"
   ]
  },
  {
   "cell_type": "code",
   "execution_count": 49,
   "id": "d03ec4a6-6c68-45f1-a247-ed6ecd3ebb5b",
   "metadata": {},
   "outputs": [
    {
     "data": {
      "text/html": [
       "<div>\n",
       "<style scoped>\n",
       "    .dataframe tbody tr th:only-of-type {\n",
       "        vertical-align: middle;\n",
       "    }\n",
       "\n",
       "    .dataframe tbody tr th {\n",
       "        vertical-align: top;\n",
       "    }\n",
       "\n",
       "    .dataframe thead th {\n",
       "        text-align: right;\n",
       "    }\n",
       "</style>\n",
       "<table border=\"1\" class=\"dataframe\">\n",
       "  <thead>\n",
       "    <tr style=\"text-align: right;\">\n",
       "      <th></th>\n",
       "      <th>title</th>\n",
       "      <th>type</th>\n",
       "      <th>release_year</th>\n",
       "      <th>age_certification</th>\n",
       "      <th>runtime</th>\n",
       "      <th>genres</th>\n",
       "      <th>production_countries</th>\n",
       "      <th>seasons</th>\n",
       "      <th>imdb_score</th>\n",
       "      <th>imdb_votes</th>\n",
       "      <th>tmdb_popularity</th>\n",
       "      <th>tmdb_score</th>\n",
       "    </tr>\n",
       "  </thead>\n",
       "  <tbody>\n",
       "    <tr>\n",
       "      <th>3650</th>\n",
       "      <td>Hyperdrive</td>\n",
       "      <td>SHOW</td>\n",
       "      <td>2019</td>\n",
       "      <td>TV-PG</td>\n",
       "      <td>48</td>\n",
       "      <td>['reality']</td>\n",
       "      <td>['US']</td>\n",
       "      <td>1</td>\n",
       "      <td>NaN</td>\n",
       "      <td>1481</td>\n",
       "      <td>6.122</td>\n",
       "      <td>7.5</td>\n",
       "    </tr>\n",
       "  </tbody>\n",
       "</table>\n",
       "</div>"
      ],
      "text/plain": [
       "           title  type  release_year age_certification  runtime       genres  \\\n",
       "3650  Hyperdrive  SHOW          2019             TV-PG       48  ['reality']   \n",
       "\n",
       "     production_countries  seasons  imdb_score  imdb_votes  tmdb_popularity  \\\n",
       "3650               ['US']        1         NaN        1481            6.122   \n",
       "\n",
       "      tmdb_score  \n",
       "3650         7.5  "
      ]
     },
     "execution_count": 49,
     "metadata": {},
     "output_type": "execute_result"
    }
   ],
   "source": [
    "data2.sample()"
   ]
  },
  {
   "cell_type": "code",
   "execution_count": 50,
   "id": "cac3c4fe-ab04-41b4-a2e7-4daa31666aa6",
   "metadata": {},
   "outputs": [
    {
     "data": {
      "text/plain": [
       "title                     0\n",
       "type                      0\n",
       "release_year              0\n",
       "age_certification         0\n",
       "runtime                   0\n",
       "genres                    0\n",
       "production_countries      0\n",
       "seasons                   0\n",
       "imdb_score              482\n",
       "imdb_votes                0\n",
       "tmdb_popularity          91\n",
       "tmdb_score              311\n",
       "dtype: int64"
      ]
     },
     "execution_count": 50,
     "metadata": {},
     "output_type": "execute_result"
    }
   ],
   "source": [
    "data2.isnull().sum()"
   ]
  },
  {
   "cell_type": "code",
   "execution_count": 51,
   "id": "4c6da2f7-169e-4d67-8b18-e1fb411f4af6",
   "metadata": {},
   "outputs": [
    {
     "data": {
      "text/html": [
       "<div>\n",
       "<style scoped>\n",
       "    .dataframe tbody tr th:only-of-type {\n",
       "        vertical-align: middle;\n",
       "    }\n",
       "\n",
       "    .dataframe tbody tr th {\n",
       "        vertical-align: top;\n",
       "    }\n",
       "\n",
       "    .dataframe thead th {\n",
       "        text-align: right;\n",
       "    }\n",
       "</style>\n",
       "<table border=\"1\" class=\"dataframe\">\n",
       "  <thead>\n",
       "    <tr style=\"text-align: right;\">\n",
       "      <th></th>\n",
       "      <th>release_year</th>\n",
       "      <th>runtime</th>\n",
       "      <th>seasons</th>\n",
       "      <th>imdb_score</th>\n",
       "      <th>imdb_votes</th>\n",
       "      <th>tmdb_popularity</th>\n",
       "      <th>tmdb_score</th>\n",
       "    </tr>\n",
       "  </thead>\n",
       "  <tbody>\n",
       "    <tr>\n",
       "      <th>count</th>\n",
       "      <td>5850.000000</td>\n",
       "      <td>5850.000000</td>\n",
       "      <td>5850.000000</td>\n",
       "      <td>5368.000000</td>\n",
       "      <td>5850.000000</td>\n",
       "      <td>5759.000000</td>\n",
       "      <td>5539.000000</td>\n",
       "    </tr>\n",
       "    <tr>\n",
       "      <th>mean</th>\n",
       "      <td>2016.417094</td>\n",
       "      <td>76.888889</td>\n",
       "      <td>1.130427</td>\n",
       "      <td>6.510861</td>\n",
       "      <td>3086.630940</td>\n",
       "      <td>22.637925</td>\n",
       "      <td>6.829175</td>\n",
       "    </tr>\n",
       "    <tr>\n",
       "      <th>std</th>\n",
       "      <td>6.937726</td>\n",
       "      <td>39.002509</td>\n",
       "      <td>0.421163</td>\n",
       "      <td>1.163826</td>\n",
       "      <td>4385.305423</td>\n",
       "      <td>81.680263</td>\n",
       "      <td>1.170391</td>\n",
       "    </tr>\n",
       "    <tr>\n",
       "      <th>min</th>\n",
       "      <td>1945.000000</td>\n",
       "      <td>0.000000</td>\n",
       "      <td>1.000000</td>\n",
       "      <td>1.500000</td>\n",
       "      <td>5.000000</td>\n",
       "      <td>0.009442</td>\n",
       "      <td>0.500000</td>\n",
       "    </tr>\n",
       "    <tr>\n",
       "      <th>25%</th>\n",
       "      <td>2016.000000</td>\n",
       "      <td>44.000000</td>\n",
       "      <td>1.000000</td>\n",
       "      <td>5.800000</td>\n",
       "      <td>604.250000</td>\n",
       "      <td>2.728500</td>\n",
       "      <td>6.100000</td>\n",
       "    </tr>\n",
       "    <tr>\n",
       "      <th>50%</th>\n",
       "      <td>2018.000000</td>\n",
       "      <td>83.000000</td>\n",
       "      <td>1.000000</td>\n",
       "      <td>6.600000</td>\n",
       "      <td>1481.000000</td>\n",
       "      <td>6.821000</td>\n",
       "      <td>6.900000</td>\n",
       "    </tr>\n",
       "    <tr>\n",
       "      <th>75%</th>\n",
       "      <td>2020.000000</td>\n",
       "      <td>104.000000</td>\n",
       "      <td>1.000000</td>\n",
       "      <td>7.300000</td>\n",
       "      <td>3256.750000</td>\n",
       "      <td>16.590000</td>\n",
       "      <td>7.537500</td>\n",
       "    </tr>\n",
       "    <tr>\n",
       "      <th>max</th>\n",
       "      <td>2022.000000</td>\n",
       "      <td>240.000000</td>\n",
       "      <td>3.000000</td>\n",
       "      <td>9.600000</td>\n",
       "      <td>22894.000000</td>\n",
       "      <td>2274.044000</td>\n",
       "      <td>10.000000</td>\n",
       "    </tr>\n",
       "  </tbody>\n",
       "</table>\n",
       "</div>"
      ],
      "text/plain": [
       "       release_year      runtime      seasons   imdb_score    imdb_votes  \\\n",
       "count   5850.000000  5850.000000  5850.000000  5368.000000   5850.000000   \n",
       "mean    2016.417094    76.888889     1.130427     6.510861   3086.630940   \n",
       "std        6.937726    39.002509     0.421163     1.163826   4385.305423   \n",
       "min     1945.000000     0.000000     1.000000     1.500000      5.000000   \n",
       "25%     2016.000000    44.000000     1.000000     5.800000    604.250000   \n",
       "50%     2018.000000    83.000000     1.000000     6.600000   1481.000000   \n",
       "75%     2020.000000   104.000000     1.000000     7.300000   3256.750000   \n",
       "max     2022.000000   240.000000     3.000000     9.600000  22894.000000   \n",
       "\n",
       "       tmdb_popularity   tmdb_score  \n",
       "count      5759.000000  5539.000000  \n",
       "mean         22.637925     6.829175  \n",
       "std          81.680263     1.170391  \n",
       "min           0.009442     0.500000  \n",
       "25%           2.728500     6.100000  \n",
       "50%           6.821000     6.900000  \n",
       "75%          16.590000     7.537500  \n",
       "max        2274.044000    10.000000  "
      ]
     },
     "execution_count": 51,
     "metadata": {},
     "output_type": "execute_result"
    }
   ],
   "source": [
    "data2.describe()"
   ]
  },
  {
   "cell_type": "code",
   "execution_count": 52,
   "id": "54d3c306-f29d-47b6-90e7-295b977713cb",
   "metadata": {},
   "outputs": [],
   "source": [
    "data2['imdb_score'] = data2['imdb_score'].fillna(data2['imdb_score'].median())"
   ]
  },
  {
   "cell_type": "code",
   "execution_count": 53,
   "id": "7058065a-cc15-4120-a230-23e4ab64c852",
   "metadata": {},
   "outputs": [],
   "source": [
    "data2['tmdb_popularity'] = data2['tmdb_popularity'].fillna(data2['tmdb_popularity'].median())"
   ]
  },
  {
   "cell_type": "code",
   "execution_count": 54,
   "id": "423ff2b0-81c2-4e5b-87a9-9deae3097c7f",
   "metadata": {},
   "outputs": [],
   "source": [
    "data2['tmdb_score'] = data2['tmdb_score'].fillna(data2['tmdb_score'].median())"
   ]
  },
  {
   "cell_type": "code",
   "execution_count": 55,
   "id": "8956d100-102b-44b1-9d4a-27d9ee23f26d",
   "metadata": {},
   "outputs": [
    {
     "data": {
      "text/plain": [
       "title                   0\n",
       "type                    0\n",
       "release_year            0\n",
       "age_certification       0\n",
       "runtime                 0\n",
       "genres                  0\n",
       "production_countries    0\n",
       "seasons                 0\n",
       "imdb_score              0\n",
       "imdb_votes              0\n",
       "tmdb_popularity         0\n",
       "tmdb_score              0\n",
       "dtype: int64"
      ]
     },
     "execution_count": 55,
     "metadata": {},
     "output_type": "execute_result"
    }
   ],
   "source": [
    "data2.isnull().sum()"
   ]
  },
  {
   "cell_type": "code",
   "execution_count": 56,
   "id": "ae5307d6-02a0-4f69-9b3b-ccfe48d2414f",
   "metadata": {},
   "outputs": [
    {
     "data": {
      "text/html": [
       "<div>\n",
       "<style scoped>\n",
       "    .dataframe tbody tr th:only-of-type {\n",
       "        vertical-align: middle;\n",
       "    }\n",
       "\n",
       "    .dataframe tbody tr th {\n",
       "        vertical-align: top;\n",
       "    }\n",
       "\n",
       "    .dataframe thead th {\n",
       "        text-align: right;\n",
       "    }\n",
       "</style>\n",
       "<table border=\"1\" class=\"dataframe\">\n",
       "  <thead>\n",
       "    <tr style=\"text-align: right;\">\n",
       "      <th></th>\n",
       "      <th>title</th>\n",
       "      <th>type</th>\n",
       "      <th>release_year</th>\n",
       "      <th>age_certification</th>\n",
       "      <th>runtime</th>\n",
       "      <th>genres</th>\n",
       "      <th>production_countries</th>\n",
       "      <th>seasons</th>\n",
       "      <th>imdb_score</th>\n",
       "      <th>imdb_votes</th>\n",
       "      <th>tmdb_popularity</th>\n",
       "      <th>tmdb_score</th>\n",
       "    </tr>\n",
       "  </thead>\n",
       "  <tbody>\n",
       "    <tr>\n",
       "      <th>5735</th>\n",
       "      <td>Masameer County</td>\n",
       "      <td>SHOW</td>\n",
       "      <td>2021</td>\n",
       "      <td>TV-MA</td>\n",
       "      <td>21</td>\n",
       "      <td>[]</td>\n",
       "      <td>['SA']</td>\n",
       "      <td>1</td>\n",
       "      <td>6.6</td>\n",
       "      <td>1481</td>\n",
       "      <td>2.122</td>\n",
       "      <td>8.0</td>\n",
       "    </tr>\n",
       "  </tbody>\n",
       "</table>\n",
       "</div>"
      ],
      "text/plain": [
       "                title  type  release_year age_certification  runtime genres  \\\n",
       "5735  Masameer County  SHOW          2021             TV-MA       21     []   \n",
       "\n",
       "     production_countries  seasons  imdb_score  imdb_votes  tmdb_popularity  \\\n",
       "5735               ['SA']        1         6.6        1481            2.122   \n",
       "\n",
       "      tmdb_score  \n",
       "5735         8.0  "
      ]
     },
     "execution_count": 56,
     "metadata": {},
     "output_type": "execute_result"
    }
   ],
   "source": [
    "data2.sample()"
   ]
  },
  {
   "cell_type": "code",
   "execution_count": null,
   "id": "72b7884b-e96b-472d-a7a2-7dc52ca7ceb9",
   "metadata": {},
   "outputs": [],
   "source": []
  },
  {
   "cell_type": "code",
   "execution_count": null,
   "id": "09790fd5-57a4-452f-be7d-b5fa1ee5430e",
   "metadata": {},
   "outputs": [],
   "source": []
  },
  {
   "cell_type": "markdown",
   "id": "5da97178-5d09-4178-b7f0-1a24986b8327",
   "metadata": {},
   "source": [
    "# 1.\tWhat were the top 10 movies according to IMDB score?"
   ]
  },
  {
   "cell_type": "code",
   "execution_count": 57,
   "id": "fb0daa5a-ef0d-4ad7-a03f-2824d0ae5c69",
   "metadata": {},
   "outputs": [],
   "source": [
    "movies_df = data2[data2['type'] == 'MOVIE']\n",
    "\n",
    "top_10_movies = movies_df.sort_values(by='imdb_score', ascending=False).head(10)\n"
   ]
  },
  {
   "cell_type": "code",
   "execution_count": 58,
   "id": "38441642-eece-46fb-985b-58d2817c4a31",
   "metadata": {},
   "outputs": [
    {
     "data": {
      "image/png": "[encoded data removed]",
      "text/plain": [
       "<Figure size 1000x600 with 1 Axes>"
      ]
     },
     "metadata": {},
     "output_type": "display_data"
    }
   ],
   "source": [
    "plt.figure(figsize=(10, 6))\n",
    "plt.barh(top_10_movies['title'], top_10_movies['imdb_score'], color='skyblue')\n",
    "plt.title('Top 10 Movies by IMDb Score', fontsize=16)\n",
    "plt.xlabel('IMDb Score', fontsize=12)\n",
    "plt.ylabel('Movies', fontsize=12)\n",
    "plt.gca().invert_yaxis()  # To display the highest score at the top\n",
    "plt.show()"
   ]
  },
  {
   "cell_type": "code",
   "execution_count": null,
   "id": "1e62b501-c341-4ed5-830b-68eaa78fe53f",
   "metadata": {},
   "outputs": [],
   "source": []
  },
  {
   "cell_type": "markdown",
   "id": "eaff91d5-fc63-49fa-b004-8b09efa71eb7",
   "metadata": {},
   "source": [
    "# 2.\tWhat were the top 10 shows according to IMDB score?"
   ]
  },
  {
   "cell_type": "code",
   "execution_count": 59,
   "id": "25f4493d-d0eb-451d-906f-ddba6eb12329",
   "metadata": {},
   "outputs": [],
   "source": [
    "shows_df = data2[data2['type'] == 'SHOW']\n",
    "\n",
    "top_10_shows = shows_df.sort_values(by='imdb_score', ascending=False).head(10)\n"
   ]
  },
  {
   "cell_type": "code",
   "execution_count": 60,
   "id": "23bb7d4e-86cc-4fbc-b1a1-14c77351f720",
   "metadata": {},
   "outputs": [
    {
     "data": {
      "image/png": "[encoded data removed]",
      "text/plain": [
       "<Figure size 1000x600 with 1 Axes>"
      ]
     },
     "metadata": {},
     "output_type": "display_data"
    }
   ],
   "source": [
    "plt.figure(figsize=(10, 6))\n",
    "plt.barh(top_10_shows['title'], top_10_shows['imdb_score'], color='salmon')\n",
    "plt.title('Top 10 Shows by IMDb Score', fontsize=16)\n",
    "plt.xlabel('IMDb Score', fontsize=12)\n",
    "plt.ylabel('Shows', fontsize=12)\n",
    "plt.gca().invert_yaxis()  # To display the highest score at the top\n",
    "plt.show()\n"
   ]
  },
  {
   "cell_type": "code",
   "execution_count": null,
   "id": "a520063e-2861-43b0-9bb1-775d5d8c2208",
   "metadata": {},
   "outputs": [],
   "source": []
  },
  {
   "cell_type": "markdown",
   "id": "116522da-8029-4910-b5b6-7db879e3b94f",
   "metadata": {},
   "source": [
    "# 3 . What were the bottom 10 movies according to IMDB score?"
   ]
  },
  {
   "cell_type": "code",
   "execution_count": 61,
   "id": "904af378-8126-4945-a58e-3122e8914174",
   "metadata": {},
   "outputs": [],
   "source": [
    "\n",
    "bottom_10_movies = movies_df.sort_values(by='imdb_score', ascending=False).tail(10)\n"
   ]
  },
  {
   "cell_type": "code",
   "execution_count": 62,
   "id": "b785073e-ffb1-4c8a-9ff9-4f347c0b27c2",
   "metadata": {},
   "outputs": [
    {
     "data": {
      "image/png": "[encoded data removed]",
      "text/plain": [
       "<Figure size 1000x600 with 1 Axes>"
      ]
     },
     "metadata": {},
     "output_type": "display_data"
    }
   ],
   "source": [
    "plt.figure(figsize=(10, 6))\n",
    "plt.barh(bottom_10_movies['title'], bottom_10_movies['imdb_score'], color='skyblue')\n",
    "plt.title('Bottom 10 Movies by IMDb Score', fontsize=16)\n",
    "plt.xlabel('IMDb Score', fontsize=12)\n",
    "plt.ylabel('Movies', fontsize=12)\n",
    "plt.gca().invert_yaxis()  # To display the highest score at the top\n",
    "plt.show()"
   ]
  },
  {
   "cell_type": "markdown",
   "id": "9e6b5b64-8740-4832-b252-327b53e4ac91",
   "metadata": {},
   "source": [
    "# 4.\tWhat were the bottom 10 shows according to IMDB score?"
   ]
  },
  {
   "cell_type": "markdown",
   "id": "af82f1fc-655d-4b19-9687-e2e58ad71fe3",
   "metadata": {},
   "source": [
    "<!-- 4.\tWhat were the bottom 10 shows according to IMDB score? -->"
   ]
  },
  {
   "cell_type": "code",
   "execution_count": 63,
   "id": "f755c063-e08e-40de-9e38-0eb34d2ce62d",
   "metadata": {},
   "outputs": [],
   "source": [
    "\n",
    "bottom_10_shows = shows_df.sort_values(by='imdb_score', ascending=False).tail(10)\n"
   ]
  },
  {
   "cell_type": "code",
   "execution_count": 64,
   "id": "12229530-5a8e-4d71-a7ad-84bb0c438219",
   "metadata": {},
   "outputs": [
    {
     "data": {
      "image/png": "[encoded data removed]",
      "text/plain": [
       "<Figure size 1000x600 with 1 Axes>"
      ]
     },
     "metadata": {},
     "output_type": "display_data"
    }
   ],
   "source": [
    "plt.figure(figsize=(10, 6))\n",
    "plt.barh(bottom_10_shows['title'], bottom_10_shows['imdb_score'], color='salmon')\n",
    "plt.title('Bottom 10 Shows by IMDb Score', fontsize=16)\n",
    "plt.xlabel('IMDb Score', fontsize=12)\n",
    "plt.ylabel('Shows', fontsize=12)\n",
    "plt.gca().invert_yaxis()  # To display the highest score at the top\n",
    "plt.show()"
   ]
  },
  {
   "cell_type": "code",
   "execution_count": null,
   "id": "43231293-b557-4d21-bad4-11e85f9c6197",
   "metadata": {},
   "outputs": [],
   "source": []
  },
  {
   "cell_type": "markdown",
   "id": "d472e4e8-37c5-4ec9-b3ea-a211b64af070",
   "metadata": {},
   "source": [
    "# 5.\tWhat were the average IMDB and TMDB scores for shows and movies?"
   ]
  },
  {
   "cell_type": "code",
   "execution_count": 65,
   "id": "1ac82b5e-8752-4816-97ce-f5c01c426efb",
   "metadata": {},
   "outputs": [],
   "source": [
    "# average_scores_shows = shows_df[['imdb_score', 'tmdb_score']].mean().reset_index()\n",
    "# average_scores_shows.columns = ['Score Type', 'Average Score']"
   ]
  },
  {
   "cell_type": "code",
   "execution_count": 66,
   "id": "fd938c44-37fd-4160-88b5-e5d1497a2d70",
   "metadata": {},
   "outputs": [],
   "source": [
    "# plt.figure(figsize=(8, 5))\n",
    "# plt.bar(average_scores_shows['Score Type'], average_scores_shows['Average Score'], color=['skyblue', 'salmon'])\n",
    "# plt.title('Average IMDb and TMDb Scores for Shows', fontsize=16)\n",
    "# plt.xlabel('Score Type', fontsize=12)\n",
    "# plt.ylabel('Average Score', fontsize=12)\n",
    "# plt.show()"
   ]
  },
  {
   "cell_type": "code",
   "execution_count": 67,
   "id": "fe198b9b-c6a8-4035-a26c-83f25c678b6d",
   "metadata": {},
   "outputs": [],
   "source": [
    "# average_scores_movies = movies_df[['imdb_score', 'tmdb_score']].mean().reset_index()\n",
    "# average_scores_movies.columns = ['Score Type', 'Average Score']"
   ]
  },
  {
   "cell_type": "code",
   "execution_count": 68,
   "id": "b09d2757-4f32-4162-9850-0534a44bf586",
   "metadata": {},
   "outputs": [],
   "source": [
    "# plt.figure(figsize=(8, 5))\n",
    "# plt.bar(average_scores_movies['Score Type'], average_scores_movies['Average Score'], color=['skyblue', 'salmon'])\n",
    "# plt.title('Average IMDb and TMDb Scores for Movies', fontsize=16)\n",
    "# plt.xlabel('Score Type', fontsize=12)\n",
    "# plt.ylabel('Average Score', fontsize=12)\n",
    "# plt.show()"
   ]
  },
  {
   "cell_type": "code",
   "execution_count": null,
   "id": "4efd72eb-e6bf-4ed1-904c-69808cb2b371",
   "metadata": {},
   "outputs": [],
   "source": []
  },
  {
   "cell_type": "code",
   "execution_count": 69,
   "id": "887fcb63-ffc5-42ad-b148-dc6fdc28d972",
   "metadata": {},
   "outputs": [],
   "source": [
    "average_scores = data2.groupby('type')[['imdb_score', 'tmdb_score']].mean().reset_index()\n"
   ]
  },
  {
   "cell_type": "code",
   "execution_count": 70,
   "id": "bec75277-4195-4d67-80ee-14dfdfb6dedf",
   "metadata": {},
   "outputs": [
    {
     "data": {
      "image/png": "[encoded data removed]",
      "text/plain": [
       "<Figure size 1000x600 with 1 Axes>"
      ]
     },
     "metadata": {},
     "output_type": "display_data"
    }
   ],
   "source": [
    "fig, ax = plt.subplots(figsize=(10, 6))\n",
    "average_scores.set_index('type').plot(kind='bar', ax=ax, color=['skyblue', 'salmon'])\n",
    "plt.title('Average IMDb and TMDb Scores for Shows and Movies', fontsize=16)\n",
    "plt.xlabel('Type', fontsize=12)\n",
    "plt.ylabel('Average Score', fontsize=12)\n",
    "plt.xticks(rotation=0)\n",
    "plt.legend(title='Score Type')\n",
    "\n",
    "plt.show()"
   ]
  },
  {
   "cell_type": "code",
   "execution_count": null,
   "id": "839a0e01-99bb-4f09-b59c-ec63520854f0",
   "metadata": {},
   "outputs": [],
   "source": []
  },
  {
   "cell_type": "markdown",
   "id": "e87427cd-c75f-4611-87f1-4cb43cc02e4d",
   "metadata": {},
   "source": [
    "# 6.\tWhat were the 5 most common age certifications for movies?"
   ]
  },
  {
   "cell_type": "code",
   "execution_count": 71,
   "id": "8285a21b-628c-4f52-8b04-8c0980c8560c",
   "metadata": {},
   "outputs": [
    {
     "data": {
      "image/png": "[encoded data removed]",
      "text/plain": [
       "<Figure size 800x500 with 1 Axes>"
      ]
     },
     "metadata": {},
     "output_type": "display_data"
    }
   ],
   "source": [
    "age_cert_counts = movies_df['age_certification'].value_counts().head(5)\n",
    "plt.figure(figsize=(8, 5))\n",
    "age_cert_counts.plot(kind='bar', color='skyblue')\n",
    "plt.title('Top 5 Most Common Age Certifications for Movies', fontsize=16)\n",
    "plt.xlabel('Age Certification', fontsize=12)\n",
    "plt.ylabel('Count', fontsize=12)\n",
    "plt.xticks(rotation=0)\n",
    "plt.show()"
   ]
  },
  {
   "cell_type": "code",
   "execution_count": null,
   "id": "9c7e404e-8163-478f-9f3a-6f68d9b2a505",
   "metadata": {},
   "outputs": [],
   "source": []
  },
  {
   "cell_type": "markdown",
   "id": "abea080a-f3be-4f08-adaf-ab224764ccf0",
   "metadata": {},
   "source": [
    "# 7.\tWhat were the top 3 most common genres in movies and shows?"
   ]
  },
  {
   "cell_type": "code",
   "execution_count": 72,
   "id": "f262b1b0-1b12-4d3d-8791-af7ce6f15ec2",
   "metadata": {},
   "outputs": [
    {
     "data": {
      "image/png": "[encoded data removed]",
      "text/plain": [
       "<Figure size 800x500 with 1 Axes>"
      ]
     },
     "metadata": {},
     "output_type": "display_data"
    }
   ],
   "source": [
    "genre_counts = data2['genres'].value_counts().head(3)\n",
    "plt.figure(figsize=(8, 5))\n",
    "genre_counts.plot(kind='bar', color='lightcoral')\n",
    "plt.title('Top 3 Most Common Genres in Movies and Shows', fontsize=16)\n",
    "plt.xlabel('Genres', fontsize=12)\n",
    "plt.ylabel('Count', fontsize=12)\n",
    "plt.xticks(rotation=0)\n",
    "plt.show()"
   ]
  },
  {
   "cell_type": "code",
   "execution_count": null,
   "id": "0d21f145-0586-4072-9e75-49a72c7b7507",
   "metadata": {},
   "outputs": [],
   "source": []
  },
  {
   "cell_type": "markdown",
   "id": "f78060b0-3620-4314-a737-8fe4e889b5d1",
   "metadata": {},
   "source": [
    "# 8.\tProduction countries with the most movies and shows?"
   ]
  },
  {
   "cell_type": "code",
   "execution_count": 73,
   "id": "c2412a58-37f3-4dd9-8f9b-72d4102eeeab",
   "metadata": {},
   "outputs": [],
   "source": [
    "# country_counts = data2['production_countries'].value_counts().head(10)\n",
    "# plt.figure(figsize=(8, 5))\n",
    "# country_counts.plot(kind='bar', color='lightseagreen')\n",
    "# plt.title('Production Countries with the Most Movies and Shows', fontsize=16)\n",
    "# plt.xlabel('Production Countries', fontsize=12)\n",
    "# plt.ylabel('Count', fontsize=12)\n",
    "# plt.xticks(rotation=45)\n",
    "# plt.show()"
   ]
  },
  {
   "cell_type": "code",
   "execution_count": 74,
   "id": "db575461-61f7-47fc-875c-cd92fcfdae5d",
   "metadata": {},
   "outputs": [
    {
     "data": {
      "text/plain": [
       "array([\"['US']\", \"['GB']\", \"['GB', 'US']\", \"['EG']\", \"['DE']\", \"['IN']\",\n",
       "       \"['SU', 'IN']\", \"['LB', 'CA', 'FR']\", '[]', \"['LB']\",\n",
       "       \"['DZ', 'EG']\", \"['CA', 'FR', 'LB']\", \"['US', 'GB']\",\n",
       "       \"['US', 'IT']\", \"['JP']\", \"['AR']\", \"['FR', 'EG']\", \"['FR', 'LB']\",\n",
       "       \"['CA', 'US']\", \"['US', 'FR']\", \"['JP', 'US']\", \"['US', 'CA']\",\n",
       "       \"['DE', 'US']\", \"['PE', 'US', 'BR']\", \"['IT', 'US', 'FR']\",\n",
       "       \"['IE', 'GB', 'DE', 'FR']\", \"['HK', 'US']\", \"['AU']\", \"['FR']\",\n",
       "       \"['DE', 'GH', 'GB', 'US', 'BF']\", \"['MX']\", \"['ES', 'AR']\",\n",
       "       \"['CO']\", \"['PS', 'US', 'FR', 'DE']\", \"['FR', 'NO', 'LB', 'BE']\",\n",
       "       \"['BE', 'FR', 'IT', 'LB']\", \"['TR']\", \"['IN', 'SU']\", \"['DK']\",\n",
       "       \"['CA']\", \"['DE', 'GB', 'US', 'BS', 'CZ']\", \"['MT', 'GB', 'US']\",\n",
       "       \"['AU', 'DE', 'GB', 'US']\", \"['US', 'JP']\", \"['BE', 'US']\",\n",
       "       \"['HK']\", \"['IT']\", \"['US', 'FR', 'DE', 'GB']\",\n",
       "       \"['GB', 'US', 'FR', 'DE']\", \"['IT', 'US']\", \"['US', 'ZA']\",\n",
       "       \"['GB', 'ES']\", \"['GB', 'US', 'JP']\", \"['HK', 'CN']\",\n",
       "       \"['GB', 'US', 'BG']\", \"['RU']\", \"['KR']\", \"['CA', 'US', 'IN']\",\n",
       "       \"['CN']\", \"['JP', 'HK']\", \"['CA', 'GB', 'US']\",\n",
       "       \"['FR', 'MX', 'ES']\", \"['IN', 'US']\", \"['AR', 'ES']\", \"['CL']\",\n",
       "       \"['FR', 'MA', 'DE', 'PS']\", \"['AR', 'DE', 'UY', 'ES']\",\n",
       "       \"['CL', 'AR']\", \"['CZ', 'GB', 'DK', 'NL', 'SE']\", \"['TW']\",\n",
       "       \"['SG']\", \"['NG']\", \"['MY']\", \"['Lebanon']\",\n",
       "       \"['BE', 'FR', 'ES', 'CH', 'PS']\", \"['ZA']\", \"['NG', 'US']\",\n",
       "       \"['LB', 'FR']\", \"['CN', 'HK']\", \"['PH']\", \"['LB', 'GB', 'FR']\",\n",
       "       \"['FR', 'DE', 'KW', 'PS']\", \"['PS']\",\n",
       "       \"['GB', 'US', 'AT', 'FR', 'DE', 'NG']\", \"['XX']\", \"['AE', 'US']\",\n",
       "       \"['DK', 'US']\", \"['FR', 'US', 'GB']\", \"['HU', 'US', 'CA']\",\n",
       "       \"['NO']\", \"['GB', 'FR', 'DE']\", \"['US', 'HU', 'IT']\",\n",
       "       \"['US', 'ZA', 'DE']\", \"['IN', 'DE']\", \"['SA']\", \"['ID']\",\n",
       "       \"['US', 'LB', 'AE']\", \"['PS', 'NL', 'US', 'AE']\",\n",
       "       \"['US', 'FR', 'GB']\", \"['US', 'DE', 'GB']\", \"['GB', 'ZA']\",\n",
       "       \"['US', 'CA', 'CL']\", \"['US', 'GB', 'CN', 'CA']\",\n",
       "       \"['AU', 'CH', 'GB']\", \"['ES']\", \"['FI']\", \"['IL']\", \"['FR', 'US']\",\n",
       "       \"['AU', 'US']\", \"['CA', 'US', 'GB']\", \"['AT']\", \"['CD', 'GB']\",\n",
       "       \"['US', 'BR']\", \"['CA', 'JP', 'US']\", \"['CA', 'KR']\",\n",
       "       \"['US', 'EG', 'GB']\", \"['BR']\", \"['PL']\", \"['VE', 'AR']\", \"['RO']\",\n",
       "       \"['IL', 'NO', 'ZA', 'AE', 'GB', 'IS', 'IE']\",\n",
       "       \"['US', 'CN', 'DE', 'SG', 'UA']\", \"['DE', 'IT', 'PS', 'FR']\",\n",
       "       \"['AE', 'LB']\", \"['LB', 'AE']\", \"['US', 'ES']\", \"['NZ']\",\n",
       "       \"['GB', 'US', 'FR']\", \"['US', 'FR', 'LU', 'GB']\", \"['FR', 'BE']\",\n",
       "       \"['IT', 'GB']\", \"['US', 'CA', 'GB']\", \"['CA', 'FR']\",\n",
       "       \"['US', 'CN']\", \"['UA']\", \"['MX', 'ZA', 'US']\",\n",
       "       \"['US', 'GB', 'ES']\", \"['BE', 'DK', 'DE', 'GB', 'US']\",\n",
       "       \"['GB', 'IR', 'JO', 'QA']\", \"['CH', 'US']\", \"['CA', 'DE', 'GB']\",\n",
       "       \"['GH', 'US']\", \"['IE', 'GB']\", \"['CN', 'US']\",\n",
       "       \"['UA', 'GB', 'US']\", \"['IE', 'ZA']\", \"['US', 'FR', 'MT']\",\n",
       "       \"['BG']\", \"['GB', 'FR']\", \"['BY']\", \"['IE']\", \"['IS']\",\n",
       "       \"['AU', 'FR', 'DE']\", \"['CN', 'FR', 'CA']\", \"['FR', 'QA']\",\n",
       "       \"['SE']\", \"['FR', 'ES']\", \"['NL']\", \"['HR']\", \"['FR', 'MA']\",\n",
       "       \"['RU', 'US', 'FR']\", \"['SY', 'GB']\", \"['AT', 'US']\", \"['CD']\",\n",
       "       \"['FR', 'CL']\", \"['AU', 'GB']\", \"['TN']\", \"['AE']\", \"['SE', 'NO']\",\n",
       "       \"['GL', 'FR']\", \"['LB', 'DE']\", \"['PT', 'SE', 'DK', 'BR', 'FR']\",\n",
       "       \"['QA', 'LB']\", \"['GB', 'AU', 'US']\", \"['ES', 'DK']\",\n",
       "       \"['AE', 'FR', 'JO', 'LB', 'QA', 'PS']\", \"['US', 'CA', 'JP']\",\n",
       "       \"['PK']\", \"['IN', 'GB']\", \"['PS', 'FR', 'DE']\", \"['CZ']\",\n",
       "       \"['CA', 'NG']\", \"['VN']\", \"['NL', 'GB']\",\n",
       "       \"['CA', 'HU', 'MX', 'ES', 'GB', 'US']\", \"['FR', 'GB', 'US']\",\n",
       "       \"['FR', 'NL', 'GB', 'US']\", \"['CN', 'CA', 'US']\", \"['CA', 'GB']\",\n",
       "       \"['KR', 'US']\", \"['FR', 'RO', 'GB', 'BE', 'DE']\", \"['US', 'MX']\",\n",
       "       \"['HK', 'IS', 'US']\", \"['IN', 'CN', 'US', 'GB']\", \"['BE', 'FR']\",\n",
       "       \"['PR', 'US', 'GB', 'CN']\", \"['GB', 'DE']\", \"['US', 'PR']\",\n",
       "       \"['IT', 'CH', 'FR']\", \"['IT', 'ES', 'FR']\", \"['US', 'IS', 'NO']\",\n",
       "       \"['IQ', 'GB']\", \"['HU']\", \"['US', 'AU', 'GB']\",\n",
       "       \"['CZ', 'GB', 'US']\", \"['US', 'IE', 'CA']\", \"['TH']\",\n",
       "       \"['IR', 'US', 'FR']\", \"['BE']\",\n",
       "       \"['GB', 'ID', 'CA', 'CN', 'SG', 'US']\", \"['ES', 'FR']\",\n",
       "       \"['SG', 'GB', 'US']\", \"['GE', 'DE', 'FR']\", \"['CA', 'US', 'DE']\",\n",
       "       \"['CA', 'IE']\", \"['NL', 'BE']\", \"['US', 'KH']\", \"['FR', 'JP']\",\n",
       "       \"['PR']\", \"['US', 'CA', 'CN']\", \"['CN', 'US', 'ES']\",\n",
       "       \"['CU', 'US']\", \"['BG', 'US']\", \"['US', 'BG']\",\n",
       "       \"['US', 'DK', 'GB']\", \"['ES', 'IT']\", \"['TR', 'US']\",\n",
       "       \"['PE', 'DE', 'NO']\", \"['LU', 'US', 'FR']\",\n",
       "       \"['IL', 'MA', 'US', 'BG', 'GB']\", \"['AR', 'CL']\",\n",
       "       \"['AR', 'ES', 'UY']\", \"['JP', 'CN']\", \"['US', 'AU']\",\n",
       "       \"['QA', 'TN', 'FR']\", \"['ES', 'MX']\", \"['PH', 'SG']\",\n",
       "       \"['US', 'AE']\", \"['DE', 'DK', 'NL', 'GB']\", \"['NL', 'MX']\",\n",
       "       \"['CA', 'CN']\", \"['NO', 'SE', 'DK', 'NL']\", \"['US', 'DE', 'ZA']\",\n",
       "       \"['IS', 'SE', 'BE']\", \"['DE', 'ES']\", \"['CN', 'FR', 'TW', 'US']\",\n",
       "       \"['KH']\", \"['BE', 'FR', 'IT']\", \"['DE', 'CH']\",\n",
       "       \"['JP', 'KR', 'FR']\", \"['DE', 'NZ', 'GB']\", \"['PE']\",\n",
       "       \"['MX', 'US']\", \"['US', 'DK']\", \"['PL', 'US']\", \"['KE']\", \"['GH']\",\n",
       "       \"['IT', 'CH', 'VA', 'FR', 'DE']\", \"['PE', 'GB', 'US', 'IL', 'IT']\",\n",
       "       \"['SA', 'SY', 'AE']\", \"['US', 'KR']\", \"['IN', 'FR']\",\n",
       "       \"['RS', 'PL', 'RU']\", \"['CL', 'NL', 'FR']\", \"['IE', 'CA']\",\n",
       "       \"['US', 'NL']\", \"['TZ']\", \"['IT', 'ES']\", \"['ID', 'MY', 'SG']\",\n",
       "       \"['FR', 'LU', 'CA']\", \"['FR', 'QA', 'TN', 'BE']\",\n",
       "       \"['PL', 'CH', 'AL', 'IT']\", \"['CZ', 'US']\", \"['AR', 'FR']\",\n",
       "       \"['DE', 'IT']\", \"['IT', 'FR']\", \"['MX', 'FI']\", \"['CA', 'BR']\",\n",
       "       \"['IN', 'MX']\", \"['BR', 'DK', 'FR', 'DE', 'PL', 'AR']\",\n",
       "       \"['ZA', 'US', 'CA']\", \"['ES', 'BE']\", \"['PY']\", \"['US', 'NG']\",\n",
       "       \"['US', 'BE', 'GB']\", \"['ZW']\", \"['IT', 'AR']\",\n",
       "       \"['AT', 'IQ', 'US']\", \"['GE']\", \"['AR', 'IT']\", \"['NG', 'NO']\",\n",
       "       \"['IS', 'GB']\", \"['MX', 'CO']\", \"['AR', 'US']\", \"['KW']\",\n",
       "       \"['JP', 'GB']\", \"['TW', 'US']\", \"['NP', 'IN']\",\n",
       "       \"['AU', 'US', 'CN']\", \"['FR', 'IN', 'SG']\", \"['LB', 'PS']\",\n",
       "       \"['JP', 'US', 'CA']\", \"['CM']\", \"['BD', 'IN']\", \"['CA', 'ZA']\",\n",
       "       \"['FR', 'PS', 'CH', 'QA']\", \"['NL', 'JO', 'DE']\",\n",
       "       \"['GB', 'DK', 'GR']\", \"['MX', 'AR']\", \"['US', 'CL', 'MX']\",\n",
       "       \"['KG']\", \"['CH']\", \"['BD']\", \"['LU']\", \"['ZA', 'GB']\",\n",
       "       \"['BT', 'CN']\", \"['CA', 'HU', 'US']\", \"['BE', 'LT', 'NL']\",\n",
       "       \"['IT', 'MC', 'US', 'CA']\", \"['CN', 'US', 'AU', 'CA']\",\n",
       "       \"['BE', 'SE', 'GB']\", \"['GB', 'CZ', 'FR']\", \"['US', 'MW', 'GB']\",\n",
       "       \"['US', 'CY']\", \"['BE', 'FR', 'SN']\", \"['BR', 'FR', 'ES', 'BE']\",\n",
       "       \"['US', 'CH']\", \"['US', 'IL']\", \"['FR', 'LT', 'GB']\",\n",
       "       \"['GB', 'IE']\", \"['GB', 'IT']\", \"['JO', 'TH', 'US', 'AL']\",\n",
       "       \"['PT', 'US']\", \"['IL', 'US', 'FR', 'DE']\", \"['TW', 'MY']\",\n",
       "       \"['US', 'CA', 'FR', 'ES']\", \"['FI', 'NO']\", \"['US', 'FR', 'JP']\",\n",
       "       \"['GB', 'JP']\", \"['US', 'CN', 'GB']\",\n",
       "       \"['US', 'FR', 'SE', 'GB', 'DE', 'DK', 'CA']\", \"['DE', 'AT']\",\n",
       "       \"['US', 'TH']\", \"['PH', 'US']\", \"['BR', 'MX']\", \"['NO', 'CA']\",\n",
       "       \"['CO', 'ES']\", \"['CN', 'DE', 'GB']\", \"['NO', 'DE']\",\n",
       "       \"['ES', 'PT']\", \"['IL', 'US']\", \"['ES', 'BE', 'DE']\",\n",
       "       \"['TH', 'US']\", \"['US', 'FR', 'ES']\", \"['ES', 'FR', 'AR']\",\n",
       "       \"['NL', 'PL', 'UA', 'GB', 'US']\", \"['QA', 'PS']\",\n",
       "       \"['RS', 'UY', 'AR']\", \"['FR', 'IT']\", \"['CA', 'LK']\",\n",
       "       \"['US', 'AR']\", \"['EG', 'US']\", \"['US', 'IN']\",\n",
       "       \"['FR', 'LU', 'BE', 'KH']\", \"['US', 'BE', 'ES']\",\n",
       "       \"['CA', 'FR', 'JP', 'GB', 'US']\", \"['AT', 'DE']\",\n",
       "       \"['US', 'GB', 'DE']\", \"['FR', 'MX', 'CO']\", \"['BR', 'FR']\",\n",
       "       \"['JO']\", \"['FR', 'IN', 'QA']\", \"['AR', 'PE']\", \"['MU']\",\n",
       "       \"['DE', 'DK', 'EG']\", \"['US', 'IE']\", \"['IO']\", \"['TW', 'CN']\",\n",
       "       \"['FR', 'NL', 'SG']\", \"['SN']\", \"['UY']\", \"['DE', 'IN', 'AT']\",\n",
       "       \"['MA', 'FR', 'QA']\", \"['PS', 'PH']\", \"['EG', 'SA']\",\n",
       "       \"['ES', 'CN']\", \"['CL', 'AR', 'CA']\", \"['AR', 'CO']\",\n",
       "       \"['GT', 'UY']\", \"['AF', 'DE', 'PS']\", \"['ZA', 'AO']\",\n",
       "       \"['HK', 'PH']\", \"['SG', 'MY']\", \"['SE', 'US']\",\n",
       "       \"['LB', 'US', 'NL', 'CA']\", \"['NL', 'PS', 'US', 'LB']\",\n",
       "       \"['DK', 'LB', 'GB']\", \"['UY', 'MX', 'ES']\", \"['PH', 'JP']\",\n",
       "       \"['CN', 'JP', 'US']\", \"['NA']\", \"['LB', 'QA', 'SY', 'FR']\",\n",
       "       \"['PS', 'DK', 'LB']\", \"['US', 'CZ']\",\n",
       "       \"['GB', 'AU', 'CA', 'GR', 'NZ']\", \"['GR', 'GB', 'US']\",\n",
       "       \"['DE', 'FR']\", \"['NL', 'US']\", \"['AT', 'GB', 'US']\",\n",
       "       \"['CH', 'DE']\", \"['GB', 'US', 'DE']\", \"['DK', 'IS']\",\n",
       "       \"['FR', 'DE', 'US']\", \"['US', 'JP', 'TH']\", \"['FR', 'DE']\",\n",
       "       \"['RO', 'US']\", \"['ES', 'KN']\", \"['SE', 'GB']\",\n",
       "       \"['SG', 'US', 'IN']\", \"['DE', 'AU']\", \"['GB', 'CA']\",\n",
       "       \"['IE', 'US', 'CA']\", \"['PT']\", \"['US', 'PL', 'KR']\",\n",
       "       \"['LU', 'FR']\", \"['IT', 'BR']\", \"['GB', 'HU', 'NL', 'CH']\",\n",
       "       \"['BR', 'DE', 'QA', 'MX', 'US', 'CH', 'AR']\", \"['ES', 'PE']\",\n",
       "       \"['BE', 'GB', 'DE']\", \"['ZA', 'GB', 'US']\", \"['CL', 'PE']\",\n",
       "       \"['CA', 'CN', 'US']\", \"['SG', 'US']\", \"['BR', 'US']\",\n",
       "       \"['BE', 'NL']\", \"['RU', 'US']\", \"['ES', 'US']\", \"['CZ', 'DE']\",\n",
       "       \"['NZ', 'HK']\", \"['MA', 'SA', 'TN', 'EG', 'LB']\", \"['CN', 'GB']\",\n",
       "       \"['AF']\", \"['BE', 'LU']\", \"['BE', 'DE']\", \"['SE', 'RO']\",\n",
       "       \"['ZA', 'US']\", \"['GB', 'IN']\", \"['HU', 'CA']\", \"['NG', 'CA']\",\n",
       "       \"['TZ', 'GB']\", \"['PH', 'FO']\"], dtype=object)"
      ]
     },
     "execution_count": 74,
     "metadata": {},
     "output_type": "execute_result"
    }
   ],
   "source": [
    "data2['production_countries'].unique()"
   ]
  },
  {
   "cell_type": "code",
   "execution_count": 75,
   "id": "ee9dee96-d06e-4e64-9532-6153aca5cb44",
   "metadata": {},
   "outputs": [],
   "source": [
    "data2['production_countries'] = data2['production_countries'].str.replace('[]' , data2['production_countries'].mode()[0])"
   ]
  },
  {
   "cell_type": "code",
   "execution_count": 76,
   "id": "7ece51c1-ab3e-476d-b2f7-c64e957f0e42",
   "metadata": {},
   "outputs": [
    {
     "data": {
      "image/png": "[encoded data removed]",
      "text/plain": [
       "<Figure size 800x500 with 1 Axes>"
      ]
     },
     "metadata": {},
     "output_type": "display_data"
    }
   ],
   "source": [
    "country_counts = data2['production_countries'].value_counts().head(10)\n",
    "plt.figure(figsize=(8, 5))\n",
    "country_counts.plot(kind='bar', color='lightseagreen')\n",
    "plt.title('Production Countries with the Most Movies and Shows', fontsize=16)\n",
    "plt.xlabel('Production Countries', fontsize=12)\n",
    "plt.ylabel('Count', fontsize=12)\n",
    "plt.xticks(rotation=45)\n",
    "plt.show()"
   ]
  },
  {
   "cell_type": "code",
   "execution_count": null,
   "id": "9ee60900-1818-48d3-967b-a99d823a633e",
   "metadata": {},
   "outputs": [],
   "source": []
  },
  {
   "cell_type": "markdown",
   "id": "d1e90de9-5e8d-457a-aadb-93889960f4fc",
   "metadata": {},
   "source": [
    "# 9.\tWhat are top 10 shows with most seasons?"
   ]
  },
  {
   "cell_type": "code",
   "execution_count": 77,
   "id": "4d93e8e4-8983-445d-900d-d4c72195c4d6",
   "metadata": {},
   "outputs": [
    {
     "data": {
      "image/png": "[encoded data removed]",
      "text/plain": [
       "<Figure size 1000x600 with 1 Axes>"
      ]
     },
     "metadata": {},
     "output_type": "display_data"
    }
   ],
   "source": [
    "top_10_shows_seasons = shows_df.sort_values(by='seasons', ascending=False).head(10)\n",
    "plt.figure(figsize=(10, 6))\n",
    "plt.barh(top_10_shows_seasons['title'], top_10_shows_seasons['seasons'], color='skyblue')\n",
    "plt.title('Top 10 Shows with the Most Seasons', fontsize=16)\n",
    "plt.xlabel('Number of Seasons', fontsize=12)\n",
    "plt.ylabel('Shows', fontsize=12)\n",
    "plt.gca().invert_yaxis()  # To display the highest season count at the top\n",
    "plt.show()"
   ]
  },
  {
   "cell_type": "code",
   "execution_count": 78,
   "id": "78bf49ee-3d54-4000-8a3e-52bfda993872",
   "metadata": {},
   "outputs": [
    {
     "data": {
      "text/plain": [
       "array([1, 2, 3])"
      ]
     },
     "execution_count": 78,
     "metadata": {},
     "output_type": "execute_result"
    }
   ],
   "source": [
    "data2['seasons'].unique()"
   ]
  },
  {
   "cell_type": "code",
   "execution_count": null,
   "id": "1ec05eb7-9c0f-4f30-a51d-b29a54141ab8",
   "metadata": {},
   "outputs": [],
   "source": []
  },
  {
   "cell_type": "markdown",
   "id": "8e995ad3-86a5-473d-b55e-bc34830ed55d",
   "metadata": {},
   "source": [
    "# 10.\tCalculating the average runtime of movies and TV shows"
   ]
  },
  {
   "cell_type": "code",
   "execution_count": 79,
   "id": "08190f0a-0473-42fb-ba0c-e88c96a60ce7",
   "metadata": {},
   "outputs": [],
   "source": [
    "average_runtime = data2.groupby('type')['runtime'].mean()\n"
   ]
  },
  {
   "cell_type": "code",
   "execution_count": 80,
   "id": "e16e83dc-d96a-4292-a8fe-87d75b8a909f",
   "metadata": {},
   "outputs": [
    {
     "data": {
      "text/plain": [
       "type\n",
       "MOVIE    98.213675\n",
       "SHOW     38.978158\n",
       "Name: runtime, dtype: float64"
      ]
     },
     "execution_count": 80,
     "metadata": {},
     "output_type": "execute_result"
    }
   ],
   "source": [
    "average_runtime"
   ]
  },
  {
   "cell_type": "code",
   "execution_count": null,
   "id": "541e6186-6ea3-4407-bd35-ddda5df771b2",
   "metadata": {},
   "outputs": [],
   "source": []
  }
 ],
 "metadata": {
  "kernelspec": {
   "display_name": "Python 3 (ipykernel)",
   "language": "python",
   "name": "python3"
  },
  "language_info": {
   "codemirror_mode": {
    "name": "ipython",
    "version": 3
   },
   "file_extension": ".py",
   "mimetype": "text/x-python",
   "name": "python",
   "nbconvert_exporter": "python",
   "pygments_lexer": "ipython3",
   "version": "3.12.3"
  }
 },
 "nbformat": 4,
 "nbformat_minor": 5
}
