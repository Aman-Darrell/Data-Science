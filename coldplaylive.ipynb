{
 "cells": [
  {
   "cell_type": "markdown",
   "id": "d04330e1-c97b-4725-826c-3c2d12ef728a",
   "metadata": {},
   "source": [
    "# DATA CLEANING PROCESS"
   ]
  },
  {
   "cell_type": "code",
   "execution_count": 1,
   "id": "8f4e1abe-4d46-4f31-bdb0-99d0fc1c6c38",
   "metadata": {},
   "outputs": [],
   "source": [
    "import numpy as np \n",
    "import pandas as pd\n",
    "import seaborn as sns \n",
    "from matplotlib import pyplot as plt\n",
    "from sklearn.impute import SimpleImputer \n",
    "from sklearn.compose import ColumnTransformer \n",
    "from sklearn.preprocessing import OneHotEncoder , OrdinalEncoder , LabelEncoder , StandardScaler , MinMaxScaler \n",
    "from sklearn.model_selection import train_test_split\n",
    "from sklearn.feature_selection import SelectKBest , chi2 \n",
    "from sklearn.tree import DecisionTreeClassifier \n",
    "from sklearn.pipeline import Pipeline , make_pipeline \n",
    "import warnings \n",
    "warnings.filterwarnings('ignore')"
   ]
  },
  {
   "cell_type": "markdown",
   "id": "e63959d3-fb90-4131-8481-794554f9d106",
   "metadata": {},
   "source": [
    "# Importing File"
   ]
  },
  {
   "cell_type": "code",
   "execution_count": 2,
   "id": "f3356813-fdd5-4ad6-b676-0fe740c06cb5",
   "metadata": {},
   "outputs": [],
   "source": [
    "data = pd.read_csv('C:\\\\Users\\\\ASUS\\\\OneDrive\\\\Desktop\\\\Assignment\\\\Data\\\\Coldplay.csv')"
   ]
  },
  {
   "cell_type": "code",
   "execution_count": 3,
   "id": "0fd534cc-f006-4cd4-a666-1cb8140cdc07",
   "metadata": {},
   "outputs": [
    {
     "data": {
      "text/html": [
       "<div>\n",
       "<style scoped>\n",
       "    .dataframe tbody tr th:only-of-type {\n",
       "        vertical-align: middle;\n",
       "    }\n",
       "\n",
       "    .dataframe tbody tr th {\n",
       "        vertical-align: top;\n",
       "    }\n",
       "\n",
       "    .dataframe thead th {\n",
       "        text-align: right;\n",
       "    }\n",
       "</style>\n",
       "<table border=\"1\" class=\"dataframe\">\n",
       "  <thead>\n",
       "    <tr style=\"text-align: right;\">\n",
       "      <th></th>\n",
       "      <th>name</th>\n",
       "      <th>duration</th>\n",
       "      <th>release_date</th>\n",
       "      <th>album_name</th>\n",
       "      <th>explicit</th>\n",
       "      <th>popularity</th>\n",
       "      <th>acousticness</th>\n",
       "      <th>danceability</th>\n",
       "      <th>energy</th>\n",
       "      <th>instrumentalness</th>\n",
       "      <th>liveness</th>\n",
       "      <th>loudness</th>\n",
       "      <th>speechiness</th>\n",
       "      <th>tempo</th>\n",
       "      <th>time_signature</th>\n",
       "      <th>valence</th>\n",
       "    </tr>\n",
       "  </thead>\n",
       "  <tbody>\n",
       "    <tr>\n",
       "      <th>0</th>\n",
       "      <td>🪐</td>\n",
       "      <td>53.184</td>\n",
       "      <td>2021-10-15</td>\n",
       "      <td>Music Of The Spheres</td>\n",
       "      <td>False</td>\n",
       "      <td>62</td>\n",
       "      <td>0.887000</td>\n",
       "      <td>0.3260</td>\n",
       "      <td>0.322</td>\n",
       "      <td>0.841000</td>\n",
       "      <td>0.116</td>\n",
       "      <td>-20.192</td>\n",
       "      <td>0.0337</td>\n",
       "      <td>89.657</td>\n",
       "      <td>4</td>\n",
       "      <td>0.0651</td>\n",
       "    </tr>\n",
       "    <tr>\n",
       "      <th>1</th>\n",
       "      <td>Higher Power</td>\n",
       "      <td>206.681</td>\n",
       "      <td>2021-10-15</td>\n",
       "      <td>Music Of The Spheres</td>\n",
       "      <td>False</td>\n",
       "      <td>71</td>\n",
       "      <td>0.006430</td>\n",
       "      <td>0.5070</td>\n",
       "      <td>0.832</td>\n",
       "      <td>0.000016</td>\n",
       "      <td>0.229</td>\n",
       "      <td>-5.931</td>\n",
       "      <td>0.0425</td>\n",
       "      <td>177.894</td>\n",
       "      <td>4</td>\n",
       "      <td>0.4850</td>\n",
       "    </tr>\n",
       "    <tr>\n",
       "      <th>2</th>\n",
       "      <td>Humankind</td>\n",
       "      <td>266.704</td>\n",
       "      <td>2021-10-15</td>\n",
       "      <td>Music Of The Spheres</td>\n",
       "      <td>False</td>\n",
       "      <td>68</td>\n",
       "      <td>0.000172</td>\n",
       "      <td>0.5750</td>\n",
       "      <td>0.838</td>\n",
       "      <td>0.000103</td>\n",
       "      <td>0.458</td>\n",
       "      <td>-6.498</td>\n",
       "      <td>0.0454</td>\n",
       "      <td>135.006</td>\n",
       "      <td>4</td>\n",
       "      <td>0.2150</td>\n",
       "    </tr>\n",
       "    <tr>\n",
       "      <th>3</th>\n",
       "      <td>✨</td>\n",
       "      <td>53.033</td>\n",
       "      <td>2021-10-15</td>\n",
       "      <td>Music Of The Spheres</td>\n",
       "      <td>False</td>\n",
       "      <td>59</td>\n",
       "      <td>0.805000</td>\n",
       "      <td>0.0859</td>\n",
       "      <td>0.289</td>\n",
       "      <td>0.990000</td>\n",
       "      <td>0.141</td>\n",
       "      <td>-17.240</td>\n",
       "      <td>0.0359</td>\n",
       "      <td>166.784</td>\n",
       "      <td>4</td>\n",
       "      <td>0.0380</td>\n",
       "    </tr>\n",
       "    <tr>\n",
       "      <th>4</th>\n",
       "      <td>Let Somebody Go</td>\n",
       "      <td>241.595</td>\n",
       "      <td>2021-10-15</td>\n",
       "      <td>Music Of The Spheres</td>\n",
       "      <td>False</td>\n",
       "      <td>76</td>\n",
       "      <td>0.193000</td>\n",
       "      <td>0.5920</td>\n",
       "      <td>0.342</td>\n",
       "      <td>0.002450</td>\n",
       "      <td>0.110</td>\n",
       "      <td>-8.930</td>\n",
       "      <td>0.0339</td>\n",
       "      <td>130.953</td>\n",
       "      <td>4</td>\n",
       "      <td>0.1550</td>\n",
       "    </tr>\n",
       "  </tbody>\n",
       "</table>\n",
       "</div>"
      ],
      "text/plain": [
       "              name  duration release_date            album_name  explicit  \\\n",
       "0                🪐    53.184   2021-10-15  Music Of The Spheres     False   \n",
       "1     Higher Power   206.681   2021-10-15  Music Of The Spheres     False   \n",
       "2        Humankind   266.704   2021-10-15  Music Of The Spheres     False   \n",
       "3                ✨    53.033   2021-10-15  Music Of The Spheres     False   \n",
       "4  Let Somebody Go   241.595   2021-10-15  Music Of The Spheres     False   \n",
       "\n",
       "   popularity  acousticness  danceability  energy  instrumentalness  liveness  \\\n",
       "0          62      0.887000        0.3260   0.322          0.841000     0.116   \n",
       "1          71      0.006430        0.5070   0.832          0.000016     0.229   \n",
       "2          68      0.000172        0.5750   0.838          0.000103     0.458   \n",
       "3          59      0.805000        0.0859   0.289          0.990000     0.141   \n",
       "4          76      0.193000        0.5920   0.342          0.002450     0.110   \n",
       "\n",
       "   loudness  speechiness    tempo  time_signature  valence  \n",
       "0   -20.192       0.0337   89.657               4   0.0651  \n",
       "1    -5.931       0.0425  177.894               4   0.4850  \n",
       "2    -6.498       0.0454  135.006               4   0.2150  \n",
       "3   -17.240       0.0359  166.784               4   0.0380  \n",
       "4    -8.930       0.0339  130.953               4   0.1550  "
      ]
     },
     "execution_count": 3,
     "metadata": {},
     "output_type": "execute_result"
    }
   ],
   "source": [
    "data.head()"
   ]
  },
  {
   "cell_type": "markdown",
   "id": "6f436603-e5ec-4d3a-90ed-3da072e1e860",
   "metadata": {},
   "source": [
    "#  Checking DTypes"
   ]
  },
  {
   "cell_type": "code",
   "execution_count": 4,
   "id": "fdf9e5b2-ee2a-46ce-b2b9-8ed7f3192b8d",
   "metadata": {},
   "outputs": [
    {
     "name": "stdout",
     "output_type": "stream",
     "text": [
      "<class 'pandas.core.frame.DataFrame'>\n",
      "RangeIndex: 232 entries, 0 to 231\n",
      "Data columns (total 16 columns):\n",
      " #   Column            Non-Null Count  Dtype  \n",
      "---  ------            --------------  -----  \n",
      " 0   name              232 non-null    object \n",
      " 1   duration          232 non-null    float64\n",
      " 2   release_date      232 non-null    object \n",
      " 3   album_name        232 non-null    object \n",
      " 4   explicit          232 non-null    bool   \n",
      " 5   popularity        232 non-null    int64  \n",
      " 6   acousticness      232 non-null    float64\n",
      " 7   danceability      232 non-null    float64\n",
      " 8   energy            232 non-null    float64\n",
      " 9   instrumentalness  232 non-null    float64\n",
      " 10  liveness          232 non-null    float64\n",
      " 11  loudness          232 non-null    float64\n",
      " 12  speechiness       232 non-null    float64\n",
      " 13  tempo             232 non-null    float64\n",
      " 14  time_signature    232 non-null    int64  \n",
      " 15  valence           232 non-null    float64\n",
      "dtypes: bool(1), float64(10), int64(2), object(3)\n",
      "memory usage: 27.5+ KB\n"
     ]
    }
   ],
   "source": [
    "data.info()"
   ]
  },
  {
   "cell_type": "markdown",
   "id": "64be743c-79f5-496a-bd1a-42c6d045ef40",
   "metadata": {},
   "source": [
    "#  Changing DType of ['release_date']"
   ]
  },
  {
   "cell_type": "code",
   "execution_count": 5,
   "id": "522a3d50-b01a-4c4f-9164-98dadcbe144d",
   "metadata": {},
   "outputs": [],
   "source": [
    "data['release_date'] = pd.to_datetime(data['release_date'])"
   ]
  },
  {
   "cell_type": "code",
   "execution_count": 6,
   "id": "3bfcb6e8-25b1-470b-b6ef-75c5ec970c3e",
   "metadata": {},
   "outputs": [
    {
     "name": "stdout",
     "output_type": "stream",
     "text": [
      "<class 'pandas.core.frame.DataFrame'>\n",
      "RangeIndex: 232 entries, 0 to 231\n",
      "Data columns (total 16 columns):\n",
      " #   Column            Non-Null Count  Dtype         \n",
      "---  ------            --------------  -----         \n",
      " 0   name              232 non-null    object        \n",
      " 1   duration          232 non-null    float64       \n",
      " 2   release_date      232 non-null    datetime64[ns]\n",
      " 3   album_name        232 non-null    object        \n",
      " 4   explicit          232 non-null    bool          \n",
      " 5   popularity        232 non-null    int64         \n",
      " 6   acousticness      232 non-null    float64       \n",
      " 7   danceability      232 non-null    float64       \n",
      " 8   energy            232 non-null    float64       \n",
      " 9   instrumentalness  232 non-null    float64       \n",
      " 10  liveness          232 non-null    float64       \n",
      " 11  loudness          232 non-null    float64       \n",
      " 12  speechiness       232 non-null    float64       \n",
      " 13  tempo             232 non-null    float64       \n",
      " 14  time_signature    232 non-null    int64         \n",
      " 15  valence           232 non-null    float64       \n",
      "dtypes: bool(1), datetime64[ns](1), float64(10), int64(2), object(2)\n",
      "memory usage: 27.5+ KB\n"
     ]
    }
   ],
   "source": [
    "data.info()"
   ]
  },
  {
   "cell_type": "code",
   "execution_count": 7,
   "id": "9f3b1bb6-4ed6-467f-98be-32b03c27ecda",
   "metadata": {},
   "outputs": [
    {
     "data": {
      "text/html": [
       "<div>\n",
       "<style scoped>\n",
       "    .dataframe tbody tr th:only-of-type {\n",
       "        vertical-align: middle;\n",
       "    }\n",
       "\n",
       "    .dataframe tbody tr th {\n",
       "        vertical-align: top;\n",
       "    }\n",
       "\n",
       "    .dataframe thead th {\n",
       "        text-align: right;\n",
       "    }\n",
       "</style>\n",
       "<table border=\"1\" class=\"dataframe\">\n",
       "  <thead>\n",
       "    <tr style=\"text-align: right;\">\n",
       "      <th></th>\n",
       "      <th>duration</th>\n",
       "      <th>release_date</th>\n",
       "      <th>popularity</th>\n",
       "      <th>acousticness</th>\n",
       "      <th>danceability</th>\n",
       "      <th>energy</th>\n",
       "      <th>instrumentalness</th>\n",
       "      <th>liveness</th>\n",
       "      <th>loudness</th>\n",
       "      <th>speechiness</th>\n",
       "      <th>tempo</th>\n",
       "      <th>time_signature</th>\n",
       "      <th>valence</th>\n",
       "    </tr>\n",
       "  </thead>\n",
       "  <tbody>\n",
       "    <tr>\n",
       "      <th>count</th>\n",
       "      <td>232.000000</td>\n",
       "      <td>232</td>\n",
       "      <td>232.000000</td>\n",
       "      <td>232.000000</td>\n",
       "      <td>232.000000</td>\n",
       "      <td>232.000000</td>\n",
       "      <td>232.000000</td>\n",
       "      <td>232.000000</td>\n",
       "      <td>232.000000</td>\n",
       "      <td>232.000000</td>\n",
       "      <td>232.000000</td>\n",
       "      <td>232.000000</td>\n",
       "      <td>232.000000</td>\n",
       "    </tr>\n",
       "    <tr>\n",
       "      <th>mean</th>\n",
       "      <td>262.262586</td>\n",
       "      <td>2012-10-07 06:18:37.241379328</td>\n",
       "      <td>43.362069</td>\n",
       "      <td>0.242882</td>\n",
       "      <td>0.388537</td>\n",
       "      <td>0.622547</td>\n",
       "      <td>0.206304</td>\n",
       "      <td>0.402314</td>\n",
       "      <td>-8.716358</td>\n",
       "      <td>0.046014</td>\n",
       "      <td>122.630185</td>\n",
       "      <td>3.849138</td>\n",
       "      <td>0.233402</td>\n",
       "    </tr>\n",
       "    <tr>\n",
       "      <th>min</th>\n",
       "      <td>21.388000</td>\n",
       "      <td>2000-07-10 00:00:00</td>\n",
       "      <td>0.000000</td>\n",
       "      <td>0.000089</td>\n",
       "      <td>0.071400</td>\n",
       "      <td>0.049100</td>\n",
       "      <td>0.000000</td>\n",
       "      <td>0.035900</td>\n",
       "      <td>-29.286000</td>\n",
       "      <td>0.024300</td>\n",
       "      <td>64.501000</td>\n",
       "      <td>1.000000</td>\n",
       "      <td>0.018500</td>\n",
       "    </tr>\n",
       "    <tr>\n",
       "      <th>25%</th>\n",
       "      <td>225.183000</td>\n",
       "      <td>2008-11-24 00:00:00</td>\n",
       "      <td>23.000000</td>\n",
       "      <td>0.006667</td>\n",
       "      <td>0.280750</td>\n",
       "      <td>0.455500</td>\n",
       "      <td>0.000594</td>\n",
       "      <td>0.123000</td>\n",
       "      <td>-9.362250</td>\n",
       "      <td>0.031900</td>\n",
       "      <td>102.839000</td>\n",
       "      <td>4.000000</td>\n",
       "      <td>0.130750</td>\n",
       "    </tr>\n",
       "    <tr>\n",
       "      <th>50%</th>\n",
       "      <td>261.773000</td>\n",
       "      <td>2013-08-19 00:00:00</td>\n",
       "      <td>44.000000</td>\n",
       "      <td>0.046850</td>\n",
       "      <td>0.405500</td>\n",
       "      <td>0.670500</td>\n",
       "      <td>0.016700</td>\n",
       "      <td>0.288500</td>\n",
       "      <td>-7.520000</td>\n",
       "      <td>0.036800</td>\n",
       "      <td>126.618000</td>\n",
       "      <td>4.000000</td>\n",
       "      <td>0.209000</td>\n",
       "    </tr>\n",
       "    <tr>\n",
       "      <th>75%</th>\n",
       "      <td>303.259500</td>\n",
       "      <td>2018-12-07 00:00:00</td>\n",
       "      <td>59.000000</td>\n",
       "      <td>0.433250</td>\n",
       "      <td>0.491000</td>\n",
       "      <td>0.805250</td>\n",
       "      <td>0.345250</td>\n",
       "      <td>0.725250</td>\n",
       "      <td>-6.526000</td>\n",
       "      <td>0.048100</td>\n",
       "      <td>138.015000</td>\n",
       "      <td>4.000000</td>\n",
       "      <td>0.303000</td>\n",
       "    </tr>\n",
       "    <tr>\n",
       "      <th>max</th>\n",
       "      <td>617.057000</td>\n",
       "      <td>2021-10-15 00:00:00</td>\n",
       "      <td>91.000000</td>\n",
       "      <td>0.990000</td>\n",
       "      <td>0.806000</td>\n",
       "      <td>0.971000</td>\n",
       "      <td>0.993000</td>\n",
       "      <td>0.994000</td>\n",
       "      <td>-3.516000</td>\n",
       "      <td>0.248000</td>\n",
       "      <td>204.520000</td>\n",
       "      <td>5.000000</td>\n",
       "      <td>0.802000</td>\n",
       "    </tr>\n",
       "    <tr>\n",
       "      <th>std</th>\n",
       "      <td>90.885502</td>\n",
       "      <td>NaN</td>\n",
       "      <td>21.115800</td>\n",
       "      <td>0.326769</td>\n",
       "      <td>0.143816</td>\n",
       "      <td>0.225704</td>\n",
       "      <td>0.319071</td>\n",
       "      <td>0.326351</td>\n",
       "      <td>3.782933</td>\n",
       "      <td>0.029751</td>\n",
       "      <td>27.007414</td>\n",
       "      <td>0.463937</td>\n",
       "      <td>0.144770</td>\n",
       "    </tr>\n",
       "  </tbody>\n",
       "</table>\n",
       "</div>"
      ],
      "text/plain": [
       "         duration                   release_date  popularity  acousticness  \\\n",
       "count  232.000000                            232  232.000000    232.000000   \n",
       "mean   262.262586  2012-10-07 06:18:37.241379328   43.362069      0.242882   \n",
       "min     21.388000            2000-07-10 00:00:00    0.000000      0.000089   \n",
       "25%    225.183000            2008-11-24 00:00:00   23.000000      0.006667   \n",
       "50%    261.773000            2013-08-19 00:00:00   44.000000      0.046850   \n",
       "75%    303.259500            2018-12-07 00:00:00   59.000000      0.433250   \n",
       "max    617.057000            2021-10-15 00:00:00   91.000000      0.990000   \n",
       "std     90.885502                            NaN   21.115800      0.326769   \n",
       "\n",
       "       danceability      energy  instrumentalness    liveness    loudness  \\\n",
       "count    232.000000  232.000000        232.000000  232.000000  232.000000   \n",
       "mean       0.388537    0.622547          0.206304    0.402314   -8.716358   \n",
       "min        0.071400    0.049100          0.000000    0.035900  -29.286000   \n",
       "25%        0.280750    0.455500          0.000594    0.123000   -9.362250   \n",
       "50%        0.405500    0.670500          0.016700    0.288500   -7.520000   \n",
       "75%        0.491000    0.805250          0.345250    0.725250   -6.526000   \n",
       "max        0.806000    0.971000          0.993000    0.994000   -3.516000   \n",
       "std        0.143816    0.225704          0.319071    0.326351    3.782933   \n",
       "\n",
       "       speechiness       tempo  time_signature     valence  \n",
       "count   232.000000  232.000000      232.000000  232.000000  \n",
       "mean      0.046014  122.630185        3.849138    0.233402  \n",
       "min       0.024300   64.501000        1.000000    0.018500  \n",
       "25%       0.031900  102.839000        4.000000    0.130750  \n",
       "50%       0.036800  126.618000        4.000000    0.209000  \n",
       "75%       0.048100  138.015000        4.000000    0.303000  \n",
       "max       0.248000  204.520000        5.000000    0.802000  \n",
       "std       0.029751   27.007414        0.463937    0.144770  "
      ]
     },
     "execution_count": 7,
     "metadata": {},
     "output_type": "execute_result"
    }
   ],
   "source": [
    "data.describe()"
   ]
  },
  {
   "cell_type": "markdown",
   "id": "5bb22210-809e-4451-87a2-963077de3229",
   "metadata": {},
   "source": [
    "#  Making Different Columns Of ['release_year'] , ['release_month_no'] , ['release_month_name'] , ['release_day']"
   ]
  },
  {
   "cell_type": "code",
   "execution_count": 8,
   "id": "0cb451fc-42b3-4dc8-bb35-75b395ca4078",
   "metadata": {},
   "outputs": [],
   "source": [
    "data['release_year'] = data['release_date'].dt.year"
   ]
  },
  {
   "cell_type": "code",
   "execution_count": 9,
   "id": "d0c8700e-5dfd-4952-ac54-7ea95a88720d",
   "metadata": {},
   "outputs": [],
   "source": [
    "data['release_month_no'] = data['release_date'].dt.month"
   ]
  },
  {
   "cell_type": "code",
   "execution_count": 10,
   "id": "332fdf0f-d508-4ade-bad8-0f83fec7695f",
   "metadata": {},
   "outputs": [],
   "source": [
    "data['release_month_name'] = data['release_date'].dt.month_name()"
   ]
  },
  {
   "cell_type": "code",
   "execution_count": 11,
   "id": "6b76fcdf-4efd-4b74-9089-103a949fea2f",
   "metadata": {},
   "outputs": [],
   "source": [
    "data['release_day'] = data['release_date'].dt.day"
   ]
  },
  {
   "cell_type": "markdown",
   "id": "51e164b0-8770-4f31-88e7-5377ac8b0c7d",
   "metadata": {},
   "source": [
    "#  Checking Null Values"
   ]
  },
  {
   "cell_type": "code",
   "execution_count": 12,
   "id": "c59f48cc-479b-45c5-b522-d720445e1e35",
   "metadata": {},
   "outputs": [
    {
     "data": {
      "text/plain": [
       "name                  0\n",
       "duration              0\n",
       "release_date          0\n",
       "album_name            0\n",
       "explicit              0\n",
       "popularity            0\n",
       "acousticness          0\n",
       "danceability          0\n",
       "energy                0\n",
       "instrumentalness      0\n",
       "liveness              0\n",
       "loudness              0\n",
       "speechiness           0\n",
       "tempo                 0\n",
       "time_signature        0\n",
       "valence               0\n",
       "release_year          0\n",
       "release_month_no      0\n",
       "release_month_name    0\n",
       "release_day           0\n",
       "dtype: int64"
      ]
     },
     "execution_count": 12,
     "metadata": {},
     "output_type": "execute_result"
    }
   ],
   "source": [
    "data.isnull().sum()"
   ]
  },
  {
   "cell_type": "code",
   "execution_count": 13,
   "id": "5fbf36fd-4d63-4a84-b16f-e03a68e99918",
   "metadata": {},
   "outputs": [
    {
     "data": {
      "text/html": [
       "<div>\n",
       "<style scoped>\n",
       "    .dataframe tbody tr th:only-of-type {\n",
       "        vertical-align: middle;\n",
       "    }\n",
       "\n",
       "    .dataframe tbody tr th {\n",
       "        vertical-align: top;\n",
       "    }\n",
       "\n",
       "    .dataframe thead th {\n",
       "        text-align: right;\n",
       "    }\n",
       "</style>\n",
       "<table border=\"1\" class=\"dataframe\">\n",
       "  <thead>\n",
       "    <tr style=\"text-align: right;\">\n",
       "      <th></th>\n",
       "      <th>name</th>\n",
       "      <th>duration</th>\n",
       "      <th>release_date</th>\n",
       "      <th>album_name</th>\n",
       "      <th>explicit</th>\n",
       "      <th>popularity</th>\n",
       "      <th>acousticness</th>\n",
       "      <th>danceability</th>\n",
       "      <th>energy</th>\n",
       "      <th>instrumentalness</th>\n",
       "      <th>liveness</th>\n",
       "      <th>loudness</th>\n",
       "      <th>speechiness</th>\n",
       "      <th>tempo</th>\n",
       "      <th>time_signature</th>\n",
       "      <th>valence</th>\n",
       "      <th>release_year</th>\n",
       "      <th>release_month_no</th>\n",
       "      <th>release_month_name</th>\n",
       "      <th>release_day</th>\n",
       "    </tr>\n",
       "  </thead>\n",
       "  <tbody>\n",
       "    <tr>\n",
       "      <th>75</th>\n",
       "      <td>Army of One</td>\n",
       "      <td>376.826</td>\n",
       "      <td>2015-12-04</td>\n",
       "      <td>A Head Full of Dreams</td>\n",
       "      <td>False</td>\n",
       "      <td>58</td>\n",
       "      <td>0.27500</td>\n",
       "      <td>0.387</td>\n",
       "      <td>0.659</td>\n",
       "      <td>0.000064</td>\n",
       "      <td>0.0861</td>\n",
       "      <td>-6.492</td>\n",
       "      <td>0.0434</td>\n",
       "      <td>146.048</td>\n",
       "      <td>4</td>\n",
       "      <td>0.287</td>\n",
       "      <td>2015</td>\n",
       "      <td>12</td>\n",
       "      <td>December</td>\n",
       "      <td>4</td>\n",
       "    </tr>\n",
       "    <tr>\n",
       "      <th>27</th>\n",
       "      <td>Everyday Life</td>\n",
       "      <td>258.533</td>\n",
       "      <td>2019-11-22</td>\n",
       "      <td>Everyday Life</td>\n",
       "      <td>False</td>\n",
       "      <td>29</td>\n",
       "      <td>0.77500</td>\n",
       "      <td>0.512</td>\n",
       "      <td>0.452</td>\n",
       "      <td>0.081800</td>\n",
       "      <td>0.0650</td>\n",
       "      <td>-8.991</td>\n",
       "      <td>0.0292</td>\n",
       "      <td>124.103</td>\n",
       "      <td>4</td>\n",
       "      <td>0.235</td>\n",
       "      <td>2019</td>\n",
       "      <td>11</td>\n",
       "      <td>November</td>\n",
       "      <td>22</td>\n",
       "    </tr>\n",
       "    <tr>\n",
       "      <th>60</th>\n",
       "      <td>Hymn for the Weekend - Live</td>\n",
       "      <td>222.146</td>\n",
       "      <td>2018-12-07</td>\n",
       "      <td>Love in Tokyo</td>\n",
       "      <td>False</td>\n",
       "      <td>12</td>\n",
       "      <td>0.00451</td>\n",
       "      <td>0.416</td>\n",
       "      <td>0.769</td>\n",
       "      <td>0.019200</td>\n",
       "      <td>0.9100</td>\n",
       "      <td>-6.703</td>\n",
       "      <td>0.0409</td>\n",
       "      <td>90.034</td>\n",
       "      <td>4</td>\n",
       "      <td>0.413</td>\n",
       "      <td>2018</td>\n",
       "      <td>12</td>\n",
       "      <td>December</td>\n",
       "      <td>7</td>\n",
       "    </tr>\n",
       "  </tbody>\n",
       "</table>\n",
       "</div>"
      ],
      "text/plain": [
       "                           name  duration release_date             album_name  \\\n",
       "75                  Army of One   376.826   2015-12-04  A Head Full of Dreams   \n",
       "27                Everyday Life   258.533   2019-11-22          Everyday Life   \n",
       "60  Hymn for the Weekend - Live   222.146   2018-12-07          Love in Tokyo   \n",
       "\n",
       "    explicit  popularity  acousticness  danceability  energy  \\\n",
       "75     False          58       0.27500         0.387   0.659   \n",
       "27     False          29       0.77500         0.512   0.452   \n",
       "60     False          12       0.00451         0.416   0.769   \n",
       "\n",
       "    instrumentalness  liveness  loudness  speechiness    tempo  \\\n",
       "75          0.000064    0.0861    -6.492       0.0434  146.048   \n",
       "27          0.081800    0.0650    -8.991       0.0292  124.103   \n",
       "60          0.019200    0.9100    -6.703       0.0409   90.034   \n",
       "\n",
       "    time_signature  valence  release_year  release_month_no  \\\n",
       "75               4    0.287          2015                12   \n",
       "27               4    0.235          2019                11   \n",
       "60               4    0.413          2018                12   \n",
       "\n",
       "   release_month_name  release_day  \n",
       "75           December            4  \n",
       "27           November           22  \n",
       "60           December            7  "
      ]
     },
     "execution_count": 13,
     "metadata": {},
     "output_type": "execute_result"
    }
   ],
   "source": [
    "data.sample(3)"
   ]
  },
  {
   "cell_type": "markdown",
   "id": "adbcdea4-ac52-4218-aeec-6f8bf4bf5ac2",
   "metadata": {},
   "source": [
    "# Dropping Columns That Are Not Necessary"
   ]
  },
  {
   "cell_type": "code",
   "execution_count": 14,
   "id": "21cf3bd7-7cd0-483b-bf1f-8e20f5b32fa7",
   "metadata": {},
   "outputs": [],
   "source": [
    "columns_to_drop = [\n",
    "    'name',              \n",
    "    'release_date',       \n",
    "    'album_name',           \n",
    "    'release_month_name',           \n",
    "]\n"
   ]
  },
  {
   "cell_type": "code",
   "execution_count": 15,
   "id": "918a2f0f-0fcd-4944-9136-53361900d70d",
   "metadata": {},
   "outputs": [],
   "source": [
    "renewed_data = data.drop(columns = columns_to_drop)"
   ]
  },
  {
   "cell_type": "code",
   "execution_count": 16,
   "id": "7330b0de-d9bf-4bae-8c14-2b15f5bff231",
   "metadata": {},
   "outputs": [
    {
     "data": {
      "text/html": [
       "<div>\n",
       "<style scoped>\n",
       "    .dataframe tbody tr th:only-of-type {\n",
       "        vertical-align: middle;\n",
       "    }\n",
       "\n",
       "    .dataframe tbody tr th {\n",
       "        vertical-align: top;\n",
       "    }\n",
       "\n",
       "    .dataframe thead th {\n",
       "        text-align: right;\n",
       "    }\n",
       "</style>\n",
       "<table border=\"1\" class=\"dataframe\">\n",
       "  <thead>\n",
       "    <tr style=\"text-align: right;\">\n",
       "      <th></th>\n",
       "      <th>duration</th>\n",
       "      <th>explicit</th>\n",
       "      <th>popularity</th>\n",
       "      <th>acousticness</th>\n",
       "      <th>danceability</th>\n",
       "      <th>energy</th>\n",
       "      <th>instrumentalness</th>\n",
       "      <th>liveness</th>\n",
       "      <th>loudness</th>\n",
       "      <th>speechiness</th>\n",
       "      <th>tempo</th>\n",
       "      <th>time_signature</th>\n",
       "      <th>valence</th>\n",
       "      <th>release_year</th>\n",
       "      <th>release_month_no</th>\n",
       "      <th>release_day</th>\n",
       "    </tr>\n",
       "  </thead>\n",
       "  <tbody>\n",
       "    <tr>\n",
       "      <th>12</th>\n",
       "      <td>151.093</td>\n",
       "      <td>False</td>\n",
       "      <td>27</td>\n",
       "      <td>0.939</td>\n",
       "      <td>0.146</td>\n",
       "      <td>0.216</td>\n",
       "      <td>0.540</td>\n",
       "      <td>0.0773</td>\n",
       "      <td>-12.302</td>\n",
       "      <td>0.0399</td>\n",
       "      <td>78.045</td>\n",
       "      <td>4</td>\n",
       "      <td>0.0341</td>\n",
       "      <td>2019</td>\n",
       "      <td>11</td>\n",
       "      <td>22</td>\n",
       "    </tr>\n",
       "    <tr>\n",
       "      <th>74</th>\n",
       "      <td>111.853</td>\n",
       "      <td>False</td>\n",
       "      <td>54</td>\n",
       "      <td>0.964</td>\n",
       "      <td>0.288</td>\n",
       "      <td>0.285</td>\n",
       "      <td>0.897</td>\n",
       "      <td>0.4060</td>\n",
       "      <td>-18.193</td>\n",
       "      <td>0.0355</td>\n",
       "      <td>127.122</td>\n",
       "      <td>4</td>\n",
       "      <td>0.1480</td>\n",
       "      <td>2015</td>\n",
       "      <td>12</td>\n",
       "      <td>4</td>\n",
       "    </tr>\n",
       "    <tr>\n",
       "      <th>19</th>\n",
       "      <td>155.000</td>\n",
       "      <td>False</td>\n",
       "      <td>14</td>\n",
       "      <td>0.921</td>\n",
       "      <td>0.141</td>\n",
       "      <td>0.280</td>\n",
       "      <td>0.368</td>\n",
       "      <td>0.1350</td>\n",
       "      <td>-18.225</td>\n",
       "      <td>0.0618</td>\n",
       "      <td>64.501</td>\n",
       "      <td>4</td>\n",
       "      <td>0.4340</td>\n",
       "      <td>2019</td>\n",
       "      <td>11</td>\n",
       "      <td>22</td>\n",
       "    </tr>\n",
       "  </tbody>\n",
       "</table>\n",
       "</div>"
      ],
      "text/plain": [
       "    duration  explicit  popularity  acousticness  danceability  energy  \\\n",
       "12   151.093     False          27         0.939         0.146   0.216   \n",
       "74   111.853     False          54         0.964         0.288   0.285   \n",
       "19   155.000     False          14         0.921         0.141   0.280   \n",
       "\n",
       "    instrumentalness  liveness  loudness  speechiness    tempo  \\\n",
       "12             0.540    0.0773   -12.302       0.0399   78.045   \n",
       "74             0.897    0.4060   -18.193       0.0355  127.122   \n",
       "19             0.368    0.1350   -18.225       0.0618   64.501   \n",
       "\n",
       "    time_signature  valence  release_year  release_month_no  release_day  \n",
       "12               4   0.0341          2019                11           22  \n",
       "74               4   0.1480          2015                12            4  \n",
       "19               4   0.4340          2019                11           22  "
      ]
     },
     "execution_count": 16,
     "metadata": {},
     "output_type": "execute_result"
    }
   ],
   "source": [
    "renewed_data.sample(3)"
   ]
  },
  {
   "cell_type": "markdown",
   "id": "56809ad0-aa82-4603-8b69-9c164fbe87de",
   "metadata": {},
   "source": [
    "#  Checking Outliers Using Boxplot"
   ]
  },
  {
   "cell_type": "code",
   "execution_count": 17,
   "id": "463dac83-c15d-4c80-8358-bade6236dc02",
   "metadata": {},
   "outputs": [
    {
     "data": {
      "text/plain": [
       "<Axes: xlabel='duration'>"
      ]
     },
     "execution_count": 17,
     "metadata": {},
     "output_type": "execute_result"
    },
    {
     "data": {
      "image/png": "[encoded data removed]",
      "text/plain": [
       "<Figure size 640x480 with 1 Axes>"
      ]
     },
     "metadata": {},
     "output_type": "display_data"
    }
   ],
   "source": [
    "sns.boxplot(x = renewed_data['duration'])"
   ]
  },
  {
   "cell_type": "code",
   "execution_count": 18,
   "id": "86aa3bde-8b54-485d-8770-0c68f3f7e5cc",
   "metadata": {},
   "outputs": [
    {
     "data": {
      "text/plain": [
       "<Axes: xlabel='popularity'>"
      ]
     },
     "execution_count": 18,
     "metadata": {},
     "output_type": "execute_result"
    },
    {
     "data": {
      "image/png": "[encoded data removed]",
      "text/plain": [
       "<Figure size 640x480 with 1 Axes>"
      ]
     },
     "metadata": {},
     "output_type": "display_data"
    }
   ],
   "source": [
    "sns.boxplot(x = renewed_data['popularity'])"
   ]
  },
  {
   "cell_type": "code",
   "execution_count": 19,
   "id": "4301d2c8-c127-4b24-9c77-c72e993539ee",
   "metadata": {},
   "outputs": [
    {
     "data": {
      "text/plain": [
       "<Axes: xlabel='acousticness'>"
      ]
     },
     "execution_count": 19,
     "metadata": {},
     "output_type": "execute_result"
    },
    {
     "data": {
      "image/png": "[encoded data removed]",
      "text/plain": [
       "<Figure size 640x480 with 1 Axes>"
      ]
     },
     "metadata": {},
     "output_type": "display_data"
    }
   ],
   "source": [
    "sns.boxplot(x = renewed_data['acousticness'])"
   ]
  },
  {
   "cell_type": "code",
   "execution_count": 20,
   "id": "1671447d-3884-4262-b1c0-95acbd708f2a",
   "metadata": {},
   "outputs": [
    {
     "data": {
      "text/plain": [
       "<Axes: xlabel='danceability'>"
      ]
     },
     "execution_count": 20,
     "metadata": {},
     "output_type": "execute_result"
    },
    {
     "data": {
      "image/png": "[encoded data removed]",
      "text/plain": [
       "<Figure size 640x480 with 1 Axes>"
      ]
     },
     "metadata": {},
     "output_type": "display_data"
    }
   ],
   "source": [
    "sns.boxplot(x = renewed_data['danceability'])"
   ]
  },
  {
   "cell_type": "code",
   "execution_count": 21,
   "id": "e09de447-c6a5-4770-8c8e-5eade0efbaa8",
   "metadata": {},
   "outputs": [
    {
     "data": {
      "text/plain": [
       "<Axes: xlabel='energy'>"
      ]
     },
     "execution_count": 21,
     "metadata": {},
     "output_type": "execute_result"
    },
    {
     "data": {
      "image/png": "[encoded data removed]",
      "text/plain": [
       "<Figure size 640x480 with 1 Axes>"
      ]
     },
     "metadata": {},
     "output_type": "display_data"
    }
   ],
   "source": [
    "sns.boxplot(x = renewed_data['energy'])"
   ]
  },
  {
   "cell_type": "code",
   "execution_count": 22,
   "id": "8d639e2e-509c-4306-897d-c576535123e9",
   "metadata": {},
   "outputs": [
    {
     "data": {
      "text/plain": [
       "<Axes: xlabel='instrumentalness'>"
      ]
     },
     "execution_count": 22,
     "metadata": {},
     "output_type": "execute_result"
    },
    {
     "data": {
      "image/png": "[encoded data removed]",
      "text/plain": [
       "<Figure size 640x480 with 1 Axes>"
      ]
     },
     "metadata": {},
     "output_type": "display_data"
    }
   ],
   "source": [
    "sns.boxplot(x = renewed_data['instrumentalness'])"
   ]
  },
  {
   "cell_type": "code",
   "execution_count": 23,
   "id": "6bb1dcce-a77c-4168-904f-3c9a37a15f84",
   "metadata": {},
   "outputs": [
    {
     "data": {
      "text/plain": [
       "<Axes: xlabel='liveness'>"
      ]
     },
     "execution_count": 23,
     "metadata": {},
     "output_type": "execute_result"
    },
    {
     "data": {
      "image/png": "[encoded data removed]",
      "text/plain": [
       "<Figure size 640x480 with 1 Axes>"
      ]
     },
     "metadata": {},
     "output_type": "display_data"
    }
   ],
   "source": [
    "sns.boxplot(x = renewed_data['liveness'])"
   ]
  },
  {
   "cell_type": "code",
   "execution_count": 24,
   "id": "d8a79e2a-1187-4790-b925-8a13448039ae",
   "metadata": {},
   "outputs": [
    {
     "data": {
      "text/plain": [
       "<Axes: xlabel='loudness'>"
      ]
     },
     "execution_count": 24,
     "metadata": {},
     "output_type": "execute_result"
    },
    {
     "data": {
      "image/png": "[encoded data removed]",
      "text/plain": [
       "<Figure size 640x480 with 1 Axes>"
      ]
     },
     "metadata": {},
     "output_type": "display_data"
    }
   ],
   "source": [
    "sns.boxplot(x = renewed_data['loudness'])"
   ]
  },
  {
   "cell_type": "code",
   "execution_count": 25,
   "id": "5500c8eb-a4e2-45fb-ae9d-f6946d0566ae",
   "metadata": {},
   "outputs": [
    {
     "data": {
      "text/plain": [
       "<Axes: xlabel='speechiness'>"
      ]
     },
     "execution_count": 25,
     "metadata": {},
     "output_type": "execute_result"
    },
    {
     "data": {
      "image/png": "[encoded data removed]",
      "text/plain": [
       "<Figure size 640x480 with 1 Axes>"
      ]
     },
     "metadata": {},
     "output_type": "display_data"
    }
   ],
   "source": [
    "sns.boxplot(x = renewed_data['speechiness'])"
   ]
  },
  {
   "cell_type": "code",
   "execution_count": 26,
   "id": "6c30ff2a-0f06-4eaf-9161-24459d1f6b2f",
   "metadata": {},
   "outputs": [
    {
     "data": {
      "text/plain": [
       "<Axes: xlabel='tempo'>"
      ]
     },
     "execution_count": 26,
     "metadata": {},
     "output_type": "execute_result"
    },
    {
     "data": {
      "image/png": "[encoded data removed]",
      "text/plain": [
       "<Figure size 640x480 with 1 Axes>"
      ]
     },
     "metadata": {},
     "output_type": "display_data"
    }
   ],
   "source": [
    "sns.boxplot(x = renewed_data['tempo'])"
   ]
  },
  {
   "cell_type": "code",
   "execution_count": 27,
   "id": "5fe3f17e-7040-411b-ab60-cfb86608b896",
   "metadata": {},
   "outputs": [
    {
     "data": {
      "text/plain": [
       "<Axes: xlabel='time_signature'>"
      ]
     },
     "execution_count": 27,
     "metadata": {},
     "output_type": "execute_result"
    },
    {
     "data": {
      "image/png": "[encoded data removed]",
      "text/plain": [
       "<Figure size 640x480 with 1 Axes>"
      ]
     },
     "metadata": {},
     "output_type": "display_data"
    }
   ],
   "source": [
    "sns.boxplot(x = renewed_data['time_signature'])"
   ]
  },
  {
   "cell_type": "code",
   "execution_count": 28,
   "id": "a7a25e77-6e2a-450e-8f98-eaca5d56eef9",
   "metadata": {},
   "outputs": [
    {
     "data": {
      "text/plain": [
       "<Axes: xlabel='valence'>"
      ]
     },
     "execution_count": 28,
     "metadata": {},
     "output_type": "execute_result"
    },
    {
     "data": {
      "image/png": "[encoded data removed]",
      "text/plain": [
       "<Figure size 640x480 with 1 Axes>"
      ]
     },
     "metadata": {},
     "output_type": "display_data"
    }
   ],
   "source": [
    "sns.boxplot(x = renewed_data['valence'])"
   ]
  },
  {
   "cell_type": "markdown",
   "id": "58e55ac9-f6d9-427e-a4c1-fc2ddd7ec37d",
   "metadata": {},
   "source": [
    "#  Check The IQR Of    \" renewed_data['duration'] \""
   ]
  },
  {
   "cell_type": "code",
   "execution_count": 29,
   "id": "eadfeb22-5dc1-4cc4-aff4-6d9cfa899e70",
   "metadata": {},
   "outputs": [],
   "source": [
    "Q1 = renewed_data['duration'].quantile(0.25)\n",
    "Q3 = renewed_data['duration'].quantile(0.75)\n",
    "IQR = Q3 - Q1\n",
    "lower_bound = Q1 - 1.5 * IQR\n",
    "upper_bound = Q3 + 1.5 * IQR"
   ]
  },
  {
   "cell_type": "markdown",
   "id": "e0f20a92-2674-4703-aa83-b6699e26648e",
   "metadata": {},
   "source": [
    "# Filter Out The Outliers\n"
   ]
  },
  {
   "cell_type": "code",
   "execution_count": 30,
   "id": "28f8d8a9-0110-4cb6-a808-9b64f918d742",
   "metadata": {},
   "outputs": [],
   "source": [
    "filtered_data = renewed_data[(renewed_data['duration'] >= lower_bound) & (renewed_data['duration'] <= upper_bound)]\n"
   ]
  },
  {
   "cell_type": "code",
   "execution_count": null,
   "id": "82eeedf9-82c0-4740-b155-5210bc35418b",
   "metadata": {},
   "outputs": [],
   "source": []
  },
  {
   "cell_type": "code",
   "execution_count": 31,
   "id": "e1838ef6-274f-4f1d-973e-9357faa6474b",
   "metadata": {},
   "outputs": [
    {
     "data": {
      "text/plain": [
       "<Axes: xlabel='duration'>"
      ]
     },
     "execution_count": 31,
     "metadata": {},
     "output_type": "execute_result"
    },
    {
     "data": {
      "image/png": "[encoded data removed]",
      "text/plain": [
       "<Figure size 640x480 with 1 Axes>"
      ]
     },
     "metadata": {},
     "output_type": "display_data"
    }
   ],
   "source": [
    "sns.boxplot(x = filtered_data['duration'])"
   ]
  },
  {
   "cell_type": "markdown",
   "id": "aeeb83fc-9161-4ab7-9b1e-54998e6aef0a",
   "metadata": {},
   "source": [
    "# Check The IQR Of \" renewed_data['instrumentalness'] \""
   ]
  },
  {
   "cell_type": "code",
   "execution_count": 32,
   "id": "ba9cddaa-661b-449b-b6f5-3311dfbf87b1",
   "metadata": {},
   "outputs": [],
   "source": [
    "Q1 = renewed_data['instrumentalness'].quantile(0.25)\n",
    "Q3 = renewed_data['instrumentalness'].quantile(0.75)\n",
    "IQR = Q3 - Q1\n",
    "lower_bound = Q1 - 1.5 * IQR\n",
    "upper_bound = Q3 + 1.5 * IQR"
   ]
  },
  {
   "cell_type": "markdown",
   "id": "d2df4b73-049e-4851-b488-e0a2c07229f1",
   "metadata": {},
   "source": [
    "#  Filter Out The Outliers "
   ]
  },
  {
   "cell_type": "code",
   "execution_count": 33,
   "id": "4f213da7-4633-4efd-8258-383bf2787103",
   "metadata": {},
   "outputs": [],
   "source": [
    "filtered_data = renewed_data[(renewed_data['instrumentalness'] >= lower_bound) & (renewed_data['instrumentalness'] <= upper_bound)]\n"
   ]
  },
  {
   "cell_type": "code",
   "execution_count": 34,
   "id": "4e5dc3c2-5173-40c3-916b-c452ce71c364",
   "metadata": {},
   "outputs": [
    {
     "data": {
      "text/plain": [
       "<Axes: xlabel='instrumentalness'>"
      ]
     },
     "execution_count": 34,
     "metadata": {},
     "output_type": "execute_result"
    },
    {
     "data": {
      "image/png": "[encoded data removed]",
      "text/plain": [
       "<Figure size 640x480 with 1 Axes>"
      ]
     },
     "metadata": {},
     "output_type": "display_data"
    }
   ],
   "source": [
    "sns.boxplot(x = filtered_data['instrumentalness'])"
   ]
  },
  {
   "cell_type": "code",
   "execution_count": 35,
   "id": "7aaf9546-d6f1-46b6-826f-bd0ae2538954",
   "metadata": {},
   "outputs": [
    {
     "data": {
      "text/plain": [
       "(214, 16)"
      ]
     },
     "execution_count": 35,
     "metadata": {},
     "output_type": "execute_result"
    }
   ],
   "source": [
    "filtered_data.shape"
   ]
  },
  {
   "cell_type": "code",
   "execution_count": 36,
   "id": "46145502-241c-4119-b496-0bdbe5b68460",
   "metadata": {},
   "outputs": [
    {
     "data": {
      "text/plain": [
       "(232, 16)"
      ]
     },
     "execution_count": 36,
     "metadata": {},
     "output_type": "execute_result"
    }
   ],
   "source": [
    "renewed_data.shape"
   ]
  },
  {
   "cell_type": "code",
   "execution_count": 37,
   "id": "9e48350e-da7c-4349-92c7-5803e19b26aa",
   "metadata": {},
   "outputs": [
    {
     "data": {
      "text/plain": [
       "(232, 20)"
      ]
     },
     "execution_count": 37,
     "metadata": {},
     "output_type": "execute_result"
    }
   ],
   "source": [
    "data.shape"
   ]
  },
  {
   "cell_type": "code",
   "execution_count": null,
   "id": "3c89de50-38bc-457c-9838-28a5643a96e8",
   "metadata": {},
   "outputs": [],
   "source": []
  },
  {
   "cell_type": "markdown",
   "id": "521d5232-bbdf-4ca8-85a0-05a85e195d07",
   "metadata": {},
   "source": [
    "# Check The IQR Of \" renewed_data['loudness'] \""
   ]
  },
  {
   "cell_type": "code",
   "execution_count": 38,
   "id": "f88fe8da-e83d-436a-9203-60095cda51a6",
   "metadata": {},
   "outputs": [],
   "source": [
    "Q1 = renewed_data['loudness'].quantile(0.25)\n",
    "Q3 = renewed_data['loudness'].quantile(0.75)\n",
    "IQR = Q3 - Q1\n",
    "lower_bound = Q1 - 1.5 * IQR\n",
    "upper_bound = Q3 + 1.5 * IQR"
   ]
  },
  {
   "cell_type": "markdown",
   "id": "c6d27133-c179-4332-8aee-a3775263be9f",
   "metadata": {},
   "source": [
    "# Filter Out The Outliers"
   ]
  },
  {
   "cell_type": "code",
   "execution_count": 39,
   "id": "ca6c9e0c-c823-4b5e-8f91-ab80c87ad5e6",
   "metadata": {},
   "outputs": [],
   "source": [
    "filtered_data = renewed_data[(renewed_data['loudness'] >= lower_bound) & (renewed_data['loudness'] <= upper_bound)]\n"
   ]
  },
  {
   "cell_type": "code",
   "execution_count": 40,
   "id": "f9414157-4a34-41f9-a387-ca73cbaee144",
   "metadata": {},
   "outputs": [
    {
     "data": {
      "text/plain": [
       "<Axes: xlabel='loudness'>"
      ]
     },
     "execution_count": 40,
     "metadata": {},
     "output_type": "execute_result"
    },
    {
     "data": {
      "image/png": "[encoded data removed]",
      "text/plain": [
       "<Figure size 640x480 with 1 Axes>"
      ]
     },
     "metadata": {},
     "output_type": "display_data"
    }
   ],
   "source": [
    "sns.boxplot(x = filtered_data['loudness'])"
   ]
  },
  {
   "cell_type": "markdown",
   "id": "3a8150c9-d857-498b-805c-4963b8361ed8",
   "metadata": {},
   "source": [
    "# Check The IQR Of \" renewed_data['speechiness'] \""
   ]
  },
  {
   "cell_type": "code",
   "execution_count": 41,
   "id": "a604ed7a-5274-43fb-b2ec-d6e9ba6de8a6",
   "metadata": {},
   "outputs": [],
   "source": [
    "Q1 = renewed_data['speechiness'].quantile(0.25)\n",
    "Q3 = renewed_data['speechiness'].quantile(0.75)\n",
    "IQR = Q3 - Q1\n",
    "lower_bound = Q1 - 1.5 * IQR\n",
    "upper_bound = Q3 + 1.5 * IQR"
   ]
  },
  {
   "cell_type": "markdown",
   "id": "7da02cb4-5289-4380-a5cc-70430e8813bd",
   "metadata": {},
   "source": [
    "# Filter Out The Outliers"
   ]
  },
  {
   "cell_type": "code",
   "execution_count": 42,
   "id": "69935ce1-c99d-416d-b317-cfbbf4ae54c4",
   "metadata": {},
   "outputs": [],
   "source": [
    "filtered_data = renewed_data[(renewed_data['speechiness'] >= lower_bound) & (renewed_data['speechiness'] <= upper_bound)]\n"
   ]
  },
  {
   "cell_type": "code",
   "execution_count": 43,
   "id": "0afde922-939d-409c-a11c-9bf562f802a7",
   "metadata": {},
   "outputs": [
    {
     "data": {
      "text/plain": [
       "<Axes: xlabel='speechiness'>"
      ]
     },
     "execution_count": 43,
     "metadata": {},
     "output_type": "execute_result"
    },
    {
     "data": {
      "image/png": "[encoded data removed]",
      "text/plain": [
       "<Figure size 640x480 with 1 Axes>"
      ]
     },
     "metadata": {},
     "output_type": "display_data"
    }
   ],
   "source": [
    "sns.boxplot(x = filtered_data['speechiness'])"
   ]
  },
  {
   "cell_type": "markdown",
   "id": "df8c322f-fbac-4538-ba03-1c77ecddb57b",
   "metadata": {},
   "source": [
    "# Check The IQR Of \" renewed_data['tempo'] \""
   ]
  },
  {
   "cell_type": "code",
   "execution_count": 44,
   "id": "004e8814-9d6f-4fc7-8b99-3eb8e6e97f2f",
   "metadata": {},
   "outputs": [],
   "source": [
    "Q1 = renewed_data['tempo'].quantile(0.25)\n",
    "Q3 = renewed_data['tempo'].quantile(0.75)\n",
    "IQR = Q3 - Q1\n",
    "lower_bound = Q1 - 1.5 * IQR\n",
    "upper_bound = Q3 + 1.5 * IQR"
   ]
  },
  {
   "cell_type": "markdown",
   "id": "85fd6b29-b4df-46fa-9513-2ad4c2bd3f68",
   "metadata": {},
   "source": [
    "# Filter Out The Outliers"
   ]
  },
  {
   "cell_type": "code",
   "execution_count": 45,
   "id": "72700878-ffb7-4be6-b354-6b70b32dcb83",
   "metadata": {},
   "outputs": [],
   "source": [
    "filtered_data = renewed_data[(renewed_data['tempo'] >= lower_bound) & (renewed_data['tempo'] <= upper_bound)]\n"
   ]
  },
  {
   "cell_type": "code",
   "execution_count": 46,
   "id": "9d03bc68-892f-4c14-9077-7b226a534df7",
   "metadata": {},
   "outputs": [
    {
     "data": {
      "text/plain": [
       "<Axes: xlabel='tempo'>"
      ]
     },
     "execution_count": 46,
     "metadata": {},
     "output_type": "execute_result"
    },
    {
     "data": {
      "image/png": "[encoded data removed]",
      "text/plain": [
       "<Figure size 640x480 with 1 Axes>"
      ]
     },
     "metadata": {},
     "output_type": "display_data"
    }
   ],
   "source": [
    "sns.boxplot(x = filtered_data['tempo'])"
   ]
  },
  {
   "cell_type": "markdown",
   "id": "e75d90b3-b7e8-49c7-91b6-3a8b98abad06",
   "metadata": {},
   "source": [
    "# Check The IQR Of \" renewed_data['time_signature'] \""
   ]
  },
  {
   "cell_type": "code",
   "execution_count": 47,
   "id": "483c1890-d16f-4ca0-9674-9249f3e55f44",
   "metadata": {},
   "outputs": [],
   "source": [
    "Q1 = renewed_data['time_signature'].quantile(0.25)\n",
    "Q3 = renewed_data['time_signature'].quantile(0.75)\n",
    "IQR = Q3 - Q1\n",
    "lower_bound = Q1 - 1.5 * IQR\n",
    "upper_bound = Q3 + 1.5 * IQR"
   ]
  },
  {
   "cell_type": "markdown",
   "id": "bfd190d9-7044-4abd-9b7c-79fb3080ae50",
   "metadata": {},
   "source": [
    "# Filter Out The Outliers"
   ]
  },
  {
   "cell_type": "code",
   "execution_count": 48,
   "id": "68b15136-fe6f-4b2c-b90c-97fbadbfa796",
   "metadata": {},
   "outputs": [],
   "source": [
    "filtered_data = renewed_data[(renewed_data['time_signature'] >= lower_bound) & (renewed_data['time_signature'] <= upper_bound)]\n"
   ]
  },
  {
   "cell_type": "code",
   "execution_count": 49,
   "id": "54ad6ef1-22f4-4ebc-ad74-39a9e1d9f430",
   "metadata": {},
   "outputs": [
    {
     "data": {
      "text/plain": [
       "<Axes: xlabel='time_signature'>"
      ]
     },
     "execution_count": 49,
     "metadata": {},
     "output_type": "execute_result"
    },
    {
     "data": {
      "image/png": "[encoded data removed]",
      "text/plain": [
       "<Figure size 640x480 with 1 Axes>"
      ]
     },
     "metadata": {},
     "output_type": "display_data"
    }
   ],
   "source": [
    "sns.boxplot(x = filtered_data['time_signature'])"
   ]
  },
  {
   "cell_type": "markdown",
   "id": "65879bdf-60d0-4533-8bb4-6893374cf4cd",
   "metadata": {},
   "source": [
    "# Check The IQR Of \" renewed_data['valence'] \""
   ]
  },
  {
   "cell_type": "code",
   "execution_count": 50,
   "id": "bbc77e2d-f073-4cf0-b108-864da00e33cd",
   "metadata": {},
   "outputs": [],
   "source": [
    "Q1 = renewed_data['valence'].quantile(0.25)\n",
    "Q3 = renewed_data['valence'].quantile(0.75)\n",
    "IQR = Q3 - Q1\n",
    "lower_bound = Q1 - 1.5 * IQR\n",
    "upper_bound = Q3 + 1.5 * IQR"
   ]
  },
  {
   "cell_type": "markdown",
   "id": "876325b0-170d-492e-9657-8fcac333a1bd",
   "metadata": {},
   "source": [
    "# Filter Out The Outliers"
   ]
  },
  {
   "cell_type": "code",
   "execution_count": 51,
   "id": "3308a4a1-2608-489c-8a61-438eff4104a3",
   "metadata": {},
   "outputs": [],
   "source": [
    "filtered_data = renewed_data[(renewed_data['valence'] >= lower_bound) & (renewed_data['valence'] <= upper_bound)]\n"
   ]
  },
  {
   "cell_type": "code",
   "execution_count": 52,
   "id": "e0fe29d3-5cab-4cea-8c25-b17c748d0bee",
   "metadata": {},
   "outputs": [
    {
     "data": {
      "text/plain": [
       "<Axes: xlabel='valence'>"
      ]
     },
     "execution_count": 52,
     "metadata": {},
     "output_type": "execute_result"
    },
    {
     "data": {
      "image/png": "[encoded data removed]",
      "text/plain": [
       "<Figure size 640x480 with 1 Axes>"
      ]
     },
     "metadata": {},
     "output_type": "display_data"
    }
   ],
   "source": [
    "sns.boxplot(x = filtered_data['valence'])"
   ]
  },
  {
   "cell_type": "code",
   "execution_count": null,
   "id": "67ec84af-5bac-4882-93a0-015d8cb83d25",
   "metadata": {},
   "outputs": [],
   "source": []
  },
  {
   "cell_type": "markdown",
   "id": "c7448c77-9ac9-4bad-976b-db1146aae958",
   "metadata": {},
   "source": [
    "#  Checking The Shape Of data , renewed_data and filtered_data"
   ]
  },
  {
   "cell_type": "code",
   "execution_count": 53,
   "id": "33c753e3-38fb-4aed-ada2-5c289e5e47c2",
   "metadata": {},
   "outputs": [
    {
     "data": {
      "text/plain": [
       "(232, 20)"
      ]
     },
     "execution_count": 53,
     "metadata": {},
     "output_type": "execute_result"
    }
   ],
   "source": [
    "data.shape"
   ]
  },
  {
   "cell_type": "code",
   "execution_count": 54,
   "id": "c34286cb-3717-4e79-95f6-c57e3b04164f",
   "metadata": {},
   "outputs": [
    {
     "data": {
      "text/plain": [
       "(232, 16)"
      ]
     },
     "execution_count": 54,
     "metadata": {},
     "output_type": "execute_result"
    }
   ],
   "source": [
    "renewed_data.shape"
   ]
  },
  {
   "cell_type": "code",
   "execution_count": 55,
   "id": "35f4ff59-a91d-47d8-811b-74bdc237d290",
   "metadata": {},
   "outputs": [
    {
     "data": {
      "text/plain": [
       "(225, 16)"
      ]
     },
     "execution_count": 55,
     "metadata": {},
     "output_type": "execute_result"
    }
   ],
   "source": [
    "filtered_data.shape"
   ]
  },
  {
   "cell_type": "code",
   "execution_count": 57,
   "id": "5b032c8f-220a-45bd-b3f3-86c79569281b",
   "metadata": {},
   "outputs": [
    {
     "data": {
      "text/html": [
       "<div>\n",
       "<style scoped>\n",
       "    .dataframe tbody tr th:only-of-type {\n",
       "        vertical-align: middle;\n",
       "    }\n",
       "\n",
       "    .dataframe tbody tr th {\n",
       "        vertical-align: top;\n",
       "    }\n",
       "\n",
       "    .dataframe thead th {\n",
       "        text-align: right;\n",
       "    }\n",
       "</style>\n",
       "<table border=\"1\" class=\"dataframe\">\n",
       "  <thead>\n",
       "    <tr style=\"text-align: right;\">\n",
       "      <th></th>\n",
       "      <th>duration</th>\n",
       "      <th>explicit</th>\n",
       "      <th>popularity</th>\n",
       "      <th>acousticness</th>\n",
       "      <th>danceability</th>\n",
       "      <th>energy</th>\n",
       "      <th>instrumentalness</th>\n",
       "      <th>liveness</th>\n",
       "      <th>loudness</th>\n",
       "      <th>speechiness</th>\n",
       "      <th>tempo</th>\n",
       "      <th>time_signature</th>\n",
       "      <th>valence</th>\n",
       "      <th>release_year</th>\n",
       "      <th>release_month_no</th>\n",
       "      <th>release_day</th>\n",
       "    </tr>\n",
       "  </thead>\n",
       "  <tbody>\n",
       "    <tr>\n",
       "      <th>163</th>\n",
       "      <td>242.373</td>\n",
       "      <td>False</td>\n",
       "      <td>34</td>\n",
       "      <td>0.09540</td>\n",
       "      <td>0.486</td>\n",
       "      <td>0.617</td>\n",
       "      <td>0.000003</td>\n",
       "      <td>0.109</td>\n",
       "      <td>-7.115</td>\n",
       "      <td>0.0287</td>\n",
       "      <td>138.015</td>\n",
       "      <td>4</td>\n",
       "      <td>0.4170</td>\n",
       "      <td>2008</td>\n",
       "      <td>11</td>\n",
       "      <td>24</td>\n",
       "    </tr>\n",
       "    <tr>\n",
       "      <th>139</th>\n",
       "      <td>137.819</td>\n",
       "      <td>False</td>\n",
       "      <td>50</td>\n",
       "      <td>0.73100</td>\n",
       "      <td>0.216</td>\n",
       "      <td>0.395</td>\n",
       "      <td>0.016700</td>\n",
       "      <td>0.338</td>\n",
       "      <td>-11.791</td>\n",
       "      <td>0.0361</td>\n",
       "      <td>83.697</td>\n",
       "      <td>3</td>\n",
       "      <td>0.2060</td>\n",
       "      <td>2011</td>\n",
       "      <td>10</td>\n",
       "      <td>24</td>\n",
       "    </tr>\n",
       "    <tr>\n",
       "      <th>46</th>\n",
       "      <td>369.306</td>\n",
       "      <td>False</td>\n",
       "      <td>50</td>\n",
       "      <td>0.00262</td>\n",
       "      <td>0.196</td>\n",
       "      <td>0.937</td>\n",
       "      <td>0.000002</td>\n",
       "      <td>0.397</td>\n",
       "      <td>-5.813</td>\n",
       "      <td>0.1380</td>\n",
       "      <td>124.401</td>\n",
       "      <td>4</td>\n",
       "      <td>0.0819</td>\n",
       "      <td>2018</td>\n",
       "      <td>12</td>\n",
       "      <td>7</td>\n",
       "    </tr>\n",
       "  </tbody>\n",
       "</table>\n",
       "</div>"
      ],
      "text/plain": [
       "     duration  explicit  popularity  acousticness  danceability  energy  \\\n",
       "163   242.373     False          34       0.09540         0.486   0.617   \n",
       "139   137.819     False          50       0.73100         0.216   0.395   \n",
       "46    369.306     False          50       0.00262         0.196   0.937   \n",
       "\n",
       "     instrumentalness  liveness  loudness  speechiness    tempo  \\\n",
       "163          0.000003     0.109    -7.115       0.0287  138.015   \n",
       "139          0.016700     0.338   -11.791       0.0361   83.697   \n",
       "46           0.000002     0.397    -5.813       0.1380  124.401   \n",
       "\n",
       "     time_signature  valence  release_year  release_month_no  release_day  \n",
       "163               4   0.4170          2008                11           24  \n",
       "139               3   0.2060          2011                10           24  \n",
       "46                4   0.0819          2018                12            7  "
      ]
     },
     "execution_count": 57,
     "metadata": {},
     "output_type": "execute_result"
    }
   ],
   "source": [
    "filtered_data.sample(3)"
   ]
  },
  {
   "cell_type": "code",
   "execution_count": null,
   "id": "29f79ae6-a4c5-4b83-8ea2-092277c4c321",
   "metadata": {},
   "outputs": [],
   "source": []
  }
 ],
 "metadata": {
  "kernelspec": {
   "display_name": "Python 3 (ipykernel)",
   "language": "python",
   "name": "python3"
  },
  "language_info": {
   "codemirror_mode": {
    "name": "ipython",
    "version": 3
   },
   "file_extension": ".py",
   "mimetype": "text/x-python",
   "name": "python",
   "nbconvert_exporter": "python",
   "pygments_lexer": "ipython3",
   "version": "3.12.3"
  }
 },
 "nbformat": 4,
 "nbformat_minor": 5
}
