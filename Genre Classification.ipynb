{
 "cells": [
  {
   "cell_type": "markdown",
   "id": "86bf0f5f-5d0f-4309-999c-687131a7824d",
   "metadata": {},
   "source": [
    "# Import Libraries Required"
   ]
  },
  {
   "cell_type": "code",
   "execution_count": 1,
   "id": "d1ea72ca-16e8-4a29-b118-c567df78006b",
   "metadata": {},
   "outputs": [],
   "source": [
    "import pandas as pd \n",
    "import numpy as np \n",
    "import seaborn as sns \n",
    "from matplotlib import pyplot as plt \n",
    "from sklearn.compose import ColumnTransformer\n",
    "from sklearn.preprocessing import OneHotEncoder , OrdinalEncoder , StandardScaler , LabelEncoder \n"
   ]
  },
  {
   "cell_type": "code",
   "execution_count": 2,
   "id": "19594b3c-7b7a-40e4-b395-599f98a318f6",
   "metadata": {},
   "outputs": [],
   "source": [
    "df = pd.read_csv(r\"C:\\DATA SCIENCE\\GITHUB REPO\\Data\\train.csv\")"
   ]
  },
  {
   "cell_type": "code",
   "execution_count": 3,
   "id": "d003d714-542e-4042-aa23-97c18902690f",
   "metadata": {},
   "outputs": [],
   "source": [
    "df2 = pd.read_csv(r\"C:\\DATA SCIENCE\\GITHUB REPO\\Data\\test.csv\")"
   ]
  },
  {
   "cell_type": "code",
   "execution_count": 4,
   "id": "4e4f0a3b-da73-4966-b406-157754d6dbee",
   "metadata": {},
   "outputs": [
    {
     "data": {
      "text/html": [
       "<div>\n",
       "<style scoped>\n",
       "    .dataframe tbody tr th:only-of-type {\n",
       "        vertical-align: middle;\n",
       "    }\n",
       "\n",
       "    .dataframe tbody tr th {\n",
       "        vertical-align: top;\n",
       "    }\n",
       "\n",
       "    .dataframe thead th {\n",
       "        text-align: right;\n",
       "    }\n",
       "</style>\n",
       "<table border=\"1\" class=\"dataframe\">\n",
       "  <thead>\n",
       "    <tr style=\"text-align: right;\">\n",
       "      <th></th>\n",
       "      <th>Artist Name</th>\n",
       "      <th>Track Name</th>\n",
       "      <th>Popularity</th>\n",
       "      <th>danceability</th>\n",
       "      <th>energy</th>\n",
       "      <th>key</th>\n",
       "      <th>loudness</th>\n",
       "      <th>mode</th>\n",
       "      <th>speechiness</th>\n",
       "      <th>acousticness</th>\n",
       "      <th>instrumentalness</th>\n",
       "      <th>liveness</th>\n",
       "      <th>valence</th>\n",
       "      <th>tempo</th>\n",
       "      <th>duration_in min/ms</th>\n",
       "      <th>time_signature</th>\n",
       "      <th>Class</th>\n",
       "    </tr>\n",
       "  </thead>\n",
       "  <tbody>\n",
       "    <tr>\n",
       "      <th>0</th>\n",
       "      <td>Bruno Mars</td>\n",
       "      <td>That's What I Like (feat. Gucci Mane)</td>\n",
       "      <td>60.0</td>\n",
       "      <td>0.854</td>\n",
       "      <td>0.564</td>\n",
       "      <td>1.0</td>\n",
       "      <td>-4.964</td>\n",
       "      <td>1</td>\n",
       "      <td>0.0485</td>\n",
       "      <td>0.017100</td>\n",
       "      <td>NaN</td>\n",
       "      <td>0.0849</td>\n",
       "      <td>0.8990</td>\n",
       "      <td>134.071</td>\n",
       "      <td>234596.0</td>\n",
       "      <td>4</td>\n",
       "      <td>5</td>\n",
       "    </tr>\n",
       "    <tr>\n",
       "      <th>1</th>\n",
       "      <td>Boston</td>\n",
       "      <td>Hitch a Ride</td>\n",
       "      <td>54.0</td>\n",
       "      <td>0.382</td>\n",
       "      <td>0.814</td>\n",
       "      <td>3.0</td>\n",
       "      <td>-7.230</td>\n",
       "      <td>1</td>\n",
       "      <td>0.0406</td>\n",
       "      <td>0.001100</td>\n",
       "      <td>0.004010</td>\n",
       "      <td>0.1010</td>\n",
       "      <td>0.5690</td>\n",
       "      <td>116.454</td>\n",
       "      <td>251733.0</td>\n",
       "      <td>4</td>\n",
       "      <td>10</td>\n",
       "    </tr>\n",
       "    <tr>\n",
       "      <th>2</th>\n",
       "      <td>The Raincoats</td>\n",
       "      <td>No Side to Fall In</td>\n",
       "      <td>35.0</td>\n",
       "      <td>0.434</td>\n",
       "      <td>0.614</td>\n",
       "      <td>6.0</td>\n",
       "      <td>-8.334</td>\n",
       "      <td>1</td>\n",
       "      <td>0.0525</td>\n",
       "      <td>0.486000</td>\n",
       "      <td>0.000196</td>\n",
       "      <td>0.3940</td>\n",
       "      <td>0.7870</td>\n",
       "      <td>147.681</td>\n",
       "      <td>109667.0</td>\n",
       "      <td>4</td>\n",
       "      <td>6</td>\n",
       "    </tr>\n",
       "    <tr>\n",
       "      <th>3</th>\n",
       "      <td>Deno</td>\n",
       "      <td>Lingo (feat. J.I &amp; Chunkz)</td>\n",
       "      <td>66.0</td>\n",
       "      <td>0.853</td>\n",
       "      <td>0.597</td>\n",
       "      <td>10.0</td>\n",
       "      <td>-6.528</td>\n",
       "      <td>0</td>\n",
       "      <td>0.0555</td>\n",
       "      <td>0.021200</td>\n",
       "      <td>NaN</td>\n",
       "      <td>0.1220</td>\n",
       "      <td>0.5690</td>\n",
       "      <td>107.033</td>\n",
       "      <td>173968.0</td>\n",
       "      <td>4</td>\n",
       "      <td>5</td>\n",
       "    </tr>\n",
       "    <tr>\n",
       "      <th>4</th>\n",
       "      <td>Red Hot Chili Peppers</td>\n",
       "      <td>Nobody Weird Like Me - Remastered</td>\n",
       "      <td>53.0</td>\n",
       "      <td>0.167</td>\n",
       "      <td>0.975</td>\n",
       "      <td>2.0</td>\n",
       "      <td>-4.279</td>\n",
       "      <td>1</td>\n",
       "      <td>0.2160</td>\n",
       "      <td>0.000169</td>\n",
       "      <td>0.016100</td>\n",
       "      <td>0.1720</td>\n",
       "      <td>0.0918</td>\n",
       "      <td>199.060</td>\n",
       "      <td>229960.0</td>\n",
       "      <td>4</td>\n",
       "      <td>10</td>\n",
       "    </tr>\n",
       "  </tbody>\n",
       "</table>\n",
       "</div>"
      ],
      "text/plain": [
       "             Artist Name                             Track Name  Popularity  \\\n",
       "0             Bruno Mars  That's What I Like (feat. Gucci Mane)        60.0   \n",
       "1                 Boston                           Hitch a Ride        54.0   \n",
       "2          The Raincoats                     No Side to Fall In        35.0   \n",
       "3                   Deno             Lingo (feat. J.I & Chunkz)        66.0   \n",
       "4  Red Hot Chili Peppers      Nobody Weird Like Me - Remastered        53.0   \n",
       "\n",
       "   danceability  energy   key  loudness  mode  speechiness  acousticness  \\\n",
       "0         0.854   0.564   1.0    -4.964     1       0.0485      0.017100   \n",
       "1         0.382   0.814   3.0    -7.230     1       0.0406      0.001100   \n",
       "2         0.434   0.614   6.0    -8.334     1       0.0525      0.486000   \n",
       "3         0.853   0.597  10.0    -6.528     0       0.0555      0.021200   \n",
       "4         0.167   0.975   2.0    -4.279     1       0.2160      0.000169   \n",
       "\n",
       "   instrumentalness  liveness  valence    tempo  duration_in min/ms  \\\n",
       "0               NaN    0.0849   0.8990  134.071            234596.0   \n",
       "1          0.004010    0.1010   0.5690  116.454            251733.0   \n",
       "2          0.000196    0.3940   0.7870  147.681            109667.0   \n",
       "3               NaN    0.1220   0.5690  107.033            173968.0   \n",
       "4          0.016100    0.1720   0.0918  199.060            229960.0   \n",
       "\n",
       "   time_signature  Class  \n",
       "0               4      5  \n",
       "1               4     10  \n",
       "2               4      6  \n",
       "3               4      5  \n",
       "4               4     10  "
      ]
     },
     "execution_count": 4,
     "metadata": {},
     "output_type": "execute_result"
    }
   ],
   "source": [
    "df.head()"
   ]
  },
  {
   "cell_type": "code",
   "execution_count": 5,
   "id": "0e814a80-0c90-4951-a825-1441d5e567a1",
   "metadata": {},
   "outputs": [
    {
     "data": {
      "text/html": [
       "<div>\n",
       "<style scoped>\n",
       "    .dataframe tbody tr th:only-of-type {\n",
       "        vertical-align: middle;\n",
       "    }\n",
       "\n",
       "    .dataframe tbody tr th {\n",
       "        vertical-align: top;\n",
       "    }\n",
       "\n",
       "    .dataframe thead th {\n",
       "        text-align: right;\n",
       "    }\n",
       "</style>\n",
       "<table border=\"1\" class=\"dataframe\">\n",
       "  <thead>\n",
       "    <tr style=\"text-align: right;\">\n",
       "      <th></th>\n",
       "      <th>Artist Name</th>\n",
       "      <th>Track Name</th>\n",
       "      <th>Popularity</th>\n",
       "      <th>danceability</th>\n",
       "      <th>energy</th>\n",
       "      <th>key</th>\n",
       "      <th>loudness</th>\n",
       "      <th>mode</th>\n",
       "      <th>speechiness</th>\n",
       "      <th>acousticness</th>\n",
       "      <th>instrumentalness</th>\n",
       "      <th>liveness</th>\n",
       "      <th>valence</th>\n",
       "      <th>tempo</th>\n",
       "      <th>duration_in min/ms</th>\n",
       "      <th>time_signature</th>\n",
       "    </tr>\n",
       "  </thead>\n",
       "  <tbody>\n",
       "    <tr>\n",
       "      <th>0</th>\n",
       "      <td>David Bowie</td>\n",
       "      <td>Space Oddity - 2015 Remaster</td>\n",
       "      <td>73.0</td>\n",
       "      <td>0.310</td>\n",
       "      <td>0.403</td>\n",
       "      <td>NaN</td>\n",
       "      <td>-13.664</td>\n",
       "      <td>1</td>\n",
       "      <td>0.0326</td>\n",
       "      <td>0.07260</td>\n",
       "      <td>0.000093</td>\n",
       "      <td>0.1390</td>\n",
       "      <td>0.466</td>\n",
       "      <td>134.480</td>\n",
       "      <td>318027.000000</td>\n",
       "      <td>4</td>\n",
       "    </tr>\n",
       "    <tr>\n",
       "      <th>1</th>\n",
       "      <td>Crimson Sun</td>\n",
       "      <td>Essence of Creation</td>\n",
       "      <td>34.0</td>\n",
       "      <td>0.511</td>\n",
       "      <td>0.955</td>\n",
       "      <td>1.0</td>\n",
       "      <td>-5.059</td>\n",
       "      <td>1</td>\n",
       "      <td>0.1290</td>\n",
       "      <td>0.00040</td>\n",
       "      <td>0.000009</td>\n",
       "      <td>0.2630</td>\n",
       "      <td>0.291</td>\n",
       "      <td>151.937</td>\n",
       "      <td>220413.000000</td>\n",
       "      <td>4</td>\n",
       "    </tr>\n",
       "    <tr>\n",
       "      <th>2</th>\n",
       "      <td>P!nk</td>\n",
       "      <td>Raise Your Glass</td>\n",
       "      <td>78.0</td>\n",
       "      <td>0.700</td>\n",
       "      <td>0.709</td>\n",
       "      <td>7.0</td>\n",
       "      <td>-5.006</td>\n",
       "      <td>1</td>\n",
       "      <td>0.0839</td>\n",
       "      <td>0.00480</td>\n",
       "      <td>NaN</td>\n",
       "      <td>0.0289</td>\n",
       "      <td>0.625</td>\n",
       "      <td>122.019</td>\n",
       "      <td>202960.000000</td>\n",
       "      <td>4</td>\n",
       "    </tr>\n",
       "    <tr>\n",
       "      <th>3</th>\n",
       "      <td>Shawn Mendes</td>\n",
       "      <td>Wonder</td>\n",
       "      <td>80.0</td>\n",
       "      <td>0.333</td>\n",
       "      <td>0.637</td>\n",
       "      <td>1.0</td>\n",
       "      <td>-4.904</td>\n",
       "      <td>0</td>\n",
       "      <td>0.0581</td>\n",
       "      <td>0.13100</td>\n",
       "      <td>0.000018</td>\n",
       "      <td>0.1490</td>\n",
       "      <td>0.132</td>\n",
       "      <td>139.898</td>\n",
       "      <td>172693.000000</td>\n",
       "      <td>4</td>\n",
       "    </tr>\n",
       "    <tr>\n",
       "      <th>4</th>\n",
       "      <td>Backstreet Boys</td>\n",
       "      <td>Helpless When She Smiles - Radio Version</td>\n",
       "      <td>48.0</td>\n",
       "      <td>0.393</td>\n",
       "      <td>0.849</td>\n",
       "      <td>11.0</td>\n",
       "      <td>-4.114</td>\n",
       "      <td>1</td>\n",
       "      <td>0.0459</td>\n",
       "      <td>0.00421</td>\n",
       "      <td>NaN</td>\n",
       "      <td>0.1620</td>\n",
       "      <td>0.222</td>\n",
       "      <td>74.028</td>\n",
       "      <td>4.093117</td>\n",
       "      <td>4</td>\n",
       "    </tr>\n",
       "  </tbody>\n",
       "</table>\n",
       "</div>"
      ],
      "text/plain": [
       "       Artist Name                                Track Name  Popularity  \\\n",
       "0      David Bowie              Space Oddity - 2015 Remaster        73.0   \n",
       "1      Crimson Sun                       Essence of Creation        34.0   \n",
       "2             P!nk                          Raise Your Glass        78.0   \n",
       "3     Shawn Mendes                                    Wonder        80.0   \n",
       "4  Backstreet Boys  Helpless When She Smiles - Radio Version        48.0   \n",
       "\n",
       "   danceability  energy   key  loudness  mode  speechiness  acousticness  \\\n",
       "0         0.310   0.403   NaN   -13.664     1       0.0326       0.07260   \n",
       "1         0.511   0.955   1.0    -5.059     1       0.1290       0.00040   \n",
       "2         0.700   0.709   7.0    -5.006     1       0.0839       0.00480   \n",
       "3         0.333   0.637   1.0    -4.904     0       0.0581       0.13100   \n",
       "4         0.393   0.849  11.0    -4.114     1       0.0459       0.00421   \n",
       "\n",
       "   instrumentalness  liveness  valence    tempo  duration_in min/ms  \\\n",
       "0          0.000093    0.1390    0.466  134.480       318027.000000   \n",
       "1          0.000009    0.2630    0.291  151.937       220413.000000   \n",
       "2               NaN    0.0289    0.625  122.019       202960.000000   \n",
       "3          0.000018    0.1490    0.132  139.898       172693.000000   \n",
       "4               NaN    0.1620    0.222   74.028            4.093117   \n",
       "\n",
       "   time_signature  \n",
       "0               4  \n",
       "1               4  \n",
       "2               4  \n",
       "3               4  \n",
       "4               4  "
      ]
     },
     "execution_count": 5,
     "metadata": {},
     "output_type": "execute_result"
    }
   ],
   "source": [
    "df2.head()"
   ]
  },
  {
   "cell_type": "code",
   "execution_count": 6,
   "id": "caee758e-1108-44dc-a3f2-bff80e821cbf",
   "metadata": {},
   "outputs": [
    {
     "data": {
      "text/plain": [
       "(17996, 17)"
      ]
     },
     "execution_count": 6,
     "metadata": {},
     "output_type": "execute_result"
    }
   ],
   "source": [
    "df.shape"
   ]
  },
  {
   "cell_type": "code",
   "execution_count": 7,
   "id": "fc3c4559-0a82-4b97-bed3-be0ca235748e",
   "metadata": {},
   "outputs": [
    {
     "data": {
      "text/plain": [
       "(7713, 16)"
      ]
     },
     "execution_count": 7,
     "metadata": {},
     "output_type": "execute_result"
    }
   ],
   "source": [
    "df2.shape"
   ]
  },
  {
   "cell_type": "code",
   "execution_count": 8,
   "id": "42549a78-2255-44d0-83e3-e37af90dc925",
   "metadata": {},
   "outputs": [],
   "source": [
    "data = pd.concat([df, df2], axis=0, ignore_index=True)\n"
   ]
  },
  {
   "cell_type": "code",
   "execution_count": 9,
   "id": "a3fe71f3-a798-4b51-beeb-49151e047f85",
   "metadata": {},
   "outputs": [
    {
     "data": {
      "text/html": [
       "<div>\n",
       "<style scoped>\n",
       "    .dataframe tbody tr th:only-of-type {\n",
       "        vertical-align: middle;\n",
       "    }\n",
       "\n",
       "    .dataframe tbody tr th {\n",
       "        vertical-align: top;\n",
       "    }\n",
       "\n",
       "    .dataframe thead th {\n",
       "        text-align: right;\n",
       "    }\n",
       "</style>\n",
       "<table border=\"1\" class=\"dataframe\">\n",
       "  <thead>\n",
       "    <tr style=\"text-align: right;\">\n",
       "      <th></th>\n",
       "      <th>Artist Name</th>\n",
       "      <th>Track Name</th>\n",
       "      <th>Popularity</th>\n",
       "      <th>danceability</th>\n",
       "      <th>energy</th>\n",
       "      <th>key</th>\n",
       "      <th>loudness</th>\n",
       "      <th>mode</th>\n",
       "      <th>speechiness</th>\n",
       "      <th>acousticness</th>\n",
       "      <th>instrumentalness</th>\n",
       "      <th>liveness</th>\n",
       "      <th>valence</th>\n",
       "      <th>tempo</th>\n",
       "      <th>duration_in min/ms</th>\n",
       "      <th>time_signature</th>\n",
       "      <th>Class</th>\n",
       "    </tr>\n",
       "  </thead>\n",
       "  <tbody>\n",
       "    <tr>\n",
       "      <th>0</th>\n",
       "      <td>Bruno Mars</td>\n",
       "      <td>That's What I Like (feat. Gucci Mane)</td>\n",
       "      <td>60.0</td>\n",
       "      <td>0.854</td>\n",
       "      <td>0.564</td>\n",
       "      <td>1.0</td>\n",
       "      <td>-4.964</td>\n",
       "      <td>1</td>\n",
       "      <td>0.0485</td>\n",
       "      <td>0.017100</td>\n",
       "      <td>NaN</td>\n",
       "      <td>0.0849</td>\n",
       "      <td>0.8990</td>\n",
       "      <td>134.071</td>\n",
       "      <td>234596.0</td>\n",
       "      <td>4</td>\n",
       "      <td>5.0</td>\n",
       "    </tr>\n",
       "    <tr>\n",
       "      <th>1</th>\n",
       "      <td>Boston</td>\n",
       "      <td>Hitch a Ride</td>\n",
       "      <td>54.0</td>\n",
       "      <td>0.382</td>\n",
       "      <td>0.814</td>\n",
       "      <td>3.0</td>\n",
       "      <td>-7.230</td>\n",
       "      <td>1</td>\n",
       "      <td>0.0406</td>\n",
       "      <td>0.001100</td>\n",
       "      <td>0.004010</td>\n",
       "      <td>0.1010</td>\n",
       "      <td>0.5690</td>\n",
       "      <td>116.454</td>\n",
       "      <td>251733.0</td>\n",
       "      <td>4</td>\n",
       "      <td>10.0</td>\n",
       "    </tr>\n",
       "    <tr>\n",
       "      <th>2</th>\n",
       "      <td>The Raincoats</td>\n",
       "      <td>No Side to Fall In</td>\n",
       "      <td>35.0</td>\n",
       "      <td>0.434</td>\n",
       "      <td>0.614</td>\n",
       "      <td>6.0</td>\n",
       "      <td>-8.334</td>\n",
       "      <td>1</td>\n",
       "      <td>0.0525</td>\n",
       "      <td>0.486000</td>\n",
       "      <td>0.000196</td>\n",
       "      <td>0.3940</td>\n",
       "      <td>0.7870</td>\n",
       "      <td>147.681</td>\n",
       "      <td>109667.0</td>\n",
       "      <td>4</td>\n",
       "      <td>6.0</td>\n",
       "    </tr>\n",
       "    <tr>\n",
       "      <th>3</th>\n",
       "      <td>Deno</td>\n",
       "      <td>Lingo (feat. J.I &amp; Chunkz)</td>\n",
       "      <td>66.0</td>\n",
       "      <td>0.853</td>\n",
       "      <td>0.597</td>\n",
       "      <td>10.0</td>\n",
       "      <td>-6.528</td>\n",
       "      <td>0</td>\n",
       "      <td>0.0555</td>\n",
       "      <td>0.021200</td>\n",
       "      <td>NaN</td>\n",
       "      <td>0.1220</td>\n",
       "      <td>0.5690</td>\n",
       "      <td>107.033</td>\n",
       "      <td>173968.0</td>\n",
       "      <td>4</td>\n",
       "      <td>5.0</td>\n",
       "    </tr>\n",
       "    <tr>\n",
       "      <th>4</th>\n",
       "      <td>Red Hot Chili Peppers</td>\n",
       "      <td>Nobody Weird Like Me - Remastered</td>\n",
       "      <td>53.0</td>\n",
       "      <td>0.167</td>\n",
       "      <td>0.975</td>\n",
       "      <td>2.0</td>\n",
       "      <td>-4.279</td>\n",
       "      <td>1</td>\n",
       "      <td>0.2160</td>\n",
       "      <td>0.000169</td>\n",
       "      <td>0.016100</td>\n",
       "      <td>0.1720</td>\n",
       "      <td>0.0918</td>\n",
       "      <td>199.060</td>\n",
       "      <td>229960.0</td>\n",
       "      <td>4</td>\n",
       "      <td>10.0</td>\n",
       "    </tr>\n",
       "  </tbody>\n",
       "</table>\n",
       "</div>"
      ],
      "text/plain": [
       "             Artist Name                             Track Name  Popularity  \\\n",
       "0             Bruno Mars  That's What I Like (feat. Gucci Mane)        60.0   \n",
       "1                 Boston                           Hitch a Ride        54.0   \n",
       "2          The Raincoats                     No Side to Fall In        35.0   \n",
       "3                   Deno             Lingo (feat. J.I & Chunkz)        66.0   \n",
       "4  Red Hot Chili Peppers      Nobody Weird Like Me - Remastered        53.0   \n",
       "\n",
       "   danceability  energy   key  loudness  mode  speechiness  acousticness  \\\n",
       "0         0.854   0.564   1.0    -4.964     1       0.0485      0.017100   \n",
       "1         0.382   0.814   3.0    -7.230     1       0.0406      0.001100   \n",
       "2         0.434   0.614   6.0    -8.334     1       0.0525      0.486000   \n",
       "3         0.853   0.597  10.0    -6.528     0       0.0555      0.021200   \n",
       "4         0.167   0.975   2.0    -4.279     1       0.2160      0.000169   \n",
       "\n",
       "   instrumentalness  liveness  valence    tempo  duration_in min/ms  \\\n",
       "0               NaN    0.0849   0.8990  134.071            234596.0   \n",
       "1          0.004010    0.1010   0.5690  116.454            251733.0   \n",
       "2          0.000196    0.3940   0.7870  147.681            109667.0   \n",
       "3               NaN    0.1220   0.5690  107.033            173968.0   \n",
       "4          0.016100    0.1720   0.0918  199.060            229960.0   \n",
       "\n",
       "   time_signature  Class  \n",
       "0               4    5.0  \n",
       "1               4   10.0  \n",
       "2               4    6.0  \n",
       "3               4    5.0  \n",
       "4               4   10.0  "
      ]
     },
     "execution_count": 9,
     "metadata": {},
     "output_type": "execute_result"
    }
   ],
   "source": [
    "data.head()"
   ]
  },
  {
   "cell_type": "code",
   "execution_count": 10,
   "id": "f8d7382b-4332-4e62-b3ba-0292f97c4c6a",
   "metadata": {},
   "outputs": [
    {
     "data": {
      "text/plain": [
       "(25709, 17)"
      ]
     },
     "execution_count": 10,
     "metadata": {},
     "output_type": "execute_result"
    }
   ],
   "source": [
    "data.shape"
   ]
  },
  {
   "cell_type": "code",
   "execution_count": 11,
   "id": "76ca44ce-2cbd-4794-a2e0-980703f685e7",
   "metadata": {},
   "outputs": [
    {
     "data": {
      "text/html": [
       "<div>\n",
       "<style scoped>\n",
       "    .dataframe tbody tr th:only-of-type {\n",
       "        vertical-align: middle;\n",
       "    }\n",
       "\n",
       "    .dataframe tbody tr th {\n",
       "        vertical-align: top;\n",
       "    }\n",
       "\n",
       "    .dataframe thead th {\n",
       "        text-align: right;\n",
       "    }\n",
       "</style>\n",
       "<table border=\"1\" class=\"dataframe\">\n",
       "  <thead>\n",
       "    <tr style=\"text-align: right;\">\n",
       "      <th></th>\n",
       "      <th>Artist Name</th>\n",
       "      <th>Track Name</th>\n",
       "      <th>Popularity</th>\n",
       "      <th>danceability</th>\n",
       "      <th>energy</th>\n",
       "      <th>key</th>\n",
       "      <th>loudness</th>\n",
       "      <th>mode</th>\n",
       "      <th>speechiness</th>\n",
       "      <th>acousticness</th>\n",
       "      <th>instrumentalness</th>\n",
       "      <th>liveness</th>\n",
       "      <th>valence</th>\n",
       "      <th>tempo</th>\n",
       "      <th>duration_in min/ms</th>\n",
       "      <th>time_signature</th>\n",
       "      <th>Class</th>\n",
       "    </tr>\n",
       "  </thead>\n",
       "  <tbody>\n",
       "    <tr>\n",
       "      <th>17028</th>\n",
       "      <td>Shlomo Artzi</td>\n",
       "      <td>◊ê◊ó◊®◊ô ◊î◊õ◊ú ◊ê◊™ ◊©◊ô◊®</td>\n",
       "      <td>28.0</td>\n",
       "      <td>0.536</td>\n",
       "      <td>0.335</td>\n",
       "      <td>8.0</td>\n",
       "      <td>-12.395</td>\n",
       "      <td>0</td>\n",
       "      <td>0.0308</td>\n",
       "      <td>0.858000</td>\n",
       "      <td>0.023200</td>\n",
       "      <td>0.309</td>\n",
       "      <td>0.331</td>\n",
       "      <td>133.343</td>\n",
       "      <td>304400.0</td>\n",
       "      <td>4</td>\n",
       "      <td>10.0</td>\n",
       "    </tr>\n",
       "    <tr>\n",
       "      <th>24189</th>\n",
       "      <td>Midtown</td>\n",
       "      <td>Give It Up</td>\n",
       "      <td>32.0</td>\n",
       "      <td>0.457</td>\n",
       "      <td>0.922</td>\n",
       "      <td>10.0</td>\n",
       "      <td>-2.766</td>\n",
       "      <td>0</td>\n",
       "      <td>0.0689</td>\n",
       "      <td>0.000357</td>\n",
       "      <td>NaN</td>\n",
       "      <td>0.103</td>\n",
       "      <td>0.587</td>\n",
       "      <td>159.816</td>\n",
       "      <td>221800.0</td>\n",
       "      <td>4</td>\n",
       "      <td>NaN</td>\n",
       "    </tr>\n",
       "    <tr>\n",
       "      <th>22761</th>\n",
       "      <td>Slum Village</td>\n",
       "      <td>We Do It (Jazz Spastiks Remix)</td>\n",
       "      <td>45.0</td>\n",
       "      <td>0.782</td>\n",
       "      <td>0.713</td>\n",
       "      <td>7.0</td>\n",
       "      <td>-7.801</td>\n",
       "      <td>1</td>\n",
       "      <td>0.3300</td>\n",
       "      <td>0.358000</td>\n",
       "      <td>NaN</td>\n",
       "      <td>0.155</td>\n",
       "      <td>0.901</td>\n",
       "      <td>92.063</td>\n",
       "      <td>187942.0</td>\n",
       "      <td>4</td>\n",
       "      <td>NaN</td>\n",
       "    </tr>\n",
       "    <tr>\n",
       "      <th>10263</th>\n",
       "      <td>Corrosion Of Conformity</td>\n",
       "      <td>Stare Too Long</td>\n",
       "      <td>45.0</td>\n",
       "      <td>0.529</td>\n",
       "      <td>0.827</td>\n",
       "      <td>5.0</td>\n",
       "      <td>-7.619</td>\n",
       "      <td>1</td>\n",
       "      <td>0.0369</td>\n",
       "      <td>0.004340</td>\n",
       "      <td>0.000227</td>\n",
       "      <td>0.134</td>\n",
       "      <td>0.678</td>\n",
       "      <td>79.033</td>\n",
       "      <td>296813.0</td>\n",
       "      <td>4</td>\n",
       "      <td>8.0</td>\n",
       "    </tr>\n",
       "    <tr>\n",
       "      <th>17171</th>\n",
       "      <td>THE DRIVER ERA</td>\n",
       "      <td>Preacher Man</td>\n",
       "      <td>55.0</td>\n",
       "      <td>0.689</td>\n",
       "      <td>0.947</td>\n",
       "      <td>1.0</td>\n",
       "      <td>-3.926</td>\n",
       "      <td>1</td>\n",
       "      <td>0.0897</td>\n",
       "      <td>0.002090</td>\n",
       "      <td>NaN</td>\n",
       "      <td>0.228</td>\n",
       "      <td>0.393</td>\n",
       "      <td>119.993</td>\n",
       "      <td>219390.0</td>\n",
       "      <td>4</td>\n",
       "      <td>9.0</td>\n",
       "    </tr>\n",
       "  </tbody>\n",
       "</table>\n",
       "</div>"
      ],
      "text/plain": [
       "                   Artist Name                      Track Name  Popularity  \\\n",
       "17028             Shlomo Artzi     ◊ê◊ó◊®◊ô ◊î◊õ◊ú ◊ê◊™ ◊©◊ô◊®        28.0   \n",
       "24189                  Midtown                      Give It Up        32.0   \n",
       "22761             Slum Village  We Do It (Jazz Spastiks Remix)        45.0   \n",
       "10263  Corrosion Of Conformity                  Stare Too Long        45.0   \n",
       "17171           THE DRIVER ERA                    Preacher Man        55.0   \n",
       "\n",
       "       danceability  energy   key  loudness  mode  speechiness  acousticness  \\\n",
       "17028         0.536   0.335   8.0   -12.395     0       0.0308      0.858000   \n",
       "24189         0.457   0.922  10.0    -2.766     0       0.0689      0.000357   \n",
       "22761         0.782   0.713   7.0    -7.801     1       0.3300      0.358000   \n",
       "10263         0.529   0.827   5.0    -7.619     1       0.0369      0.004340   \n",
       "17171         0.689   0.947   1.0    -3.926     1       0.0897      0.002090   \n",
       "\n",
       "       instrumentalness  liveness  valence    tempo  duration_in min/ms  \\\n",
       "17028          0.023200     0.309    0.331  133.343            304400.0   \n",
       "24189               NaN     0.103    0.587  159.816            221800.0   \n",
       "22761               NaN     0.155    0.901   92.063            187942.0   \n",
       "10263          0.000227     0.134    0.678   79.033            296813.0   \n",
       "17171               NaN     0.228    0.393  119.993            219390.0   \n",
       "\n",
       "       time_signature  Class  \n",
       "17028               4   10.0  \n",
       "24189               4    NaN  \n",
       "22761               4    NaN  \n",
       "10263               4    8.0  \n",
       "17171               4    9.0  "
      ]
     },
     "execution_count": 11,
     "metadata": {},
     "output_type": "execute_result"
    }
   ],
   "source": [
    "data.sample(5)"
   ]
  },
  {
   "cell_type": "code",
   "execution_count": 12,
   "id": "c411679e-d71f-4513-8224-9a7c82faa624",
   "metadata": {},
   "outputs": [
    {
     "name": "stdout",
     "output_type": "stream",
     "text": [
      "<class 'pandas.core.frame.DataFrame'>\n",
      "RangeIndex: 25709 entries, 0 to 25708\n",
      "Data columns (total 17 columns):\n",
      " #   Column              Non-Null Count  Dtype  \n",
      "---  ------              --------------  -----  \n",
      " 0   Artist Name         25709 non-null  object \n",
      " 1   Track Name          25709 non-null  object \n",
      " 2   Popularity          25054 non-null  float64\n",
      " 3   danceability        25709 non-null  float64\n",
      " 4   energy              25709 non-null  float64\n",
      " 5   key                 22887 non-null  float64\n",
      " 6   loudness            25709 non-null  float64\n",
      " 7   mode                25709 non-null  int64  \n",
      " 8   speechiness         25709 non-null  float64\n",
      " 9   acousticness        25709 non-null  float64\n",
      " 10  instrumentalness    19423 non-null  float64\n",
      " 11  liveness            25709 non-null  float64\n",
      " 12  valence             25709 non-null  float64\n",
      " 13  tempo               25709 non-null  float64\n",
      " 14  duration_in min/ms  25709 non-null  float64\n",
      " 15  time_signature      25709 non-null  int64  \n",
      " 16  Class               17996 non-null  float64\n",
      "dtypes: float64(13), int64(2), object(2)\n",
      "memory usage: 3.3+ MB\n"
     ]
    }
   ],
   "source": [
    "data.info()"
   ]
  },
  {
   "cell_type": "code",
   "execution_count": 13,
   "id": "954cd219-e2a3-4ebb-89bd-c5a047db034e",
   "metadata": {},
   "outputs": [
    {
     "data": {
      "text/plain": [
       "Artist Name              0\n",
       "Track Name               0\n",
       "Popularity             655\n",
       "danceability             0\n",
       "energy                   0\n",
       "key                   2822\n",
       "loudness                 0\n",
       "mode                     0\n",
       "speechiness              0\n",
       "acousticness             0\n",
       "instrumentalness      6286\n",
       "liveness                 0\n",
       "valence                  0\n",
       "tempo                    0\n",
       "duration_in min/ms       0\n",
       "time_signature           0\n",
       "Class                 7713\n",
       "dtype: int64"
      ]
     },
     "execution_count": 13,
     "metadata": {},
     "output_type": "execute_result"
    }
   ],
   "source": [
    "data.isnull().sum()"
   ]
  },
  {
   "cell_type": "code",
   "execution_count": 14,
   "id": "8e1369d7-9172-4cd3-aa71-61bbc03a04d8",
   "metadata": {},
   "outputs": [
    {
     "data": {
      "text/html": [
       "<div>\n",
       "<style scoped>\n",
       "    .dataframe tbody tr th:only-of-type {\n",
       "        vertical-align: middle;\n",
       "    }\n",
       "\n",
       "    .dataframe tbody tr th {\n",
       "        vertical-align: top;\n",
       "    }\n",
       "\n",
       "    .dataframe thead th {\n",
       "        text-align: right;\n",
       "    }\n",
       "</style>\n",
       "<table border=\"1\" class=\"dataframe\">\n",
       "  <thead>\n",
       "    <tr style=\"text-align: right;\">\n",
       "      <th></th>\n",
       "      <th>Popularity</th>\n",
       "      <th>danceability</th>\n",
       "      <th>energy</th>\n",
       "      <th>key</th>\n",
       "      <th>loudness</th>\n",
       "      <th>mode</th>\n",
       "      <th>speechiness</th>\n",
       "      <th>acousticness</th>\n",
       "      <th>instrumentalness</th>\n",
       "      <th>liveness</th>\n",
       "      <th>valence</th>\n",
       "      <th>tempo</th>\n",
       "      <th>duration_in min/ms</th>\n",
       "      <th>time_signature</th>\n",
       "      <th>Class</th>\n",
       "    </tr>\n",
       "  </thead>\n",
       "  <tbody>\n",
       "    <tr>\n",
       "      <th>count</th>\n",
       "      <td>25054.000000</td>\n",
       "      <td>25709.000000</td>\n",
       "      <td>25709.000000</td>\n",
       "      <td>22887.000000</td>\n",
       "      <td>25709.000000</td>\n",
       "      <td>25709.00000</td>\n",
       "      <td>25709.000000</td>\n",
       "      <td>25709.000000</td>\n",
       "      <td>19423.000000</td>\n",
       "      <td>25709.000000</td>\n",
       "      <td>25709.000000</td>\n",
       "      <td>25709.000000</td>\n",
       "      <td>2.570900e+04</td>\n",
       "      <td>25709.000000</td>\n",
       "      <td>17996.000000</td>\n",
       "    </tr>\n",
       "    <tr>\n",
       "      <th>mean</th>\n",
       "      <td>44.648360</td>\n",
       "      <td>0.544836</td>\n",
       "      <td>0.662983</td>\n",
       "      <td>5.944073</td>\n",
       "      <td>-7.889735</td>\n",
       "      <td>0.63962</td>\n",
       "      <td>0.079810</td>\n",
       "      <td>0.245377</td>\n",
       "      <td>0.175318</td>\n",
       "      <td>0.196818</td>\n",
       "      <td>0.487282</td>\n",
       "      <td>122.729307</td>\n",
       "      <td>2.003485e+05</td>\n",
       "      <td>3.922245</td>\n",
       "      <td>6.695821</td>\n",
       "    </tr>\n",
       "    <tr>\n",
       "      <th>std</th>\n",
       "      <td>17.420299</td>\n",
       "      <td>0.165872</td>\n",
       "      <td>0.235204</td>\n",
       "      <td>3.209502</td>\n",
       "      <td>4.029280</td>\n",
       "      <td>0.48012</td>\n",
       "      <td>0.083771</td>\n",
       "      <td>0.309852</td>\n",
       "      <td>0.302269</td>\n",
       "      <td>0.159871</td>\n",
       "      <td>0.239539</td>\n",
       "      <td>29.617081</td>\n",
       "      <td>1.123260e+05</td>\n",
       "      <td>0.364073</td>\n",
       "      <td>3.206073</td>\n",
       "    </tr>\n",
       "    <tr>\n",
       "      <th>min</th>\n",
       "      <td>1.000000</td>\n",
       "      <td>0.000000</td>\n",
       "      <td>0.000020</td>\n",
       "      <td>1.000000</td>\n",
       "      <td>-39.952000</td>\n",
       "      <td>0.00000</td>\n",
       "      <td>0.000000</td>\n",
       "      <td>0.000000</td>\n",
       "      <td>0.000001</td>\n",
       "      <td>0.011900</td>\n",
       "      <td>0.000000</td>\n",
       "      <td>0.000000</td>\n",
       "      <td>5.016500e-01</td>\n",
       "      <td>0.000000</td>\n",
       "      <td>0.000000</td>\n",
       "    </tr>\n",
       "    <tr>\n",
       "      <th>25%</th>\n",
       "      <td>33.000000</td>\n",
       "      <td>0.434000</td>\n",
       "      <td>0.509000</td>\n",
       "      <td>3.000000</td>\n",
       "      <td>-9.532000</td>\n",
       "      <td>0.00000</td>\n",
       "      <td>0.034800</td>\n",
       "      <td>0.004370</td>\n",
       "      <td>0.000089</td>\n",
       "      <td>0.097700</td>\n",
       "      <td>0.300000</td>\n",
       "      <td>99.633000</td>\n",
       "      <td>1.660920e+05</td>\n",
       "      <td>4.000000</td>\n",
       "      <td>5.000000</td>\n",
       "    </tr>\n",
       "    <tr>\n",
       "      <th>50%</th>\n",
       "      <td>44.000000</td>\n",
       "      <td>0.546000</td>\n",
       "      <td>0.700000</td>\n",
       "      <td>6.000000</td>\n",
       "      <td>-6.988000</td>\n",
       "      <td>1.00000</td>\n",
       "      <td>0.047300</td>\n",
       "      <td>0.079800</td>\n",
       "      <td>0.003950</td>\n",
       "      <td>0.130000</td>\n",
       "      <td>0.482000</td>\n",
       "      <td>120.259000</td>\n",
       "      <td>2.090710e+05</td>\n",
       "      <td>4.000000</td>\n",
       "      <td>8.000000</td>\n",
       "    </tr>\n",
       "    <tr>\n",
       "      <th>75%</th>\n",
       "      <td>56.000000</td>\n",
       "      <td>0.660000</td>\n",
       "      <td>0.861000</td>\n",
       "      <td>9.000000</td>\n",
       "      <td>-5.188000</td>\n",
       "      <td>1.00000</td>\n",
       "      <td>0.083100</td>\n",
       "      <td>0.425000</td>\n",
       "      <td>0.188000</td>\n",
       "      <td>0.258000</td>\n",
       "      <td>0.672000</td>\n",
       "      <td>141.978000</td>\n",
       "      <td>2.521330e+05</td>\n",
       "      <td>4.000000</td>\n",
       "      <td>10.000000</td>\n",
       "    </tr>\n",
       "    <tr>\n",
       "      <th>max</th>\n",
       "      <td>100.000000</td>\n",
       "      <td>0.989000</td>\n",
       "      <td>1.000000</td>\n",
       "      <td>11.000000</td>\n",
       "      <td>1.355000</td>\n",
       "      <td>1.00000</td>\n",
       "      <td>0.960000</td>\n",
       "      <td>0.996000</td>\n",
       "      <td>0.996000</td>\n",
       "      <td>1.000000</td>\n",
       "      <td>0.986000</td>\n",
       "      <td>249.438000</td>\n",
       "      <td>1.561133e+06</td>\n",
       "      <td>5.000000</td>\n",
       "      <td>10.000000</td>\n",
       "    </tr>\n",
       "  </tbody>\n",
       "</table>\n",
       "</div>"
      ],
      "text/plain": [
       "         Popularity  danceability        energy           key      loudness  \\\n",
       "count  25054.000000  25709.000000  25709.000000  22887.000000  25709.000000   \n",
       "mean      44.648360      0.544836      0.662983      5.944073     -7.889735   \n",
       "std       17.420299      0.165872      0.235204      3.209502      4.029280   \n",
       "min        1.000000      0.000000      0.000020      1.000000    -39.952000   \n",
       "25%       33.000000      0.434000      0.509000      3.000000     -9.532000   \n",
       "50%       44.000000      0.546000      0.700000      6.000000     -6.988000   \n",
       "75%       56.000000      0.660000      0.861000      9.000000     -5.188000   \n",
       "max      100.000000      0.989000      1.000000     11.000000      1.355000   \n",
       "\n",
       "              mode   speechiness  acousticness  instrumentalness  \\\n",
       "count  25709.00000  25709.000000  25709.000000      19423.000000   \n",
       "mean       0.63962      0.079810      0.245377          0.175318   \n",
       "std        0.48012      0.083771      0.309852          0.302269   \n",
       "min        0.00000      0.000000      0.000000          0.000001   \n",
       "25%        0.00000      0.034800      0.004370          0.000089   \n",
       "50%        1.00000      0.047300      0.079800          0.003950   \n",
       "75%        1.00000      0.083100      0.425000          0.188000   \n",
       "max        1.00000      0.960000      0.996000          0.996000   \n",
       "\n",
       "           liveness       valence         tempo  duration_in min/ms  \\\n",
       "count  25709.000000  25709.000000  25709.000000        2.570900e+04   \n",
       "mean       0.196818      0.487282    122.729307        2.003485e+05   \n",
       "std        0.159871      0.239539     29.617081        1.123260e+05   \n",
       "min        0.011900      0.000000      0.000000        5.016500e-01   \n",
       "25%        0.097700      0.300000     99.633000        1.660920e+05   \n",
       "50%        0.130000      0.482000    120.259000        2.090710e+05   \n",
       "75%        0.258000      0.672000    141.978000        2.521330e+05   \n",
       "max        1.000000      0.986000    249.438000        1.561133e+06   \n",
       "\n",
       "       time_signature         Class  \n",
       "count    25709.000000  17996.000000  \n",
       "mean         3.922245      6.695821  \n",
       "std          0.364073      3.206073  \n",
       "min          0.000000      0.000000  \n",
       "25%          4.000000      5.000000  \n",
       "50%          4.000000      8.000000  \n",
       "75%          4.000000     10.000000  \n",
       "max          5.000000     10.000000  "
      ]
     },
     "execution_count": 14,
     "metadata": {},
     "output_type": "execute_result"
    }
   ],
   "source": [
    "data.describe()"
   ]
  },
  {
   "cell_type": "markdown",
   "id": "ca97a1bd-da3d-4597-b034-3d484d5d7e77",
   "metadata": {},
   "source": [
    "# Checking for outliers"
   ]
  },
  {
   "cell_type": "code",
   "execution_count": 15,
   "id": "fcae326a-1b1d-4753-ada1-33185a6895f6",
   "metadata": {},
   "outputs": [
    {
     "data": {
      "image/png": "[encoded data removed]",
      "text/plain": [
       "<Figure size 600x400 with 1 Axes>"
      ]
     },
     "metadata": {},
     "output_type": "display_data"
    },
    {
     "data": {
      "image/png": "[encoded data removed]",
      "text/plain": [
       "<Figure size 600x400 with 1 Axes>"
      ]
     },
     "metadata": {},
     "output_type": "display_data"
    },
    {
     "data": {
      "image/png": "[encoded data removed]",
      "text/plain": [
       "<Figure size 600x400 with 1 Axes>"
      ]
     },
     "metadata": {},
     "output_type": "display_data"
    },
    {
     "data": {
      "image/png": "[encoded data removed]",
      "text/plain": [
       "<Figure size 600x400 with 1 Axes>"
      ]
     },
     "metadata": {},
     "output_type": "display_data"
    },
    {
     "data": {
      "image/png": "[encoded data removed]",
      "text/plain": [
       "<Figure size 600x400 with 1 Axes>"
      ]
     },
     "metadata": {},
     "output_type": "display_data"
    },
    {
     "data": {
      "image/png": "[encoded data removed]",
      "text/plain": [
       "<Figure size 600x400 with 1 Axes>"
      ]
     },
     "metadata": {},
     "output_type": "display_data"
    },
    {
     "data": {
      "image/png": "[encoded data removed]",
      "text/plain": [
       "<Figure size 600x400 with 1 Axes>"
      ]
     },
     "metadata": {},
     "output_type": "display_data"
    },
    {
     "data": {
      "image/png": "[encoded data removed]",
      "text/plain": [
       "<Figure size 600x400 with 1 Axes>"
      ]
     },
     "metadata": {},
     "output_type": "display_data"
    },
    {
     "data": {
      "image/png": "[encoded data removed]",
      "text/plain": [
       "<Figure size 600x400 with 1 Axes>"
      ]
     },
     "metadata": {},
     "output_type": "display_data"
    },
    {
     "data": {
      "image/png": "[encoded data removed]",
      "text/plain": [
       "<Figure size 600x400 with 1 Axes>"
      ]
     },
     "metadata": {},
     "output_type": "display_data"
    },
    {
     "data": {
      "image/png": "[encoded data removed]",
      "text/plain": [
       "<Figure size 600x400 with 1 Axes>"
      ]
     },
     "metadata": {},
     "output_type": "display_data"
    },
    {
     "data": {
      "image/png": "[encoded data removed]",
      "text/plain": [
       "<Figure size 600x400 with 1 Axes>"
      ]
     },
     "metadata": {},
     "output_type": "display_data"
    },
    {
     "data": {
      "image/png": "[encoded data removed]",
      "text/plain": [
       "<Figure size 600x400 with 1 Axes>"
      ]
     },
     "metadata": {},
     "output_type": "display_data"
    },
    {
     "data": {
      "image/png": "[encoded data removed]",
      "text/plain": [
       "<Figure size 600x400 with 1 Axes>"
      ]
     },
     "metadata": {},
     "output_type": "display_data"
    }
   ],
   "source": [
    "\n",
    "cols = ['Popularity', 'danceability', 'energy', 'key', 'loudness', 'mode', 'speechiness', \n",
    "        'acousticness', 'instrumentalness', 'liveness', 'valence', 'tempo', \n",
    "        'duration_in min/ms', 'time_signature']\n",
    "\n",
    "# Create separate boxplots for each column\n",
    "for col in cols:\n",
    "    plt.figure(figsize=(6, 4))\n",
    "    sns.boxplot(y=data[col])\n",
    "    plt.title(f'Boxplot of {col}')\n",
    "    plt.show()"
   ]
  },
  {
   "cell_type": "markdown",
   "id": "e973be7c-5d26-485d-ba18-9d54a933fe3c",
   "metadata": {},
   "source": [
    "# Handling Outliers using Capping"
   ]
  },
  {
   "cell_type": "code",
   "execution_count": 18,
   "id": "ee068e27-7d30-49ae-aa2d-667e5f85c7ea",
   "metadata": {},
   "outputs": [],
   "source": [
    "Q1 = data['Popularity'].quantile(0.25)\n",
    "Q3 = data['Popularity'].quantile(0.75)\n",
    "IQR = Q3 - Q1\n",
    "\n",
    "# Define lower and upper bounds\n",
    "lower_bound = Q1 - 1.5 * IQR\n",
    "upper_bound = Q3 + 1.5 * IQR\n",
    "\n",
    "# Cap values instead of removing them\n",
    "data['Popularity'] = data['Popularity'].clip(lower=lower_bound, upper=upper_bound)"
   ]
  },
  {
   "cell_type": "code",
   "execution_count": 19,
   "id": "460f40a6-4e16-4903-b85f-ee78ef285a85",
   "metadata": {},
   "outputs": [],
   "source": [
    "Q1 = data['danceability'].quantile(0.25)\n",
    "Q3 = data['danceability'].quantile(0.75)\n",
    "IQR = Q3 - Q1\n",
    "\n",
    "# Define lower and upper bounds\n",
    "lower_bound = Q1 - 1.5 * IQR\n",
    "upper_bound = Q3 + 1.5 * IQR\n",
    "\n",
    "# Cap values instead of removing them\n",
    "data['danceability'] = data['danceability'].clip(lower=lower_bound, upper=upper_bound)"
   ]
  },
  {
   "cell_type": "code",
   "execution_count": 20,
   "id": "656e49f4-9b46-41d8-ada2-ff4a29bf3e8a",
   "metadata": {},
   "outputs": [],
   "source": [
    "Q1 = data['loudness'].quantile(0.25)\n",
    "Q3 = data['loudness'].quantile(0.75)\n",
    "IQR = Q3 - Q1\n",
    "\n",
    "# Define lower and upper bounds\n",
    "lower_bound = Q1 - 1.5 * IQR\n",
    "upper_bound = Q3 + 1.5 * IQR\n",
    "\n",
    "# Cap values instead of removing them\n",
    "data['loudness'] = data['loudness'].clip(lower=lower_bound, upper=upper_bound)"
   ]
  },
  {
   "cell_type": "code",
   "execution_count": 21,
   "id": "79d9b13c-f398-448d-b08e-6130814c361d",
   "metadata": {},
   "outputs": [],
   "source": [
    "Q1 = data['speechiness'].quantile(0.25)\n",
    "Q3 = data['speechiness'].quantile(0.75)\n",
    "IQR = Q3 - Q1\n",
    "\n",
    "# Define lower and upper bounds\n",
    "lower_bound = Q1 - 1.5 * IQR\n",
    "upper_bound = Q3 + 1.5 * IQR\n",
    "\n",
    "# Cap values instead of removing them\n",
    "data['speechiness'] = data['speechiness'].clip(lower=lower_bound, upper=upper_bound)"
   ]
  },
  {
   "cell_type": "code",
   "execution_count": 22,
   "id": "bebb5880-28ba-46c0-b66f-1d270ec30ba1",
   "metadata": {},
   "outputs": [],
   "source": [
    "Q1 = data['instrumentalness'].quantile(0.25)\n",
    "Q3 = data['instrumentalness'].quantile(0.75)\n",
    "IQR = Q3 - Q1\n",
    "\n",
    "# Define lower and upper bounds\n",
    "lower_bound = Q1 - 1.5 * IQR\n",
    "upper_bound = Q3 + 1.5 * IQR\n",
    "\n",
    "# Cap values instead of removing them\n",
    "data['instrumentalness'] = data['instrumentalness'].clip(lower=lower_bound, upper=upper_bound)"
   ]
  },
  {
   "cell_type": "code",
   "execution_count": 23,
   "id": "da5b1c05-84a3-4516-901a-2662362db942",
   "metadata": {},
   "outputs": [],
   "source": [
    "Q1 = data['liveness'].quantile(0.25)\n",
    "Q3 = data['liveness'].quantile(0.75)\n",
    "IQR = Q3 - Q1\n",
    "\n",
    "# Define lower and upper bounds\n",
    "lower_bound = Q1 - 1.5 * IQR\n",
    "upper_bound = Q3 + 1.5 * IQR\n",
    "\n",
    "# Cap values instead of removing them\n",
    "data['liveness'] = data['liveness'].clip(lower=lower_bound, upper=upper_bound)"
   ]
  },
  {
   "cell_type": "code",
   "execution_count": 24,
   "id": "312af5e0-22eb-46cc-b3b1-094e39488a84",
   "metadata": {},
   "outputs": [],
   "source": [
    "Q1 = data['tempo'].quantile(0.25)\n",
    "Q3 = data['tempo'].quantile(0.75)\n",
    "IQR = Q3 - Q1\n",
    "\n",
    "# Define lower and upper bounds\n",
    "lower_bound = Q1 - 1.5 * IQR\n",
    "upper_bound = Q3 + 1.5 * IQR\n",
    "\n",
    "# Cap values instead of removing them\n",
    "data['tempo'] = data['tempo'].clip(lower=lower_bound, upper=upper_bound)"
   ]
  },
  {
   "cell_type": "code",
   "execution_count": 25,
   "id": "a4d7cd5e-ef17-423c-b340-dc8d9397b88e",
   "metadata": {},
   "outputs": [],
   "source": [
    "Q1 = data['duration_in min/ms'].quantile(0.25)\n",
    "Q3 = data['duration_in min/ms'].quantile(0.75)\n",
    "IQR = Q3 - Q1\n",
    "\n",
    "# Define lower and upper bounds\n",
    "lower_bound = Q1 - 1.5 * IQR\n",
    "upper_bound = Q3 + 1.5 * IQR\n",
    "\n",
    "# Cap values instead of removing them\n",
    "data['duration_in min/ms'] = data['duration_in min/ms'].clip(lower=lower_bound, upper=upper_bound)"
   ]
  },
  {
   "cell_type": "code",
   "execution_count": 29,
   "id": "6e617512-eacb-43ac-9f76-6b87ebf23c2d",
   "metadata": {},
   "outputs": [
    {
     "data": {
      "text/plain": [
       "np.float64(44.6392192863415)"
      ]
     },
     "execution_count": 29,
     "metadata": {},
     "output_type": "execute_result"
    }
   ],
   "source": [
    "data['Popularity'].mean()"
   ]
  },
  {
   "cell_type": "code",
   "execution_count": 30,
   "id": "0208e8ee-3245-4a5b-bbbd-daec7166c994",
   "metadata": {},
   "outputs": [
    {
     "data": {
      "text/plain": [
       "np.float64(44.0)"
      ]
     },
     "execution_count": 30,
     "metadata": {},
     "output_type": "execute_result"
    }
   ],
   "source": [
    "data['Popularity'].median()"
   ]
  },
  {
   "cell_type": "code",
   "execution_count": 31,
   "id": "8e0fc52c-0208-4e91-914e-9a5e650bd38e",
   "metadata": {},
   "outputs": [],
   "source": [
    "data['Popularity'] = data['Popularity'].fillna(data['Popularity'].mean())\n"
   ]
  },
  {
   "cell_type": "code",
   "execution_count": 32,
   "id": "ff6c4f12-a85c-4ddf-b5f3-d70ee07cc2c4",
   "metadata": {},
   "outputs": [
    {
     "data": {
      "text/plain": [
       "np.float64(5.944073054572465)"
      ]
     },
     "execution_count": 32,
     "metadata": {},
     "output_type": "execute_result"
    }
   ],
   "source": [
    "data['key'].mean()"
   ]
  },
  {
   "cell_type": "code",
   "execution_count": 34,
   "id": "7c3177e8-8b78-4c9b-a467-44a3fb5b2d35",
   "metadata": {},
   "outputs": [
    {
     "data": {
      "text/plain": [
       "np.float64(6.0)"
      ]
     },
     "execution_count": 34,
     "metadata": {},
     "output_type": "execute_result"
    }
   ],
   "source": [
    "data['key'].median()"
   ]
  },
  {
   "cell_type": "code",
   "execution_count": 35,
   "id": "b98049e5-f02a-4bea-a175-ce3bb3babfaf",
   "metadata": {},
   "outputs": [],
   "source": [
    "data['key'] = data['key'].fillna(data['key'].mean())\n"
   ]
  },
  {
   "cell_type": "code",
   "execution_count": 36,
   "id": "4353305f-a472-434c-8eaf-d98f7b6a70dc",
   "metadata": {},
   "outputs": [
    {
     "data": {
      "text/plain": [
       "np.float64(0.11910914171703652)"
      ]
     },
     "execution_count": 36,
     "metadata": {},
     "output_type": "execute_result"
    }
   ],
   "source": [
    "data['instrumentalness'].mean()"
   ]
  },
  {
   "cell_type": "code",
   "execution_count": 37,
   "id": "f8c7daa1-1635-49b1-b49c-35c2a7042a14",
   "metadata": {},
   "outputs": [
    {
     "data": {
      "text/plain": [
       "np.float64(0.00395)"
      ]
     },
     "execution_count": 37,
     "metadata": {},
     "output_type": "execute_result"
    }
   ],
   "source": [
    "data['instrumentalness'].median()"
   ]
  },
  {
   "cell_type": "code",
   "execution_count": 38,
   "id": "aa613e8d-ca47-45da-8312-9da6d97e551a",
   "metadata": {},
   "outputs": [
    {
     "data": {
      "text/plain": [
       "np.float64(0.18539889169256613)"
      ]
     },
     "execution_count": 38,
     "metadata": {},
     "output_type": "execute_result"
    }
   ],
   "source": [
    "data['instrumentalness'].std()"
   ]
  },
  {
   "cell_type": "code",
   "execution_count": 39,
   "id": "6f139003-b24d-44d5-bd0d-da7171679ec4",
   "metadata": {},
   "outputs": [],
   "source": [
    "data['instrumentalness'] = data['instrumentalness'].fillna(data['instrumentalness'].mean())\n"
   ]
  },
  {
   "cell_type": "code",
   "execution_count": 40,
   "id": "39cf3bc6-5d3a-408b-95be-cf71486403b6",
   "metadata": {},
   "outputs": [
    {
     "data": {
      "text/plain": [
       "Artist Name              0\n",
       "Track Name               0\n",
       "Popularity               0\n",
       "danceability             0\n",
       "energy                   0\n",
       "key                      0\n",
       "loudness                 0\n",
       "mode                     0\n",
       "speechiness              0\n",
       "acousticness             0\n",
       "instrumentalness         0\n",
       "liveness                 0\n",
       "valence                  0\n",
       "tempo                    0\n",
       "duration_in min/ms       0\n",
       "time_signature           0\n",
       "Class                 7713\n",
       "dtype: int64"
      ]
     },
     "execution_count": 40,
     "metadata": {},
     "output_type": "execute_result"
    }
   ],
   "source": [
    "data.isnull().sum()"
   ]
  },
  {
   "cell_type": "code",
   "execution_count": 41,
   "id": "dca1d1ea-7ce4-488c-8cb1-84441163266f",
   "metadata": {},
   "outputs": [
    {
     "data": {
      "text/plain": [
       "np.float64(6.695821293620805)"
      ]
     },
     "execution_count": 41,
     "metadata": {},
     "output_type": "execute_result"
    }
   ],
   "source": [
    "data['Class'].mean()"
   ]
  },
  {
   "cell_type": "code",
   "execution_count": 43,
   "id": "18ed206b-dfc2-4be7-9f47-7b105ae073fe",
   "metadata": {},
   "outputs": [
    {
     "data": {
      "text/plain": [
       "np.float64(8.0)"
      ]
     },
     "execution_count": 43,
     "metadata": {},
     "output_type": "execute_result"
    }
   ],
   "source": [
    "data['Class'].median()"
   ]
  },
  {
   "cell_type": "code",
   "execution_count": 44,
   "id": "8a1015a4-e873-4cdc-9a68-fe999550331e",
   "metadata": {},
   "outputs": [
    {
     "data": {
      "text/plain": [
       "np.float64(3.2060734057470737)"
      ]
     },
     "execution_count": 44,
     "metadata": {},
     "output_type": "execute_result"
    }
   ],
   "source": [
    "data['Class'].std()"
   ]
  },
  {
   "cell_type": "code",
   "execution_count": 47,
   "id": "6390ef7b-fcaa-4b93-9eb4-e3556061c04b",
   "metadata": {},
   "outputs": [
    {
     "data": {
      "image/png": "[encoded data removed]",
      "text/plain": [
       "<Figure size 600x400 with 1 Axes>"
      ]
     },
     "metadata": {},
     "output_type": "display_data"
    }
   ],
   "source": [
    "plt.figure(figsize=(6, 4))\n",
    "sns.boxplot(y=data['Class'])\n",
    "plt.title(\"Boxplot of Class\")\n",
    "plt.show()"
   ]
  },
  {
   "cell_type": "code",
   "execution_count": null,
   "id": "8223831a-eea1-4711-b87c-38674c3417a4",
   "metadata": {},
   "outputs": [],
   "source": []
  }
 ],
 "metadata": {
  "kernelspec": {
   "display_name": "Python 3 (ipykernel)",
   "language": "python",
   "name": "python3"
  },
  "language_info": {
   "codemirror_mode": {
    "name": "ipython",
    "version": 3
   },
   "file_extension": ".py",
   "mimetype": "text/x-python",
   "name": "python",
   "nbconvert_exporter": "python",
   "pygments_lexer": "ipython3",
   "version": "3.12.3"
  }
 },
 "nbformat": 4,
 "nbformat_minor": 5
}
